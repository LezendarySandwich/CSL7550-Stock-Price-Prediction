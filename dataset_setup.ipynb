{
  "nbformat": 4,
  "nbformat_minor": 0,
  "metadata": {
    "colab": {
      "name": "dataset_setup.ipynb",
      "provenance": [],
      "collapsed_sections": [],
      "include_colab_link": true
    },
    "kernelspec": {
      "name": "python3",
      "display_name": "Python 3"
    },
    "language_info": {
      "name": "python"
    },
    "widgets": {
      "application/vnd.jupyter.widget-state+json": {
        "8ea03f98ad32413eb1e196999ef58303": {
          "model_module": "@jupyter-widgets/controls",
          "model_name": "HBoxModel",
          "model_module_version": "1.5.0",
          "state": {
            "_view_name": "HBoxView",
            "_dom_classes": [],
            "_model_name": "HBoxModel",
            "_view_module": "@jupyter-widgets/controls",
            "_model_module_version": "1.5.0",
            "_view_count": null,
            "_view_module_version": "1.5.0",
            "box_style": "",
            "layout": "IPY_MODEL_e64f175e79434fc88a4cc2415f3726d5",
            "_model_module": "@jupyter-widgets/controls",
            "children": [
              "IPY_MODEL_5f747b95cd1745288de4cec166a19409",
              "IPY_MODEL_e5a49d36d7624069a3003190a4765809",
              "IPY_MODEL_d0c129525c7f42a487d082e21c017c74"
            ]
          }
        },
        "e64f175e79434fc88a4cc2415f3726d5": {
          "model_module": "@jupyter-widgets/base",
          "model_name": "LayoutModel",
          "model_module_version": "1.2.0",
          "state": {
            "_view_name": "LayoutView",
            "grid_template_rows": null,
            "right": null,
            "justify_content": null,
            "_view_module": "@jupyter-widgets/base",
            "overflow": null,
            "_model_module_version": "1.2.0",
            "_view_count": null,
            "flex_flow": null,
            "width": null,
            "min_width": null,
            "border": null,
            "align_items": null,
            "bottom": null,
            "_model_module": "@jupyter-widgets/base",
            "top": null,
            "grid_column": null,
            "overflow_y": null,
            "overflow_x": null,
            "grid_auto_flow": null,
            "grid_area": null,
            "grid_template_columns": null,
            "flex": null,
            "_model_name": "LayoutModel",
            "justify_items": null,
            "grid_row": null,
            "max_height": null,
            "align_content": null,
            "visibility": null,
            "align_self": null,
            "height": null,
            "min_height": null,
            "padding": null,
            "grid_auto_rows": null,
            "grid_gap": null,
            "max_width": null,
            "order": null,
            "_view_module_version": "1.2.0",
            "grid_template_areas": null,
            "object_position": null,
            "object_fit": null,
            "grid_auto_columns": null,
            "margin": null,
            "display": null,
            "left": null
          }
        },
        "5f747b95cd1745288de4cec166a19409": {
          "model_module": "@jupyter-widgets/controls",
          "model_name": "HTMLModel",
          "model_module_version": "1.5.0",
          "state": {
            "_view_name": "HTMLView",
            "style": "IPY_MODEL_cd9bb03db0ff492cb4179183d519d700",
            "_dom_classes": [],
            "description": "",
            "_model_name": "HTMLModel",
            "placeholder": "​",
            "_view_module": "@jupyter-widgets/controls",
            "_model_module_version": "1.5.0",
            "value": "",
            "_view_count": null,
            "_view_module_version": "1.5.0",
            "description_tooltip": null,
            "_model_module": "@jupyter-widgets/controls",
            "layout": "IPY_MODEL_be77b29e0fe242798259a8842863747b"
          }
        },
        "e5a49d36d7624069a3003190a4765809": {
          "model_module": "@jupyter-widgets/controls",
          "model_name": "FloatProgressModel",
          "model_module_version": "1.5.0",
          "state": {
            "_view_name": "ProgressView",
            "style": "IPY_MODEL_214e03bfec344b8f8bfa587080a3a4d0",
            "_dom_classes": [],
            "description": "",
            "_model_name": "FloatProgressModel",
            "bar_style": "success",
            "max": 1,
            "_view_module": "@jupyter-widgets/controls",
            "_model_module_version": "1.5.0",
            "value": 1,
            "_view_count": null,
            "_view_module_version": "1.5.0",
            "orientation": "horizontal",
            "min": 0,
            "description_tooltip": null,
            "_model_module": "@jupyter-widgets/controls",
            "layout": "IPY_MODEL_c2a32df86d3543a78add16b70de90a1b"
          }
        },
        "d0c129525c7f42a487d082e21c017c74": {
          "model_module": "@jupyter-widgets/controls",
          "model_name": "HTMLModel",
          "model_module_version": "1.5.0",
          "state": {
            "_view_name": "HTMLView",
            "style": "IPY_MODEL_3c4dc74fd9804d1b90a4e986c4867162",
            "_dom_classes": [],
            "description": "",
            "_model_name": "HTMLModel",
            "placeholder": "​",
            "_view_module": "@jupyter-widgets/controls",
            "_model_module_version": "1.5.0",
            "value": " 1/? [00:02&lt;00:00,  2.29s/it]",
            "_view_count": null,
            "_view_module_version": "1.5.0",
            "description_tooltip": null,
            "_model_module": "@jupyter-widgets/controls",
            "layout": "IPY_MODEL_a3636450ec6c48118937ddc45b7087ea"
          }
        },
        "cd9bb03db0ff492cb4179183d519d700": {
          "model_module": "@jupyter-widgets/controls",
          "model_name": "DescriptionStyleModel",
          "model_module_version": "1.5.0",
          "state": {
            "_view_name": "StyleView",
            "_model_name": "DescriptionStyleModel",
            "description_width": "",
            "_view_module": "@jupyter-widgets/base",
            "_model_module_version": "1.5.0",
            "_view_count": null,
            "_view_module_version": "1.2.0",
            "_model_module": "@jupyter-widgets/controls"
          }
        },
        "be77b29e0fe242798259a8842863747b": {
          "model_module": "@jupyter-widgets/base",
          "model_name": "LayoutModel",
          "model_module_version": "1.2.0",
          "state": {
            "_view_name": "LayoutView",
            "grid_template_rows": null,
            "right": null,
            "justify_content": null,
            "_view_module": "@jupyter-widgets/base",
            "overflow": null,
            "_model_module_version": "1.2.0",
            "_view_count": null,
            "flex_flow": null,
            "width": null,
            "min_width": null,
            "border": null,
            "align_items": null,
            "bottom": null,
            "_model_module": "@jupyter-widgets/base",
            "top": null,
            "grid_column": null,
            "overflow_y": null,
            "overflow_x": null,
            "grid_auto_flow": null,
            "grid_area": null,
            "grid_template_columns": null,
            "flex": null,
            "_model_name": "LayoutModel",
            "justify_items": null,
            "grid_row": null,
            "max_height": null,
            "align_content": null,
            "visibility": null,
            "align_self": null,
            "height": null,
            "min_height": null,
            "padding": null,
            "grid_auto_rows": null,
            "grid_gap": null,
            "max_width": null,
            "order": null,
            "_view_module_version": "1.2.0",
            "grid_template_areas": null,
            "object_position": null,
            "object_fit": null,
            "grid_auto_columns": null,
            "margin": null,
            "display": null,
            "left": null
          }
        },
        "214e03bfec344b8f8bfa587080a3a4d0": {
          "model_module": "@jupyter-widgets/controls",
          "model_name": "ProgressStyleModel",
          "model_module_version": "1.5.0",
          "state": {
            "_view_name": "StyleView",
            "_model_name": "ProgressStyleModel",
            "description_width": "",
            "_view_module": "@jupyter-widgets/base",
            "_model_module_version": "1.5.0",
            "_view_count": null,
            "_view_module_version": "1.2.0",
            "bar_color": null,
            "_model_module": "@jupyter-widgets/controls"
          }
        },
        "c2a32df86d3543a78add16b70de90a1b": {
          "model_module": "@jupyter-widgets/base",
          "model_name": "LayoutModel",
          "model_module_version": "1.2.0",
          "state": {
            "_view_name": "LayoutView",
            "grid_template_rows": null,
            "right": null,
            "justify_content": null,
            "_view_module": "@jupyter-widgets/base",
            "overflow": null,
            "_model_module_version": "1.2.0",
            "_view_count": null,
            "flex_flow": null,
            "width": "20px",
            "min_width": null,
            "border": null,
            "align_items": null,
            "bottom": null,
            "_model_module": "@jupyter-widgets/base",
            "top": null,
            "grid_column": null,
            "overflow_y": null,
            "overflow_x": null,
            "grid_auto_flow": null,
            "grid_area": null,
            "grid_template_columns": null,
            "flex": null,
            "_model_name": "LayoutModel",
            "justify_items": null,
            "grid_row": null,
            "max_height": null,
            "align_content": null,
            "visibility": null,
            "align_self": null,
            "height": null,
            "min_height": null,
            "padding": null,
            "grid_auto_rows": null,
            "grid_gap": null,
            "max_width": null,
            "order": null,
            "_view_module_version": "1.2.0",
            "grid_template_areas": null,
            "object_position": null,
            "object_fit": null,
            "grid_auto_columns": null,
            "margin": null,
            "display": null,
            "left": null
          }
        },
        "3c4dc74fd9804d1b90a4e986c4867162": {
          "model_module": "@jupyter-widgets/controls",
          "model_name": "DescriptionStyleModel",
          "model_module_version": "1.5.0",
          "state": {
            "_view_name": "StyleView",
            "_model_name": "DescriptionStyleModel",
            "description_width": "",
            "_view_module": "@jupyter-widgets/base",
            "_model_module_version": "1.5.0",
            "_view_count": null,
            "_view_module_version": "1.2.0",
            "_model_module": "@jupyter-widgets/controls"
          }
        },
        "a3636450ec6c48118937ddc45b7087ea": {
          "model_module": "@jupyter-widgets/base",
          "model_name": "LayoutModel",
          "model_module_version": "1.2.0",
          "state": {
            "_view_name": "LayoutView",
            "grid_template_rows": null,
            "right": null,
            "justify_content": null,
            "_view_module": "@jupyter-widgets/base",
            "overflow": null,
            "_model_module_version": "1.2.0",
            "_view_count": null,
            "flex_flow": null,
            "width": null,
            "min_width": null,
            "border": null,
            "align_items": null,
            "bottom": null,
            "_model_module": "@jupyter-widgets/base",
            "top": null,
            "grid_column": null,
            "overflow_y": null,
            "overflow_x": null,
            "grid_auto_flow": null,
            "grid_area": null,
            "grid_template_columns": null,
            "flex": null,
            "_model_name": "LayoutModel",
            "justify_items": null,
            "grid_row": null,
            "max_height": null,
            "align_content": null,
            "visibility": null,
            "align_self": null,
            "height": null,
            "min_height": null,
            "padding": null,
            "grid_auto_rows": null,
            "grid_gap": null,
            "max_width": null,
            "order": null,
            "_view_module_version": "1.2.0",
            "grid_template_areas": null,
            "object_position": null,
            "object_fit": null,
            "grid_auto_columns": null,
            "margin": null,
            "display": null,
            "left": null
          }
        },
        "da79ee71016849edaa949d8ab80f75ce": {
          "model_module": "@jupyter-widgets/controls",
          "model_name": "HBoxModel",
          "model_module_version": "1.5.0",
          "state": {
            "_view_name": "HBoxView",
            "_dom_classes": [],
            "_model_name": "HBoxModel",
            "_view_module": "@jupyter-widgets/controls",
            "_model_module_version": "1.5.0",
            "_view_count": null,
            "_view_module_version": "1.5.0",
            "box_style": "",
            "layout": "IPY_MODEL_8444759074c64537bbfe8d44e2769a57",
            "_model_module": "@jupyter-widgets/controls",
            "children": [
              "IPY_MODEL_ea945b9e00ac49ae881165c10485c0fd",
              "IPY_MODEL_03d4a35c8ebc438198304f5b25927d83",
              "IPY_MODEL_a52cc7bf783d44128a2854b41f8b1b3d"
            ]
          }
        },
        "8444759074c64537bbfe8d44e2769a57": {
          "model_module": "@jupyter-widgets/base",
          "model_name": "LayoutModel",
          "model_module_version": "1.2.0",
          "state": {
            "_view_name": "LayoutView",
            "grid_template_rows": null,
            "right": null,
            "justify_content": null,
            "_view_module": "@jupyter-widgets/base",
            "overflow": null,
            "_model_module_version": "1.2.0",
            "_view_count": null,
            "flex_flow": null,
            "width": null,
            "min_width": null,
            "border": null,
            "align_items": null,
            "bottom": null,
            "_model_module": "@jupyter-widgets/base",
            "top": null,
            "grid_column": null,
            "overflow_y": null,
            "overflow_x": null,
            "grid_auto_flow": null,
            "grid_area": null,
            "grid_template_columns": null,
            "flex": null,
            "_model_name": "LayoutModel",
            "justify_items": null,
            "grid_row": null,
            "max_height": null,
            "align_content": null,
            "visibility": null,
            "align_self": null,
            "height": null,
            "min_height": null,
            "padding": null,
            "grid_auto_rows": null,
            "grid_gap": null,
            "max_width": null,
            "order": null,
            "_view_module_version": "1.2.0",
            "grid_template_areas": null,
            "object_position": null,
            "object_fit": null,
            "grid_auto_columns": null,
            "margin": null,
            "display": null,
            "left": null
          }
        },
        "ea945b9e00ac49ae881165c10485c0fd": {
          "model_module": "@jupyter-widgets/controls",
          "model_name": "HTMLModel",
          "model_module_version": "1.5.0",
          "state": {
            "_view_name": "HTMLView",
            "style": "IPY_MODEL_37ae9d2880e04281982e83a1d00262de",
            "_dom_classes": [],
            "description": "",
            "_model_name": "HTMLModel",
            "placeholder": "​",
            "_view_module": "@jupyter-widgets/controls",
            "_model_module_version": "1.5.0",
            "value": "100%",
            "_view_count": null,
            "_view_module_version": "1.5.0",
            "description_tooltip": null,
            "_model_module": "@jupyter-widgets/controls",
            "layout": "IPY_MODEL_bb5e3ab9f657483ea882b2dd56acbd69"
          }
        },
        "03d4a35c8ebc438198304f5b25927d83": {
          "model_module": "@jupyter-widgets/controls",
          "model_name": "FloatProgressModel",
          "model_module_version": "1.5.0",
          "state": {
            "_view_name": "ProgressView",
            "style": "IPY_MODEL_c251e3fd613a4206b6007670a5bc1d4c",
            "_dom_classes": [],
            "description": "",
            "_model_name": "FloatProgressModel",
            "bar_style": "success",
            "max": 3,
            "_view_module": "@jupyter-widgets/controls",
            "_model_module_version": "1.5.0",
            "value": 3,
            "_view_count": null,
            "_view_module_version": "1.5.0",
            "orientation": "horizontal",
            "min": 0,
            "description_tooltip": null,
            "_model_module": "@jupyter-widgets/controls",
            "layout": "IPY_MODEL_97609a9ff19243c9991c72cf93ad5896"
          }
        },
        "a52cc7bf783d44128a2854b41f8b1b3d": {
          "model_module": "@jupyter-widgets/controls",
          "model_name": "HTMLModel",
          "model_module_version": "1.5.0",
          "state": {
            "_view_name": "HTMLView",
            "style": "IPY_MODEL_29add3c5cfa94cf0a25c6fcce3fe5e03",
            "_dom_classes": [],
            "description": "",
            "_model_name": "HTMLModel",
            "placeholder": "​",
            "_view_module": "@jupyter-widgets/controls",
            "_model_module_version": "1.5.0",
            "value": " 3/3 [00:02&lt;00:00,  1.39it/s]",
            "_view_count": null,
            "_view_module_version": "1.5.0",
            "description_tooltip": null,
            "_model_module": "@jupyter-widgets/controls",
            "layout": "IPY_MODEL_8eca61c84a034422abdbe5081d346da9"
          }
        },
        "37ae9d2880e04281982e83a1d00262de": {
          "model_module": "@jupyter-widgets/controls",
          "model_name": "DescriptionStyleModel",
          "model_module_version": "1.5.0",
          "state": {
            "_view_name": "StyleView",
            "_model_name": "DescriptionStyleModel",
            "description_width": "",
            "_view_module": "@jupyter-widgets/base",
            "_model_module_version": "1.5.0",
            "_view_count": null,
            "_view_module_version": "1.2.0",
            "_model_module": "@jupyter-widgets/controls"
          }
        },
        "bb5e3ab9f657483ea882b2dd56acbd69": {
          "model_module": "@jupyter-widgets/base",
          "model_name": "LayoutModel",
          "model_module_version": "1.2.0",
          "state": {
            "_view_name": "LayoutView",
            "grid_template_rows": null,
            "right": null,
            "justify_content": null,
            "_view_module": "@jupyter-widgets/base",
            "overflow": null,
            "_model_module_version": "1.2.0",
            "_view_count": null,
            "flex_flow": null,
            "width": null,
            "min_width": null,
            "border": null,
            "align_items": null,
            "bottom": null,
            "_model_module": "@jupyter-widgets/base",
            "top": null,
            "grid_column": null,
            "overflow_y": null,
            "overflow_x": null,
            "grid_auto_flow": null,
            "grid_area": null,
            "grid_template_columns": null,
            "flex": null,
            "_model_name": "LayoutModel",
            "justify_items": null,
            "grid_row": null,
            "max_height": null,
            "align_content": null,
            "visibility": null,
            "align_self": null,
            "height": null,
            "min_height": null,
            "padding": null,
            "grid_auto_rows": null,
            "grid_gap": null,
            "max_width": null,
            "order": null,
            "_view_module_version": "1.2.0",
            "grid_template_areas": null,
            "object_position": null,
            "object_fit": null,
            "grid_auto_columns": null,
            "margin": null,
            "display": null,
            "left": null
          }
        },
        "c251e3fd613a4206b6007670a5bc1d4c": {
          "model_module": "@jupyter-widgets/controls",
          "model_name": "ProgressStyleModel",
          "model_module_version": "1.5.0",
          "state": {
            "_view_name": "StyleView",
            "_model_name": "ProgressStyleModel",
            "description_width": "",
            "_view_module": "@jupyter-widgets/base",
            "_model_module_version": "1.5.0",
            "_view_count": null,
            "_view_module_version": "1.2.0",
            "bar_color": null,
            "_model_module": "@jupyter-widgets/controls"
          }
        },
        "97609a9ff19243c9991c72cf93ad5896": {
          "model_module": "@jupyter-widgets/base",
          "model_name": "LayoutModel",
          "model_module_version": "1.2.0",
          "state": {
            "_view_name": "LayoutView",
            "grid_template_rows": null,
            "right": null,
            "justify_content": null,
            "_view_module": "@jupyter-widgets/base",
            "overflow": null,
            "_model_module_version": "1.2.0",
            "_view_count": null,
            "flex_flow": null,
            "width": null,
            "min_width": null,
            "border": null,
            "align_items": null,
            "bottom": null,
            "_model_module": "@jupyter-widgets/base",
            "top": null,
            "grid_column": null,
            "overflow_y": null,
            "overflow_x": null,
            "grid_auto_flow": null,
            "grid_area": null,
            "grid_template_columns": null,
            "flex": null,
            "_model_name": "LayoutModel",
            "justify_items": null,
            "grid_row": null,
            "max_height": null,
            "align_content": null,
            "visibility": null,
            "align_self": null,
            "height": null,
            "min_height": null,
            "padding": null,
            "grid_auto_rows": null,
            "grid_gap": null,
            "max_width": null,
            "order": null,
            "_view_module_version": "1.2.0",
            "grid_template_areas": null,
            "object_position": null,
            "object_fit": null,
            "grid_auto_columns": null,
            "margin": null,
            "display": null,
            "left": null
          }
        },
        "29add3c5cfa94cf0a25c6fcce3fe5e03": {
          "model_module": "@jupyter-widgets/controls",
          "model_name": "DescriptionStyleModel",
          "model_module_version": "1.5.0",
          "state": {
            "_view_name": "StyleView",
            "_model_name": "DescriptionStyleModel",
            "description_width": "",
            "_view_module": "@jupyter-widgets/base",
            "_model_module_version": "1.5.0",
            "_view_count": null,
            "_view_module_version": "1.2.0",
            "_model_module": "@jupyter-widgets/controls"
          }
        },
        "8eca61c84a034422abdbe5081d346da9": {
          "model_module": "@jupyter-widgets/base",
          "model_name": "LayoutModel",
          "model_module_version": "1.2.0",
          "state": {
            "_view_name": "LayoutView",
            "grid_template_rows": null,
            "right": null,
            "justify_content": null,
            "_view_module": "@jupyter-widgets/base",
            "overflow": null,
            "_model_module_version": "1.2.0",
            "_view_count": null,
            "flex_flow": null,
            "width": null,
            "min_width": null,
            "border": null,
            "align_items": null,
            "bottom": null,
            "_model_module": "@jupyter-widgets/base",
            "top": null,
            "grid_column": null,
            "overflow_y": null,
            "overflow_x": null,
            "grid_auto_flow": null,
            "grid_area": null,
            "grid_template_columns": null,
            "flex": null,
            "_model_name": "LayoutModel",
            "justify_items": null,
            "grid_row": null,
            "max_height": null,
            "align_content": null,
            "visibility": null,
            "align_self": null,
            "height": null,
            "min_height": null,
            "padding": null,
            "grid_auto_rows": null,
            "grid_gap": null,
            "max_width": null,
            "order": null,
            "_view_module_version": "1.2.0",
            "grid_template_areas": null,
            "object_position": null,
            "object_fit": null,
            "grid_auto_columns": null,
            "margin": null,
            "display": null,
            "left": null
          }
        }
      }
    }
  },
  "cells": [
    {
      "cell_type": "markdown",
      "metadata": {
        "id": "view-in-github",
        "colab_type": "text"
      },
      "source": [
        "<a href=\"https://colab.research.google.com/github/LezendarySandwich/CSL7550-Stock-Price-Prediction/blob/master/dataset_setup.ipynb\" target=\"_parent\"><img src=\"https://colab.research.google.com/assets/colab-badge.svg\" alt=\"Open In Colab\"/></a>"
      ]
    },
    {
      "cell_type": "code",
      "metadata": {
        "id": "1qBNTMZl2iLX"
      },
      "source": [
        "import os\n",
        "import shutil\n",
        "from google.colab import drive\n",
        "\n",
        "if not os.path.exists('/content/drive'):\n",
        "  drive.mount('/content/drive')"
      ],
      "execution_count": 3,
      "outputs": []
    },
    {
      "cell_type": "code",
      "metadata": {
        "colab": {
          "base_uri": "https://localhost:8080/"
        },
        "id": "r6omBrrX3XNT",
        "outputId": "d4b6e6f5-3504-400f-9ddc-d0007a4d51f5"
      },
      "source": [
        "!pip install quandl\n",
        "!pip install python-dotenv"
      ],
      "execution_count": 4,
      "outputs": [
        {
          "output_type": "stream",
          "name": "stdout",
          "text": [
            "Collecting quandl\n",
            "  Downloading Quandl-3.6.2-py2.py3-none-any.whl (26 kB)\n",
            "Requirement already satisfied: numpy>=1.8 in /usr/local/lib/python3.7/dist-packages (from quandl) (1.19.5)\n",
            "Requirement already satisfied: python-dateutil in /usr/local/lib/python3.7/dist-packages (from quandl) (2.8.2)\n",
            "Requirement already satisfied: six in /usr/local/lib/python3.7/dist-packages (from quandl) (1.15.0)\n",
            "Requirement already satisfied: requests>=2.7.0 in /usr/local/lib/python3.7/dist-packages (from quandl) (2.23.0)\n",
            "Collecting inflection>=0.3.1\n",
            "  Downloading inflection-0.5.1-py2.py3-none-any.whl (9.5 kB)\n",
            "Requirement already satisfied: pandas>=0.14 in /usr/local/lib/python3.7/dist-packages (from quandl) (1.1.5)\n",
            "Requirement already satisfied: more-itertools in /usr/local/lib/python3.7/dist-packages (from quandl) (8.10.0)\n",
            "Requirement already satisfied: pytz>=2017.2 in /usr/local/lib/python3.7/dist-packages (from pandas>=0.14->quandl) (2018.9)\n",
            "Requirement already satisfied: chardet<4,>=3.0.2 in /usr/local/lib/python3.7/dist-packages (from requests>=2.7.0->quandl) (3.0.4)\n",
            "Requirement already satisfied: urllib3!=1.25.0,!=1.25.1,<1.26,>=1.21.1 in /usr/local/lib/python3.7/dist-packages (from requests>=2.7.0->quandl) (1.24.3)\n",
            "Requirement already satisfied: idna<3,>=2.5 in /usr/local/lib/python3.7/dist-packages (from requests>=2.7.0->quandl) (2.10)\n",
            "Requirement already satisfied: certifi>=2017.4.17 in /usr/local/lib/python3.7/dist-packages (from requests>=2.7.0->quandl) (2021.5.30)\n",
            "Installing collected packages: inflection, quandl\n",
            "Successfully installed inflection-0.5.1 quandl-3.6.2\n",
            "Collecting python-dotenv\n",
            "  Downloading python_dotenv-0.19.1-py2.py3-none-any.whl (17 kB)\n",
            "Installing collected packages: python-dotenv\n",
            "Successfully installed python-dotenv-0.19.1\n"
          ]
        }
      ]
    },
    {
      "cell_type": "code",
      "metadata": {
        "id": "A_WasE-mPgNR"
      },
      "source": [
        "import pandas as pd\n",
        "import matplotlib.pyplot as plt \n",
        "import quandl\n",
        "from sklearn.linear_model import LinearRegression"
      ],
      "execution_count": 5,
      "outputs": []
    },
    {
      "cell_type": "code",
      "metadata": {
        "id": "dEPmAfAN3I76"
      },
      "source": [
        "!rm -r sample_data"
      ],
      "execution_count": 6,
      "outputs": []
    },
    {
      "cell_type": "code",
      "metadata": {
        "id": "Ck5PBpzf3Lya"
      },
      "source": [
        "# @markdown ### CONSTANTS\n",
        "from time import time\n",
        "\n",
        "STORAGE = '/content/drive/MyDrive' #@param {type : \"string\"}\n",
        "KAGGLE_DIR = 'kaggle' #@param {type : \"string\"}\n",
        "KAGGLE_JSON_PATH = os.path.join(STORAGE, KAGGLE_DIR)\n",
        "QUANDL_PATH = os.path.join(KAGGLE_JSON_PATH, '.quandl')\n",
        "__PROJECT = os.path.join(STORAGE, 'Neo')\n",
        "ML_DATASET = os.path.join(__PROJECT, 'dataset')\n",
        "GOOGLE_STOCK_DATA_ZIP = os.path.join(ML_DATASET, 'google-stock-price.zip')\n",
        "SPLIT = 0.8\n",
        "SEED = int(time())"
      ],
      "execution_count": 7,
      "outputs": []
    },
    {
      "cell_type": "code",
      "metadata": {
        "id": "4mUUqdnWP8lY"
      },
      "source": [
        "if not os.path.exists(__PROJECT):\n",
        "  os.makedirs(__PROJECT)\n",
        "\n",
        "if not os.path.exists(ML_DATASET):\n",
        "  os.makedirs(ML_DATASET)"
      ],
      "execution_count": 8,
      "outputs": []
    },
    {
      "cell_type": "code",
      "metadata": {
        "colab": {
          "base_uri": "https://localhost:8080/"
        },
        "id": "de-6kPWc3Nqa",
        "outputId": "fd8ef72d-e86c-4ef7-989c-8d217b335f31"
      },
      "source": [
        "!pip install pip --upgrade # command to upgrade pip\n",
        "!pip install kaggle --upgrade --force-reinstall --no-deps # command to upgrade to kaggle version 1.5.10\n",
        "# @markdown Kaggle API official [Docs](https://github.com/Kaggle/kaggle-api)"
      ],
      "execution_count": 9,
      "outputs": [
        {
          "output_type": "stream",
          "name": "stdout",
          "text": [
            "Requirement already satisfied: pip in /usr/local/lib/python3.7/dist-packages (21.1.3)\n",
            "Collecting pip\n",
            "  Downloading pip-21.3.1-py3-none-any.whl (1.7 MB)\n",
            "\u001b[K     |████████████████████████████████| 1.7 MB 5.4 MB/s \n",
            "\u001b[?25hInstalling collected packages: pip\n",
            "  Attempting uninstall: pip\n",
            "    Found existing installation: pip 21.1.3\n",
            "    Uninstalling pip-21.1.3:\n",
            "      Successfully uninstalled pip-21.1.3\n",
            "Successfully installed pip-21.3.1\n",
            "Collecting kaggle\n",
            "  Downloading kaggle-1.5.12.tar.gz (58 kB)\n",
            "     |████████████████████████████████| 58 kB 3.1 MB/s             \n",
            "\u001b[?25h  Preparing metadata (setup.py) ... \u001b[?25l\u001b[?25hdone\n",
            "Building wheels for collected packages: kaggle\n",
            "  Building wheel for kaggle (setup.py) ... \u001b[?25l\u001b[?25hdone\n",
            "  Created wheel for kaggle: filename=kaggle-1.5.12-py3-none-any.whl size=73051 sha256=03c27fd58b75570d33e13eb3073346ec47be35a240974126155764beed51c8f8\n",
            "  Stored in directory: /root/.cache/pip/wheels/62/d6/58/5853130f941e75b2177d281eb7e44b4a98ed46dd155f556dc5\n",
            "Successfully built kaggle\n",
            "Installing collected packages: kaggle\n",
            "  Attempting uninstall: kaggle\n",
            "    Found existing installation: kaggle 1.5.12\n",
            "    Uninstalling kaggle-1.5.12:\n",
            "      Successfully uninstalled kaggle-1.5.12\n",
            "Successfully installed kaggle-1.5.12\n",
            "\u001b[33mWARNING: Running pip as the 'root' user can result in broken permissions and conflicting behaviour with the system package manager. It is recommended to use a virtual environment instead: https://pip.pypa.io/warnings/venv\u001b[0m\n"
          ]
        }
      ]
    },
    {
      "cell_type": "code",
      "metadata": {
        "colab": {
          "base_uri": "https://localhost:8080/"
        },
        "id": "xfq5dUUa3S6x",
        "outputId": "b5aec979-5d92-45a3-8418-deee2a8f5e8c"
      },
      "source": [
        "os.environ['KAGGLE_CONFIG_DIR']=os.path.join(KAGGLE_JSON_PATH) # we have stored the kaggle.json in .kaggle of my drive\n",
        "!kaggle --version # Kaggle API 1.5.10"
      ],
      "execution_count": 10,
      "outputs": [
        {
          "output_type": "stream",
          "name": "stdout",
          "text": [
            "Kaggle API 1.5.12\n"
          ]
        }
      ]
    },
    {
      "cell_type": "code",
      "metadata": {
        "id": "Zc6Av8Bc2B7D"
      },
      "source": [
        "from dotenv import load_dotenv, find_dotenv\n",
        "from pathlib import Path\n",
        "\n",
        "load_dotenv(QUANDL_PATH)\n",
        "quandl.ApiConfig.api_key = os.getenv('QUANDL_API_KEY')"
      ],
      "execution_count": 11,
      "outputs": []
    },
    {
      "cell_type": "code",
      "metadata": {
        "id": "HethTc4HMFPf",
        "colab": {
          "base_uri": "https://localhost:8080/"
        },
        "outputId": "894e63d7-9458-4ccf-8c9b-d3312a6f48f0"
      },
      "source": [
        "! kaggle datasets download -d medharawat/google-stock-price"
      ],
      "execution_count": 12,
      "outputs": [
        {
          "output_type": "stream",
          "name": "stdout",
          "text": [
            "Downloading google-stock-price.zip to /content\n",
            "\r  0% 0.00/23.4k [00:00<?, ?B/s]\n",
            "\r100% 23.4k/23.4k [00:00<00:00, 20.3MB/s]\n"
          ]
        }
      ]
    },
    {
      "cell_type": "code",
      "metadata": {
        "id": "W9GHipI6PtzL"
      },
      "source": [
        "! mv google-stock-price.zip $ML_DATASET/google-stock-price.zip"
      ],
      "execution_count": 13,
      "outputs": []
    },
    {
      "cell_type": "code",
      "metadata": {
        "id": "9qJ3iBhDQOGO"
      },
      "source": [
        "from zipfile import ZipFile\n",
        "\n",
        "file_path = os.path.join(GOOGLE_STOCK_DATA_ZIP)\n",
        "directory = os.path.join(ML_DATASET, 'google_stock_price_dataset')\n",
        "\n",
        "os.makedirs(directory, exist_ok=True)\n",
        "\n",
        "with ZipFile(file_path, 'r') as zip:\n",
        "  zip.extractall(directory)\n",
        "\n",
        "os.remove(file_path)"
      ],
      "execution_count": 14,
      "outputs": []
    },
    {
      "cell_type": "code",
      "metadata": {
        "colab": {
          "base_uri": "https://localhost:8080/",
          "height": 424
        },
        "id": "C1oZzQ82SKZn",
        "outputId": "c66e6725-46fd-499a-b500-aa408a3f7118"
      },
      "source": [
        "df = pd.read_csv('/content/drive/MyDrive/Neo/dataset/google_stock_price_dataset/Google_Stock_Price_Train.csv')\n",
        "df"
      ],
      "execution_count": 15,
      "outputs": [
        {
          "output_type": "execute_result",
          "data": {
            "text/html": [
              "<div>\n",
              "<style scoped>\n",
              "    .dataframe tbody tr th:only-of-type {\n",
              "        vertical-align: middle;\n",
              "    }\n",
              "\n",
              "    .dataframe tbody tr th {\n",
              "        vertical-align: top;\n",
              "    }\n",
              "\n",
              "    .dataframe thead th {\n",
              "        text-align: right;\n",
              "    }\n",
              "</style>\n",
              "<table border=\"1\" class=\"dataframe\">\n",
              "  <thead>\n",
              "    <tr style=\"text-align: right;\">\n",
              "      <th></th>\n",
              "      <th>Date</th>\n",
              "      <th>Open</th>\n",
              "      <th>High</th>\n",
              "      <th>Low</th>\n",
              "      <th>Close</th>\n",
              "      <th>Volume</th>\n",
              "    </tr>\n",
              "  </thead>\n",
              "  <tbody>\n",
              "    <tr>\n",
              "      <th>0</th>\n",
              "      <td>1/3/2012</td>\n",
              "      <td>325.25</td>\n",
              "      <td>332.83</td>\n",
              "      <td>324.97</td>\n",
              "      <td>663.59</td>\n",
              "      <td>7,380,500</td>\n",
              "    </tr>\n",
              "    <tr>\n",
              "      <th>1</th>\n",
              "      <td>1/4/2012</td>\n",
              "      <td>331.27</td>\n",
              "      <td>333.87</td>\n",
              "      <td>329.08</td>\n",
              "      <td>666.45</td>\n",
              "      <td>5,749,400</td>\n",
              "    </tr>\n",
              "    <tr>\n",
              "      <th>2</th>\n",
              "      <td>1/5/2012</td>\n",
              "      <td>329.83</td>\n",
              "      <td>330.75</td>\n",
              "      <td>326.89</td>\n",
              "      <td>657.21</td>\n",
              "      <td>6,590,300</td>\n",
              "    </tr>\n",
              "    <tr>\n",
              "      <th>3</th>\n",
              "      <td>1/6/2012</td>\n",
              "      <td>328.34</td>\n",
              "      <td>328.77</td>\n",
              "      <td>323.68</td>\n",
              "      <td>648.24</td>\n",
              "      <td>5,405,900</td>\n",
              "    </tr>\n",
              "    <tr>\n",
              "      <th>4</th>\n",
              "      <td>1/9/2012</td>\n",
              "      <td>322.04</td>\n",
              "      <td>322.29</td>\n",
              "      <td>309.46</td>\n",
              "      <td>620.76</td>\n",
              "      <td>11,688,800</td>\n",
              "    </tr>\n",
              "    <tr>\n",
              "      <th>...</th>\n",
              "      <td>...</td>\n",
              "      <td>...</td>\n",
              "      <td>...</td>\n",
              "      <td>...</td>\n",
              "      <td>...</td>\n",
              "      <td>...</td>\n",
              "    </tr>\n",
              "    <tr>\n",
              "      <th>1253</th>\n",
              "      <td>12/23/2016</td>\n",
              "      <td>790.90</td>\n",
              "      <td>792.74</td>\n",
              "      <td>787.28</td>\n",
              "      <td>789.91</td>\n",
              "      <td>623,400</td>\n",
              "    </tr>\n",
              "    <tr>\n",
              "      <th>1254</th>\n",
              "      <td>12/27/2016</td>\n",
              "      <td>790.68</td>\n",
              "      <td>797.86</td>\n",
              "      <td>787.66</td>\n",
              "      <td>791.55</td>\n",
              "      <td>789,100</td>\n",
              "    </tr>\n",
              "    <tr>\n",
              "      <th>1255</th>\n",
              "      <td>12/28/2016</td>\n",
              "      <td>793.70</td>\n",
              "      <td>794.23</td>\n",
              "      <td>783.20</td>\n",
              "      <td>785.05</td>\n",
              "      <td>1,153,800</td>\n",
              "    </tr>\n",
              "    <tr>\n",
              "      <th>1256</th>\n",
              "      <td>12/29/2016</td>\n",
              "      <td>783.33</td>\n",
              "      <td>785.93</td>\n",
              "      <td>778.92</td>\n",
              "      <td>782.79</td>\n",
              "      <td>744,300</td>\n",
              "    </tr>\n",
              "    <tr>\n",
              "      <th>1257</th>\n",
              "      <td>12/30/2016</td>\n",
              "      <td>782.75</td>\n",
              "      <td>782.78</td>\n",
              "      <td>770.41</td>\n",
              "      <td>771.82</td>\n",
              "      <td>1,770,000</td>\n",
              "    </tr>\n",
              "  </tbody>\n",
              "</table>\n",
              "<p>1258 rows × 6 columns</p>\n",
              "</div>"
            ],
            "text/plain": [
              "            Date    Open    High     Low   Close      Volume\n",
              "0       1/3/2012  325.25  332.83  324.97  663.59   7,380,500\n",
              "1       1/4/2012  331.27  333.87  329.08  666.45   5,749,400\n",
              "2       1/5/2012  329.83  330.75  326.89  657.21   6,590,300\n",
              "3       1/6/2012  328.34  328.77  323.68  648.24   5,405,900\n",
              "4       1/9/2012  322.04  322.29  309.46  620.76  11,688,800\n",
              "...          ...     ...     ...     ...     ...         ...\n",
              "1253  12/23/2016  790.90  792.74  787.28  789.91     623,400\n",
              "1254  12/27/2016  790.68  797.86  787.66  791.55     789,100\n",
              "1255  12/28/2016  793.70  794.23  783.20  785.05   1,153,800\n",
              "1256  12/29/2016  783.33  785.93  778.92  782.79     744,300\n",
              "1257  12/30/2016  782.75  782.78  770.41  771.82   1,770,000\n",
              "\n",
              "[1258 rows x 6 columns]"
            ]
          },
          "metadata": {},
          "execution_count": 15
        }
      ]
    },
    {
      "cell_type": "code",
      "metadata": {
        "id": "IqGaXeED94tM"
      },
      "source": [
        "from datetime import date\n",
        "\n",
        "class Quadl_Data_setup:\n",
        "\n",
        "  def __init__(self, dir, start_date, end_date):\n",
        "    self.__dir = dir\n",
        "    self.start_date = start_date\n",
        "    self.end_date = end_date\n",
        "    self.features = ['Open', 'High', 'Low', 'Close', 'Total Trade Quantity']\n",
        "\n",
        "  def setup_dataset(self, scrip):\n",
        "\n",
        "    save_dir = os.path.join(self.__dir, f'{scrip}_{self.start_date}_{self.end_date}')\n",
        "    if os.path.exists(save_dir):\n",
        "      print(f'\\n{scrip} already done\\n')\n",
        "      train_dataset = pd.read_csv(os.path.join(save_dir, 'dataset_train.csv'))\n",
        "      test_dataset = pd.read_csv(os.path.join(save_dir, 'dataset_test.csv'))\n",
        "      print(f'Train_dataset\\n{train_dataset}')\n",
        "      print(f'Test_dataset\\n{test_dataset}')\n",
        "      return \n",
        "\n",
        "    os.makedirs(save_dir)\n",
        "\n",
        "    stock_data = quandl.get(f'NSE/{scrip}', start_date=self.start_date, end_date=self.end_date)\n",
        "    dataset = pd.DataFrame()\n",
        "    dataset['Date'] = stock_data.index\n",
        "    stock_data.reset_index(drop=True, inplace=True)\n",
        "    dataset = dataset.join(stock_data[self.features]);\n",
        "    dataset.rename(columns={'Total Trade Quantity': 'Volume'}, inplace=True)\n",
        "\n",
        "    save_file_test = os.path.join(save_dir, 'dataset_test.csv')\n",
        "    save_file_train = os.path.join(save_dir, 'dataset_train.csv')\n",
        "\n",
        "    print(f'\\n{scrip} done\\n')\n",
        "\n",
        "    train_dataset=dataset.iloc[:-len(dataset)//5]\n",
        "    test_dataset=dataset.iloc[-len(dataset)//5:]\n",
        "\n",
        "    train_dataset.to_csv(save_file_train, encoding='utf-8', index=False)\n",
        "    test_dataset.to_csv(save_file_test, encoding='utf-8', index=False)\n",
        "    \n",
        "    print(f'Train_dataset\\n{train_dataset}')\n",
        "    print(f'Test_dataset\\n{test_dataset}')\n"
      ],
      "execution_count": 16,
      "outputs": []
    },
    {
      "cell_type": "markdown",
      "metadata": {
        "id": "f-al4hUujqFu"
      },
      "source": [
        "## WORKING WITH NSE DATA"
      ]
    },
    {
      "cell_type": "code",
      "metadata": {
        "id": "4f3b71IZTqrF",
        "colab": {
          "base_uri": "https://localhost:8080/",
          "height": 1000,
          "referenced_widgets": [
            "8ea03f98ad32413eb1e196999ef58303",
            "e64f175e79434fc88a4cc2415f3726d5",
            "5f747b95cd1745288de4cec166a19409",
            "e5a49d36d7624069a3003190a4765809",
            "d0c129525c7f42a487d082e21c017c74",
            "cd9bb03db0ff492cb4179183d519d700",
            "be77b29e0fe242798259a8842863747b",
            "214e03bfec344b8f8bfa587080a3a4d0",
            "c2a32df86d3543a78add16b70de90a1b",
            "3c4dc74fd9804d1b90a4e986c4867162",
            "a3636450ec6c48118937ddc45b7087ea",
            "da79ee71016849edaa949d8ab80f75ce",
            "8444759074c64537bbfe8d44e2769a57",
            "ea945b9e00ac49ae881165c10485c0fd",
            "03d4a35c8ebc438198304f5b25927d83",
            "a52cc7bf783d44128a2854b41f8b1b3d",
            "37ae9d2880e04281982e83a1d00262de",
            "bb5e3ab9f657483ea882b2dd56acbd69",
            "c251e3fd613a4206b6007670a5bc1d4c",
            "97609a9ff19243c9991c72cf93ad5896",
            "29add3c5cfa94cf0a25c6fcce3fe5e03",
            "8eca61c84a034422abdbe5081d346da9"
          ]
        },
        "outputId": "cb3d1cb4-5ced-4165-b304-7babb1ecdbd8"
      },
      "source": [
        "import tqdm.notebook as tq\n",
        "\n",
        "scrips = ['TCS', 'TATASTEEL', 'RELIANCE']\n",
        "START_DATES = [date(2014, 1, 1)]\n",
        "END_DATES = [date(2019, 1, 1)]\n",
        "\n",
        "\n",
        "for index, start_date in tq.tqdm(enumerate(START_DATES)):\n",
        "\n",
        "  quadl_data_setup = Quadl_Data_setup(ML_DATASET, start_date, END_DATES[index])\n",
        "\n",
        "  for scrip in tq.tqdm(scrips):\n",
        "    quadl_data_setup.setup_dataset(scrip)"
      ],
      "execution_count": 17,
      "outputs": [
        {
          "output_type": "display_data",
          "data": {
            "application/vnd.jupyter.widget-view+json": {
              "model_id": "8ea03f98ad32413eb1e196999ef58303",
              "version_minor": 0,
              "version_major": 2
            },
            "text/plain": [
              "0it [00:00, ?it/s]"
            ]
          },
          "metadata": {}
        },
        {
          "output_type": "display_data",
          "data": {
            "application/vnd.jupyter.widget-view+json": {
              "model_id": "da79ee71016849edaa949d8ab80f75ce",
              "version_minor": 0,
              "version_major": 2
            },
            "text/plain": [
              "  0%|          | 0/3 [00:00<?, ?it/s]"
            ]
          },
          "metadata": {}
        },
        {
          "output_type": "stream",
          "name": "stdout",
          "text": [
            "\n",
            "TCS done\n",
            "\n",
            "Train_dataset\n",
            "          Date     Open     High      Low    Close     Volume\n",
            "0   2014-01-01  2180.10  2184.50  2151.10  2153.30   264976.0\n",
            "1   2014-01-02  2166.00  2189.00  2156.15  2167.00   863474.0\n",
            "2   2014-01-03  2164.70  2229.10  2147.25  2222.20  1309087.0\n",
            "3   2014-01-06  2229.00  2244.00  2197.00  2239.60  1155905.0\n",
            "4   2014-01-07  2240.00  2256.45  2199.00  2206.15  1448743.0\n",
            "..         ...      ...      ...      ...      ...        ...\n",
            "982 2017-12-22  2604.00  2663.90  2590.20  2646.75  1832832.0\n",
            "983 2017-12-26  2686.00  2689.75  2631.60  2649.45  1087893.0\n",
            "984 2017-12-27  2649.45  2658.50  2610.50  2619.90   369642.0\n",
            "985 2017-12-28  2608.80  2653.50  2605.65  2626.95  1302544.0\n",
            "986 2017-12-29  2623.10  2708.90  2618.55  2701.20  1304771.0\n",
            "\n",
            "[987 rows x 6 columns]\n",
            "Test_dataset\n",
            "           Date    Open    High      Low    Close     Volume\n",
            "987  2018-01-01  2682.3  2694.8  2635.00  2645.60   675880.0\n",
            "988  2018-01-02  2660.0  2669.6  2620.20  2631.20   960145.0\n",
            "989  2018-01-03  2632.0  2669.0  2631.20  2638.65   628560.0\n",
            "990  2018-01-04  2650.0  2662.0  2640.00  2657.10   456541.0\n",
            "991  2018-01-05  2650.0  2699.5  2650.00  2689.20   576853.0\n",
            "...         ...     ...     ...      ...      ...        ...\n",
            "1229 2018-12-26  1921.8  1921.8  1870.25  1889.20  2446614.0\n",
            "1230 2018-12-27  1909.0  1941.7  1872.10  1908.95  4968201.0\n",
            "1231 2018-12-28  1915.0  1920.0  1893.00  1896.05  2239130.0\n",
            "1232 2018-12-31  1908.0  1909.0  1886.15  1893.05  1879740.0\n",
            "1233 2019-01-01  1896.0  1910.0  1885.00  1902.80  1094883.0\n",
            "\n",
            "[247 rows x 6 columns]\n",
            "\n",
            "TATASTEEL done\n",
            "\n",
            "Train_dataset\n",
            "          Date    Open    High     Low   Close      Volume\n",
            "0   2014-01-01  425.00  426.80  423.65  425.90   1193408.0\n",
            "1   2014-01-02  426.00  435.50  417.00  419.20   4000266.0\n",
            "2   2014-01-03  416.50  419.40  409.00  412.50   3183770.0\n",
            "3   2014-01-06  410.95  415.70  404.60  408.30   2704614.0\n",
            "4   2014-01-07  409.90  411.90  392.55  394.70   3900410.0\n",
            "..         ...     ...     ...     ...     ...         ...\n",
            "982 2017-12-22  716.80  716.80  707.10  711.20   3322839.0\n",
            "983 2017-12-26  714.00  725.00  712.00  721.65   6011430.0\n",
            "984 2017-12-27  721.75  729.60  717.90  723.45   3611513.0\n",
            "985 2017-12-28  725.05  739.50  724.60  736.25  11572648.0\n",
            "986 2017-12-29  738.00  744.85  730.00  732.40   2816505.0\n",
            "\n",
            "[987 rows x 6 columns]\n",
            "Test_dataset\n",
            "           Date   Open    High     Low   Close     Volume\n",
            "987  2018-01-01  732.5  735.40  719.50  722.20  1833942.0\n",
            "988  2018-01-02  724.0  731.25  715.25  729.30  2467294.0\n",
            "989  2018-01-03  732.0  737.50  731.25  734.95  2634779.0\n",
            "990  2018-01-04  736.5  763.45  732.00  760.25  8082986.0\n",
            "991  2018-01-05  764.0  776.90  762.50  770.70  7136203.0\n",
            "...         ...    ...     ...     ...     ...        ...\n",
            "1229 2018-12-26  509.0  517.30  504.40  513.45  4953741.0\n",
            "1230 2018-12-27  518.0  519.80  504.95  506.50  5016931.0\n",
            "1231 2018-12-28  508.2  516.45  508.05  512.85  6307408.0\n",
            "1232 2018-12-31  520.0  525.00  516.20  521.05  7965812.0\n",
            "1233 2019-01-01  524.0  524.50  513.55  515.75  4128173.0\n",
            "\n",
            "[247 rows x 6 columns]\n",
            "\n",
            "RELIANCE done\n",
            "\n",
            "Train_dataset\n",
            "          Date    Open    High     Low   Close     Volume\n",
            "0   2014-01-01  897.45  898.25  887.60  888.80  1337074.0\n",
            "1   2014-01-02  887.70  896.00  870.10  875.00  1376901.0\n",
            "2   2014-01-03  871.60  873.35  855.00  864.25  2933613.0\n",
            "3   2014-01-06  862.10  863.25  850.00  854.95  3043781.0\n",
            "4   2014-01-07  854.60  859.95  840.05  842.10  3957111.0\n",
            "..         ...     ...     ...     ...     ...        ...\n",
            "982 2017-12-22  914.65  922.40  909.30  920.40  4872675.0\n",
            "983 2017-12-26  924.85  938.90  918.15  929.80  5301456.0\n",
            "984 2017-12-27  933.00  937.50  919.00  923.75  4352384.0\n",
            "985 2017-12-28  925.25  934.40  919.10  924.20  7091515.0\n",
            "986 2017-12-29  926.50  932.30  918.50  921.05  5069838.0\n",
            "\n",
            "[987 rows x 6 columns]\n",
            "Test_dataset\n",
            "           Date     Open     High      Low    Close      Volume\n",
            "987  2018-01-01   922.70   922.70   907.50   909.75   4321686.0\n",
            "988  2018-01-02   913.00   919.55   906.40   911.15   4342815.0\n",
            "989  2018-01-03   925.00   926.00   913.05   914.80   6175312.0\n",
            "990  2018-01-04   918.15   921.80   915.70   920.30   4118581.0\n",
            "991  2018-01-05   921.80   926.90   920.25   923.25   3401905.0\n",
            "...         ...      ...      ...      ...      ...         ...\n",
            "1229 2018-12-26  1085.80  1100.00  1065.65  1098.35   7210059.0\n",
            "1230 2018-12-27  1107.20  1127.00  1104.00  1120.20  12478000.0\n",
            "1231 2018-12-28  1125.50  1135.25  1121.20  1125.55   7666016.0\n",
            "1232 2018-12-31  1130.95  1133.85  1116.20  1121.25   7222817.0\n",
            "1233 2019-01-01  1125.25  1127.30  1110.10  1121.00   4455850.0\n",
            "\n",
            "[247 rows x 6 columns]\n"
          ]
        }
      ]
    }
  ]
}