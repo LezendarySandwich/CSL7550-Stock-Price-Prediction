{
  "nbformat": 4,
  "nbformat_minor": 0,
  "metadata": {
    "colab": {
      "name": "dataset_setup.ipynb",
      "provenance": [],
      "collapsed_sections": [],
      "include_colab_link": true
    },
    "kernelspec": {
      "name": "python3",
      "display_name": "Python 3"
    },
    "language_info": {
      "name": "python"
    },
    "widgets": {
      "application/vnd.jupyter.widget-state+json": {
        "2f3fde4e3ea2449480d8eb1d0537d254": {
          "model_module": "@jupyter-widgets/controls",
          "model_name": "HBoxModel",
          "model_module_version": "1.5.0",
          "state": {
            "_view_name": "HBoxView",
            "_dom_classes": [],
            "_model_name": "HBoxModel",
            "_view_module": "@jupyter-widgets/controls",
            "_model_module_version": "1.5.0",
            "_view_count": null,
            "_view_module_version": "1.5.0",
            "box_style": "",
            "layout": "IPY_MODEL_387b168d209f445bbd87e13152c67449",
            "_model_module": "@jupyter-widgets/controls",
            "children": [
              "IPY_MODEL_3dc542a607c14b84a1182efaeb8cf951",
              "IPY_MODEL_16bcddd0500a43dc968bf155cea3cf36",
              "IPY_MODEL_41ecb088c02b4cee9b187412565da8f6"
            ]
          }
        },
        "387b168d209f445bbd87e13152c67449": {
          "model_module": "@jupyter-widgets/base",
          "model_name": "LayoutModel",
          "model_module_version": "1.2.0",
          "state": {
            "_view_name": "LayoutView",
            "grid_template_rows": null,
            "right": null,
            "justify_content": null,
            "_view_module": "@jupyter-widgets/base",
            "overflow": null,
            "_model_module_version": "1.2.0",
            "_view_count": null,
            "flex_flow": null,
            "width": null,
            "min_width": null,
            "border": null,
            "align_items": null,
            "bottom": null,
            "_model_module": "@jupyter-widgets/base",
            "top": null,
            "grid_column": null,
            "overflow_y": null,
            "overflow_x": null,
            "grid_auto_flow": null,
            "grid_area": null,
            "grid_template_columns": null,
            "flex": null,
            "_model_name": "LayoutModel",
            "justify_items": null,
            "grid_row": null,
            "max_height": null,
            "align_content": null,
            "visibility": null,
            "align_self": null,
            "height": null,
            "min_height": null,
            "padding": null,
            "grid_auto_rows": null,
            "grid_gap": null,
            "max_width": null,
            "order": null,
            "_view_module_version": "1.2.0",
            "grid_template_areas": null,
            "object_position": null,
            "object_fit": null,
            "grid_auto_columns": null,
            "margin": null,
            "display": null,
            "left": null
          }
        },
        "3dc542a607c14b84a1182efaeb8cf951": {
          "model_module": "@jupyter-widgets/controls",
          "model_name": "HTMLModel",
          "model_module_version": "1.5.0",
          "state": {
            "_view_name": "HTMLView",
            "style": "IPY_MODEL_89fcc2caf31344cda5c552452244fe9b",
            "_dom_classes": [],
            "description": "",
            "_model_name": "HTMLModel",
            "placeholder": "​",
            "_view_module": "@jupyter-widgets/controls",
            "_model_module_version": "1.5.0",
            "value": "",
            "_view_count": null,
            "_view_module_version": "1.5.0",
            "description_tooltip": null,
            "_model_module": "@jupyter-widgets/controls",
            "layout": "IPY_MODEL_6b00767ab8eb4233bf08166d036a2da6"
          }
        },
        "16bcddd0500a43dc968bf155cea3cf36": {
          "model_module": "@jupyter-widgets/controls",
          "model_name": "FloatProgressModel",
          "model_module_version": "1.5.0",
          "state": {
            "_view_name": "ProgressView",
            "style": "IPY_MODEL_77db3ad734304a2a9c1daa60c597b3db",
            "_dom_classes": [],
            "description": "",
            "_model_name": "FloatProgressModel",
            "bar_style": "success",
            "max": 1,
            "_view_module": "@jupyter-widgets/controls",
            "_model_module_version": "1.5.0",
            "value": 1,
            "_view_count": null,
            "_view_module_version": "1.5.0",
            "orientation": "horizontal",
            "min": 0,
            "description_tooltip": null,
            "_model_module": "@jupyter-widgets/controls",
            "layout": "IPY_MODEL_c408450492f14fc099eadffea004d039"
          }
        },
        "41ecb088c02b4cee9b187412565da8f6": {
          "model_module": "@jupyter-widgets/controls",
          "model_name": "HTMLModel",
          "model_module_version": "1.5.0",
          "state": {
            "_view_name": "HTMLView",
            "style": "IPY_MODEL_6d4878380c6e4723a34a3fa14069d501",
            "_dom_classes": [],
            "description": "",
            "_model_name": "HTMLModel",
            "placeholder": "​",
            "_view_module": "@jupyter-widgets/controls",
            "_model_module_version": "1.5.0",
            "value": " 1/? [00:00&lt;00:00,  4.79it/s]",
            "_view_count": null,
            "_view_module_version": "1.5.0",
            "description_tooltip": null,
            "_model_module": "@jupyter-widgets/controls",
            "layout": "IPY_MODEL_b612e5f6ac7b411f9ca1ce4969a7dbf4"
          }
        },
        "89fcc2caf31344cda5c552452244fe9b": {
          "model_module": "@jupyter-widgets/controls",
          "model_name": "DescriptionStyleModel",
          "model_module_version": "1.5.0",
          "state": {
            "_view_name": "StyleView",
            "_model_name": "DescriptionStyleModel",
            "description_width": "",
            "_view_module": "@jupyter-widgets/base",
            "_model_module_version": "1.5.0",
            "_view_count": null,
            "_view_module_version": "1.2.0",
            "_model_module": "@jupyter-widgets/controls"
          }
        },
        "6b00767ab8eb4233bf08166d036a2da6": {
          "model_module": "@jupyter-widgets/base",
          "model_name": "LayoutModel",
          "model_module_version": "1.2.0",
          "state": {
            "_view_name": "LayoutView",
            "grid_template_rows": null,
            "right": null,
            "justify_content": null,
            "_view_module": "@jupyter-widgets/base",
            "overflow": null,
            "_model_module_version": "1.2.0",
            "_view_count": null,
            "flex_flow": null,
            "width": null,
            "min_width": null,
            "border": null,
            "align_items": null,
            "bottom": null,
            "_model_module": "@jupyter-widgets/base",
            "top": null,
            "grid_column": null,
            "overflow_y": null,
            "overflow_x": null,
            "grid_auto_flow": null,
            "grid_area": null,
            "grid_template_columns": null,
            "flex": null,
            "_model_name": "LayoutModel",
            "justify_items": null,
            "grid_row": null,
            "max_height": null,
            "align_content": null,
            "visibility": null,
            "align_self": null,
            "height": null,
            "min_height": null,
            "padding": null,
            "grid_auto_rows": null,
            "grid_gap": null,
            "max_width": null,
            "order": null,
            "_view_module_version": "1.2.0",
            "grid_template_areas": null,
            "object_position": null,
            "object_fit": null,
            "grid_auto_columns": null,
            "margin": null,
            "display": null,
            "left": null
          }
        },
        "77db3ad734304a2a9c1daa60c597b3db": {
          "model_module": "@jupyter-widgets/controls",
          "model_name": "ProgressStyleModel",
          "model_module_version": "1.5.0",
          "state": {
            "_view_name": "StyleView",
            "_model_name": "ProgressStyleModel",
            "description_width": "",
            "_view_module": "@jupyter-widgets/base",
            "_model_module_version": "1.5.0",
            "_view_count": null,
            "_view_module_version": "1.2.0",
            "bar_color": null,
            "_model_module": "@jupyter-widgets/controls"
          }
        },
        "c408450492f14fc099eadffea004d039": {
          "model_module": "@jupyter-widgets/base",
          "model_name": "LayoutModel",
          "model_module_version": "1.2.0",
          "state": {
            "_view_name": "LayoutView",
            "grid_template_rows": null,
            "right": null,
            "justify_content": null,
            "_view_module": "@jupyter-widgets/base",
            "overflow": null,
            "_model_module_version": "1.2.0",
            "_view_count": null,
            "flex_flow": null,
            "width": "20px",
            "min_width": null,
            "border": null,
            "align_items": null,
            "bottom": null,
            "_model_module": "@jupyter-widgets/base",
            "top": null,
            "grid_column": null,
            "overflow_y": null,
            "overflow_x": null,
            "grid_auto_flow": null,
            "grid_area": null,
            "grid_template_columns": null,
            "flex": null,
            "_model_name": "LayoutModel",
            "justify_items": null,
            "grid_row": null,
            "max_height": null,
            "align_content": null,
            "visibility": null,
            "align_self": null,
            "height": null,
            "min_height": null,
            "padding": null,
            "grid_auto_rows": null,
            "grid_gap": null,
            "max_width": null,
            "order": null,
            "_view_module_version": "1.2.0",
            "grid_template_areas": null,
            "object_position": null,
            "object_fit": null,
            "grid_auto_columns": null,
            "margin": null,
            "display": null,
            "left": null
          }
        },
        "6d4878380c6e4723a34a3fa14069d501": {
          "model_module": "@jupyter-widgets/controls",
          "model_name": "DescriptionStyleModel",
          "model_module_version": "1.5.0",
          "state": {
            "_view_name": "StyleView",
            "_model_name": "DescriptionStyleModel",
            "description_width": "",
            "_view_module": "@jupyter-widgets/base",
            "_model_module_version": "1.5.0",
            "_view_count": null,
            "_view_module_version": "1.2.0",
            "_model_module": "@jupyter-widgets/controls"
          }
        },
        "b612e5f6ac7b411f9ca1ce4969a7dbf4": {
          "model_module": "@jupyter-widgets/base",
          "model_name": "LayoutModel",
          "model_module_version": "1.2.0",
          "state": {
            "_view_name": "LayoutView",
            "grid_template_rows": null,
            "right": null,
            "justify_content": null,
            "_view_module": "@jupyter-widgets/base",
            "overflow": null,
            "_model_module_version": "1.2.0",
            "_view_count": null,
            "flex_flow": null,
            "width": null,
            "min_width": null,
            "border": null,
            "align_items": null,
            "bottom": null,
            "_model_module": "@jupyter-widgets/base",
            "top": null,
            "grid_column": null,
            "overflow_y": null,
            "overflow_x": null,
            "grid_auto_flow": null,
            "grid_area": null,
            "grid_template_columns": null,
            "flex": null,
            "_model_name": "LayoutModel",
            "justify_items": null,
            "grid_row": null,
            "max_height": null,
            "align_content": null,
            "visibility": null,
            "align_self": null,
            "height": null,
            "min_height": null,
            "padding": null,
            "grid_auto_rows": null,
            "grid_gap": null,
            "max_width": null,
            "order": null,
            "_view_module_version": "1.2.0",
            "grid_template_areas": null,
            "object_position": null,
            "object_fit": null,
            "grid_auto_columns": null,
            "margin": null,
            "display": null,
            "left": null
          }
        },
        "fef4375e89ad424192885d6ac3f72221": {
          "model_module": "@jupyter-widgets/controls",
          "model_name": "HBoxModel",
          "model_module_version": "1.5.0",
          "state": {
            "_view_name": "HBoxView",
            "_dom_classes": [],
            "_model_name": "HBoxModel",
            "_view_module": "@jupyter-widgets/controls",
            "_model_module_version": "1.5.0",
            "_view_count": null,
            "_view_module_version": "1.5.0",
            "box_style": "",
            "layout": "IPY_MODEL_7cca40a5fa9445238cd5fff854382125",
            "_model_module": "@jupyter-widgets/controls",
            "children": [
              "IPY_MODEL_53fe7b0ef6d7457ebc62824ae7d319ac",
              "IPY_MODEL_dd251438c4f44a4fa43f4190c3ed5a80",
              "IPY_MODEL_bb1565b1d98e4fbeb08c64ed903f619f"
            ]
          }
        },
        "7cca40a5fa9445238cd5fff854382125": {
          "model_module": "@jupyter-widgets/base",
          "model_name": "LayoutModel",
          "model_module_version": "1.2.0",
          "state": {
            "_view_name": "LayoutView",
            "grid_template_rows": null,
            "right": null,
            "justify_content": null,
            "_view_module": "@jupyter-widgets/base",
            "overflow": null,
            "_model_module_version": "1.2.0",
            "_view_count": null,
            "flex_flow": null,
            "width": null,
            "min_width": null,
            "border": null,
            "align_items": null,
            "bottom": null,
            "_model_module": "@jupyter-widgets/base",
            "top": null,
            "grid_column": null,
            "overflow_y": null,
            "overflow_x": null,
            "grid_auto_flow": null,
            "grid_area": null,
            "grid_template_columns": null,
            "flex": null,
            "_model_name": "LayoutModel",
            "justify_items": null,
            "grid_row": null,
            "max_height": null,
            "align_content": null,
            "visibility": null,
            "align_self": null,
            "height": null,
            "min_height": null,
            "padding": null,
            "grid_auto_rows": null,
            "grid_gap": null,
            "max_width": null,
            "order": null,
            "_view_module_version": "1.2.0",
            "grid_template_areas": null,
            "object_position": null,
            "object_fit": null,
            "grid_auto_columns": null,
            "margin": null,
            "display": null,
            "left": null
          }
        },
        "53fe7b0ef6d7457ebc62824ae7d319ac": {
          "model_module": "@jupyter-widgets/controls",
          "model_name": "HTMLModel",
          "model_module_version": "1.5.0",
          "state": {
            "_view_name": "HTMLView",
            "style": "IPY_MODEL_4241e2dbd2c045f68f6db482d282ae1a",
            "_dom_classes": [],
            "description": "",
            "_model_name": "HTMLModel",
            "placeholder": "​",
            "_view_module": "@jupyter-widgets/controls",
            "_model_module_version": "1.5.0",
            "value": "100%",
            "_view_count": null,
            "_view_module_version": "1.5.0",
            "description_tooltip": null,
            "_model_module": "@jupyter-widgets/controls",
            "layout": "IPY_MODEL_5834df7badc545d9867faea422555a51"
          }
        },
        "dd251438c4f44a4fa43f4190c3ed5a80": {
          "model_module": "@jupyter-widgets/controls",
          "model_name": "FloatProgressModel",
          "model_module_version": "1.5.0",
          "state": {
            "_view_name": "ProgressView",
            "style": "IPY_MODEL_cdeaeb8ba942417b8866e09ebb77d615",
            "_dom_classes": [],
            "description": "",
            "_model_name": "FloatProgressModel",
            "bar_style": "success",
            "max": 2,
            "_view_module": "@jupyter-widgets/controls",
            "_model_module_version": "1.5.0",
            "value": 2,
            "_view_count": null,
            "_view_module_version": "1.5.0",
            "orientation": "horizontal",
            "min": 0,
            "description_tooltip": null,
            "_model_module": "@jupyter-widgets/controls",
            "layout": "IPY_MODEL_2bba037811c44655a16bf416ceb0db3c"
          }
        },
        "bb1565b1d98e4fbeb08c64ed903f619f": {
          "model_module": "@jupyter-widgets/controls",
          "model_name": "HTMLModel",
          "model_module_version": "1.5.0",
          "state": {
            "_view_name": "HTMLView",
            "style": "IPY_MODEL_79919ad2414045fe812e19501115eb0e",
            "_dom_classes": [],
            "description": "",
            "_model_name": "HTMLModel",
            "placeholder": "​",
            "_view_module": "@jupyter-widgets/controls",
            "_model_module_version": "1.5.0",
            "value": " 2/2 [00:00&lt;00:00,  9.29it/s]",
            "_view_count": null,
            "_view_module_version": "1.5.0",
            "description_tooltip": null,
            "_model_module": "@jupyter-widgets/controls",
            "layout": "IPY_MODEL_58d936ac83184af89cc7b78f41ab0dc6"
          }
        },
        "4241e2dbd2c045f68f6db482d282ae1a": {
          "model_module": "@jupyter-widgets/controls",
          "model_name": "DescriptionStyleModel",
          "model_module_version": "1.5.0",
          "state": {
            "_view_name": "StyleView",
            "_model_name": "DescriptionStyleModel",
            "description_width": "",
            "_view_module": "@jupyter-widgets/base",
            "_model_module_version": "1.5.0",
            "_view_count": null,
            "_view_module_version": "1.2.0",
            "_model_module": "@jupyter-widgets/controls"
          }
        },
        "5834df7badc545d9867faea422555a51": {
          "model_module": "@jupyter-widgets/base",
          "model_name": "LayoutModel",
          "model_module_version": "1.2.0",
          "state": {
            "_view_name": "LayoutView",
            "grid_template_rows": null,
            "right": null,
            "justify_content": null,
            "_view_module": "@jupyter-widgets/base",
            "overflow": null,
            "_model_module_version": "1.2.0",
            "_view_count": null,
            "flex_flow": null,
            "width": null,
            "min_width": null,
            "border": null,
            "align_items": null,
            "bottom": null,
            "_model_module": "@jupyter-widgets/base",
            "top": null,
            "grid_column": null,
            "overflow_y": null,
            "overflow_x": null,
            "grid_auto_flow": null,
            "grid_area": null,
            "grid_template_columns": null,
            "flex": null,
            "_model_name": "LayoutModel",
            "justify_items": null,
            "grid_row": null,
            "max_height": null,
            "align_content": null,
            "visibility": null,
            "align_self": null,
            "height": null,
            "min_height": null,
            "padding": null,
            "grid_auto_rows": null,
            "grid_gap": null,
            "max_width": null,
            "order": null,
            "_view_module_version": "1.2.0",
            "grid_template_areas": null,
            "object_position": null,
            "object_fit": null,
            "grid_auto_columns": null,
            "margin": null,
            "display": null,
            "left": null
          }
        },
        "cdeaeb8ba942417b8866e09ebb77d615": {
          "model_module": "@jupyter-widgets/controls",
          "model_name": "ProgressStyleModel",
          "model_module_version": "1.5.0",
          "state": {
            "_view_name": "StyleView",
            "_model_name": "ProgressStyleModel",
            "description_width": "",
            "_view_module": "@jupyter-widgets/base",
            "_model_module_version": "1.5.0",
            "_view_count": null,
            "_view_module_version": "1.2.0",
            "bar_color": null,
            "_model_module": "@jupyter-widgets/controls"
          }
        },
        "2bba037811c44655a16bf416ceb0db3c": {
          "model_module": "@jupyter-widgets/base",
          "model_name": "LayoutModel",
          "model_module_version": "1.2.0",
          "state": {
            "_view_name": "LayoutView",
            "grid_template_rows": null,
            "right": null,
            "justify_content": null,
            "_view_module": "@jupyter-widgets/base",
            "overflow": null,
            "_model_module_version": "1.2.0",
            "_view_count": null,
            "flex_flow": null,
            "width": null,
            "min_width": null,
            "border": null,
            "align_items": null,
            "bottom": null,
            "_model_module": "@jupyter-widgets/base",
            "top": null,
            "grid_column": null,
            "overflow_y": null,
            "overflow_x": null,
            "grid_auto_flow": null,
            "grid_area": null,
            "grid_template_columns": null,
            "flex": null,
            "_model_name": "LayoutModel",
            "justify_items": null,
            "grid_row": null,
            "max_height": null,
            "align_content": null,
            "visibility": null,
            "align_self": null,
            "height": null,
            "min_height": null,
            "padding": null,
            "grid_auto_rows": null,
            "grid_gap": null,
            "max_width": null,
            "order": null,
            "_view_module_version": "1.2.0",
            "grid_template_areas": null,
            "object_position": null,
            "object_fit": null,
            "grid_auto_columns": null,
            "margin": null,
            "display": null,
            "left": null
          }
        },
        "79919ad2414045fe812e19501115eb0e": {
          "model_module": "@jupyter-widgets/controls",
          "model_name": "DescriptionStyleModel",
          "model_module_version": "1.5.0",
          "state": {
            "_view_name": "StyleView",
            "_model_name": "DescriptionStyleModel",
            "description_width": "",
            "_view_module": "@jupyter-widgets/base",
            "_model_module_version": "1.5.0",
            "_view_count": null,
            "_view_module_version": "1.2.0",
            "_model_module": "@jupyter-widgets/controls"
          }
        },
        "58d936ac83184af89cc7b78f41ab0dc6": {
          "model_module": "@jupyter-widgets/base",
          "model_name": "LayoutModel",
          "model_module_version": "1.2.0",
          "state": {
            "_view_name": "LayoutView",
            "grid_template_rows": null,
            "right": null,
            "justify_content": null,
            "_view_module": "@jupyter-widgets/base",
            "overflow": null,
            "_model_module_version": "1.2.0",
            "_view_count": null,
            "flex_flow": null,
            "width": null,
            "min_width": null,
            "border": null,
            "align_items": null,
            "bottom": null,
            "_model_module": "@jupyter-widgets/base",
            "top": null,
            "grid_column": null,
            "overflow_y": null,
            "overflow_x": null,
            "grid_auto_flow": null,
            "grid_area": null,
            "grid_template_columns": null,
            "flex": null,
            "_model_name": "LayoutModel",
            "justify_items": null,
            "grid_row": null,
            "max_height": null,
            "align_content": null,
            "visibility": null,
            "align_self": null,
            "height": null,
            "min_height": null,
            "padding": null,
            "grid_auto_rows": null,
            "grid_gap": null,
            "max_width": null,
            "order": null,
            "_view_module_version": "1.2.0",
            "grid_template_areas": null,
            "object_position": null,
            "object_fit": null,
            "grid_auto_columns": null,
            "margin": null,
            "display": null,
            "left": null
          }
        }
      }
    }
  },
  "cells": [
    {
      "cell_type": "markdown",
      "metadata": {
        "id": "view-in-github",
        "colab_type": "text"
      },
      "source": [
        "<a href=\"https://colab.research.google.com/github/LezendarySandwich/CSL7550-Stock-Price-Prediction/blob/master/dataset_setup.ipynb\" target=\"_parent\"><img src=\"https://colab.research.google.com/assets/colab-badge.svg\" alt=\"Open In Colab\"/></a>"
      ]
    },
    {
      "cell_type": "code",
      "metadata": {
        "colab": {
          "base_uri": "https://localhost:8080/"
        },
        "id": "1qBNTMZl2iLX",
        "outputId": "35db4c76-8944-4093-ede1-314d9973fc70"
      },
      "source": [
        "import os\n",
        "import shutil\n",
        "from google.colab import drive\n",
        "\n",
        "if not os.path.exists('/content/drive'):\n",
        "  drive.mount('/content/drive')"
      ],
      "execution_count": null,
      "outputs": [
        {
          "output_type": "stream",
          "name": "stdout",
          "text": [
            "Mounted at /content/drive\n"
          ]
        }
      ]
    },
    {
      "cell_type": "code",
      "metadata": {
        "id": "A_WasE-mPgNR"
      },
      "source": [
        "import pandas as pd\n",
        "import matplotlib.pyplot as plt \n",
        "import quandl\n",
        "from sklearn.linear_model import LinearRegression"
      ],
      "execution_count": null,
      "outputs": []
    },
    {
      "cell_type": "code",
      "metadata": {
        "id": "dEPmAfAN3I76",
        "colab": {
          "base_uri": "https://localhost:8080/"
        },
        "outputId": "281265b6-fbcc-4650-faec-c427df2477d5"
      },
      "source": [
        "!rm -r sample_data"
      ],
      "execution_count": null,
      "outputs": [
        {
          "output_type": "stream",
          "name": "stdout",
          "text": [
            "rm: cannot remove 'sample_data': No such file or directory\n"
          ]
        }
      ]
    },
    {
      "cell_type": "code",
      "metadata": {
        "id": "Ck5PBpzf3Lya"
      },
      "source": [
        "# @markdown ### CONSTANTS\n",
        "from time import time\n",
        "\n",
        "STORAGE = '/content/drive/MyDrive' #@param {type : \"string\"}\n",
        "KAGGLE_DIR = 'kaggle' #@param {type : \"string\"}\n",
        "KAGGLE_JSON_PATH = os.path.join(STORAGE, KAGGLE_DIR)\n",
        "QUANDL_PATH = os.path.join(KAGGLE_JSON_PATH, '.quandl')\n",
        "__PROJECT = os.path.join(STORAGE, 'Neo')\n",
        "ML_DATASET = os.path.join(__PROJECT, 'dataset')\n",
        "GOOGLE_STOCK_DATA_ZIP = os.path.join(ML_DATASET, 'google-stock-price.zip')\n",
        "SPLIT = 0.8\n",
        "SEED = int(time())"
      ],
      "execution_count": 127,
      "outputs": []
    },
    {
      "cell_type": "code",
      "metadata": {
        "id": "4mUUqdnWP8lY"
      },
      "source": [
        "if not os.path.exists(__PROJECT):\n",
        "  os.makedirs(__PROJECT)\n",
        "\n",
        "if not os.path.exists(ML_DATASET):\n",
        "  os.makedirs(ML_DATASET)"
      ],
      "execution_count": null,
      "outputs": []
    },
    {
      "cell_type": "code",
      "metadata": {
        "colab": {
          "base_uri": "https://localhost:8080/"
        },
        "id": "de-6kPWc3Nqa",
        "outputId": "adcfc6e3-a3bd-4cf8-c5cb-1d21ecc2c98b"
      },
      "source": [
        "!pip install pip --upgrade # command to upgrade pip\n",
        "!pip install kaggle --upgrade --force-reinstall --no-deps # command to upgrade to kaggle version 1.5.10\n",
        "# @markdown Kaggle API official [Docs](https://github.com/Kaggle/kaggle-api)"
      ],
      "execution_count": null,
      "outputs": [
        {
          "output_type": "stream",
          "name": "stdout",
          "text": [
            "Requirement already satisfied: pip in /usr/local/lib/python3.7/dist-packages (21.3.1)\n",
            "\u001b[33mWARNING: Running pip as the 'root' user can result in broken permissions and conflicting behaviour with the system package manager. It is recommended to use a virtual environment instead: https://pip.pypa.io/warnings/venv\u001b[0m\n",
            "Collecting kaggle\n",
            "  Using cached kaggle-1.5.12-py3-none-any.whl\n",
            "Installing collected packages: kaggle\n",
            "  Attempting uninstall: kaggle\n",
            "    Found existing installation: kaggle 1.5.12\n",
            "    Uninstalling kaggle-1.5.12:\n",
            "      Successfully uninstalled kaggle-1.5.12\n",
            "Successfully installed kaggle-1.5.12\n",
            "\u001b[33mWARNING: Running pip as the 'root' user can result in broken permissions and conflicting behaviour with the system package manager. It is recommended to use a virtual environment instead: https://pip.pypa.io/warnings/venv\u001b[0m\n"
          ]
        }
      ]
    },
    {
      "cell_type": "code",
      "metadata": {
        "colab": {
          "base_uri": "https://localhost:8080/"
        },
        "id": "xfq5dUUa3S6x",
        "outputId": "c86483f9-2c44-452d-8906-d6ff7aadd9ca"
      },
      "source": [
        "os.environ['KAGGLE_CONFIG_DIR']=os.path.join(KAGGLE_JSON_PATH) # we have stored the kaggle.json in .kaggle of my drive\n",
        "!kaggle --version # Kaggle API 1.5.10"
      ],
      "execution_count": null,
      "outputs": [
        {
          "output_type": "stream",
          "name": "stdout",
          "text": [
            "Kaggle API 1.5.12\n"
          ]
        }
      ]
    },
    {
      "cell_type": "code",
      "metadata": {
        "colab": {
          "base_uri": "https://localhost:8080/"
        },
        "id": "r6omBrrX3XNT",
        "outputId": "667ae8cc-3f3c-4212-a4a1-83f3bddaf6f8"
      },
      "source": [
        "!pip install quandl\n",
        "!pip install python-dotenv"
      ],
      "execution_count": null,
      "outputs": [
        {
          "output_type": "stream",
          "name": "stdout",
          "text": [
            "Requirement already satisfied: quandl in /usr/local/lib/python3.7/dist-packages (3.6.2)\n",
            "Requirement already satisfied: numpy>=1.8 in /usr/local/lib/python3.7/dist-packages (from quandl) (1.19.5)\n",
            "Requirement already satisfied: more-itertools in /usr/local/lib/python3.7/dist-packages (from quandl) (8.10.0)\n",
            "Requirement already satisfied: pandas>=0.14 in /usr/local/lib/python3.7/dist-packages (from quandl) (1.1.5)\n",
            "Requirement already satisfied: inflection>=0.3.1 in /usr/local/lib/python3.7/dist-packages (from quandl) (0.5.1)\n",
            "Requirement already satisfied: requests>=2.7.0 in /usr/local/lib/python3.7/dist-packages (from quandl) (2.23.0)\n",
            "Requirement already satisfied: python-dateutil in /usr/local/lib/python3.7/dist-packages (from quandl) (2.8.2)\n",
            "Requirement already satisfied: six in /usr/local/lib/python3.7/dist-packages (from quandl) (1.15.0)\n",
            "Requirement already satisfied: pytz>=2017.2 in /usr/local/lib/python3.7/dist-packages (from pandas>=0.14->quandl) (2018.9)\n",
            "Requirement already satisfied: idna<3,>=2.5 in /usr/local/lib/python3.7/dist-packages (from requests>=2.7.0->quandl) (2.10)\n",
            "Requirement already satisfied: certifi>=2017.4.17 in /usr/local/lib/python3.7/dist-packages (from requests>=2.7.0->quandl) (2021.5.30)\n",
            "Requirement already satisfied: chardet<4,>=3.0.2 in /usr/local/lib/python3.7/dist-packages (from requests>=2.7.0->quandl) (3.0.4)\n",
            "Requirement already satisfied: urllib3!=1.25.0,!=1.25.1,<1.26,>=1.21.1 in /usr/local/lib/python3.7/dist-packages (from requests>=2.7.0->quandl) (1.24.3)\n",
            "\u001b[33mWARNING: Running pip as the 'root' user can result in broken permissions and conflicting behaviour with the system package manager. It is recommended to use a virtual environment instead: https://pip.pypa.io/warnings/venv\u001b[0m\n",
            "Requirement already satisfied: python-dotenv in /usr/local/lib/python3.7/dist-packages (0.19.1)\n",
            "\u001b[33mWARNING: Running pip as the 'root' user can result in broken permissions and conflicting behaviour with the system package manager. It is recommended to use a virtual environment instead: https://pip.pypa.io/warnings/venv\u001b[0m\n"
          ]
        }
      ]
    },
    {
      "cell_type": "code",
      "metadata": {
        "id": "Zc6Av8Bc2B7D"
      },
      "source": [
        "from dotenv import load_dotenv, find_dotenv\n",
        "from pathlib import Path\n",
        "\n",
        "load_dotenv(QUANDL_PATH)\n",
        "quandl.ApiConfig.api_key = os.getenv('QUANDL_API_KEY')"
      ],
      "execution_count": null,
      "outputs": []
    },
    {
      "cell_type": "code",
      "metadata": {
        "id": "HethTc4HMFPf",
        "colab": {
          "base_uri": "https://localhost:8080/"
        },
        "outputId": "707e79d0-0d03-43c7-bbb7-6414d04c0ffa"
      },
      "source": [
        "! kaggle datasets download -d medharawat/google-stock-price"
      ],
      "execution_count": null,
      "outputs": [
        {
          "output_type": "stream",
          "name": "stdout",
          "text": [
            "Downloading google-stock-price.zip to /content\n",
            "\r  0% 0.00/23.4k [00:00<?, ?B/s]\n",
            "\r100% 23.4k/23.4k [00:00<00:00, 21.4MB/s]\n"
          ]
        }
      ]
    },
    {
      "cell_type": "code",
      "metadata": {
        "id": "W9GHipI6PtzL"
      },
      "source": [
        "! mv google-stock-price.zip $ML_DATASET/google-stock-price.zip"
      ],
      "execution_count": null,
      "outputs": []
    },
    {
      "cell_type": "code",
      "metadata": {
        "id": "9qJ3iBhDQOGO"
      },
      "source": [
        "from zipfile import ZipFile\n",
        "\n",
        "file_path = os.path.join(GOOGLE_STOCK_DATA_ZIP)\n",
        "directory = os.path.join(ML_DATASET, 'google_stock_price_dataset')\n",
        "\n",
        "os.makedirs(directory, exist_ok=True)\n",
        "\n",
        "with ZipFile(file_path, 'r') as zip:\n",
        "  zip.extractall(directory)\n",
        "\n",
        "os.remove(file_path)"
      ],
      "execution_count": null,
      "outputs": []
    },
    {
      "cell_type": "code",
      "metadata": {
        "colab": {
          "base_uri": "https://localhost:8080/",
          "height": 424
        },
        "id": "C1oZzQ82SKZn",
        "outputId": "43040b8f-7a92-4be4-f13a-74b0cfb2b7cb"
      },
      "source": [
        "df = pd.read_csv('/content/drive/MyDrive/Neo/dataset/google_stock_price_dataset/Google_Stock_Price_Train.csv')\n",
        "df"
      ],
      "execution_count": null,
      "outputs": [
        {
          "output_type": "execute_result",
          "data": {
            "text/html": [
              "<div>\n",
              "<style scoped>\n",
              "    .dataframe tbody tr th:only-of-type {\n",
              "        vertical-align: middle;\n",
              "    }\n",
              "\n",
              "    .dataframe tbody tr th {\n",
              "        vertical-align: top;\n",
              "    }\n",
              "\n",
              "    .dataframe thead th {\n",
              "        text-align: right;\n",
              "    }\n",
              "</style>\n",
              "<table border=\"1\" class=\"dataframe\">\n",
              "  <thead>\n",
              "    <tr style=\"text-align: right;\">\n",
              "      <th></th>\n",
              "      <th>Date</th>\n",
              "      <th>Open</th>\n",
              "      <th>High</th>\n",
              "      <th>Low</th>\n",
              "      <th>Close</th>\n",
              "      <th>Volume</th>\n",
              "    </tr>\n",
              "  </thead>\n",
              "  <tbody>\n",
              "    <tr>\n",
              "      <th>0</th>\n",
              "      <td>1/3/2012</td>\n",
              "      <td>325.25</td>\n",
              "      <td>332.83</td>\n",
              "      <td>324.97</td>\n",
              "      <td>663.59</td>\n",
              "      <td>7,380,500</td>\n",
              "    </tr>\n",
              "    <tr>\n",
              "      <th>1</th>\n",
              "      <td>1/4/2012</td>\n",
              "      <td>331.27</td>\n",
              "      <td>333.87</td>\n",
              "      <td>329.08</td>\n",
              "      <td>666.45</td>\n",
              "      <td>5,749,400</td>\n",
              "    </tr>\n",
              "    <tr>\n",
              "      <th>2</th>\n",
              "      <td>1/5/2012</td>\n",
              "      <td>329.83</td>\n",
              "      <td>330.75</td>\n",
              "      <td>326.89</td>\n",
              "      <td>657.21</td>\n",
              "      <td>6,590,300</td>\n",
              "    </tr>\n",
              "    <tr>\n",
              "      <th>3</th>\n",
              "      <td>1/6/2012</td>\n",
              "      <td>328.34</td>\n",
              "      <td>328.77</td>\n",
              "      <td>323.68</td>\n",
              "      <td>648.24</td>\n",
              "      <td>5,405,900</td>\n",
              "    </tr>\n",
              "    <tr>\n",
              "      <th>4</th>\n",
              "      <td>1/9/2012</td>\n",
              "      <td>322.04</td>\n",
              "      <td>322.29</td>\n",
              "      <td>309.46</td>\n",
              "      <td>620.76</td>\n",
              "      <td>11,688,800</td>\n",
              "    </tr>\n",
              "    <tr>\n",
              "      <th>...</th>\n",
              "      <td>...</td>\n",
              "      <td>...</td>\n",
              "      <td>...</td>\n",
              "      <td>...</td>\n",
              "      <td>...</td>\n",
              "      <td>...</td>\n",
              "    </tr>\n",
              "    <tr>\n",
              "      <th>1253</th>\n",
              "      <td>12/23/2016</td>\n",
              "      <td>790.90</td>\n",
              "      <td>792.74</td>\n",
              "      <td>787.28</td>\n",
              "      <td>789.91</td>\n",
              "      <td>623,400</td>\n",
              "    </tr>\n",
              "    <tr>\n",
              "      <th>1254</th>\n",
              "      <td>12/27/2016</td>\n",
              "      <td>790.68</td>\n",
              "      <td>797.86</td>\n",
              "      <td>787.66</td>\n",
              "      <td>791.55</td>\n",
              "      <td>789,100</td>\n",
              "    </tr>\n",
              "    <tr>\n",
              "      <th>1255</th>\n",
              "      <td>12/28/2016</td>\n",
              "      <td>793.70</td>\n",
              "      <td>794.23</td>\n",
              "      <td>783.20</td>\n",
              "      <td>785.05</td>\n",
              "      <td>1,153,800</td>\n",
              "    </tr>\n",
              "    <tr>\n",
              "      <th>1256</th>\n",
              "      <td>12/29/2016</td>\n",
              "      <td>783.33</td>\n",
              "      <td>785.93</td>\n",
              "      <td>778.92</td>\n",
              "      <td>782.79</td>\n",
              "      <td>744,300</td>\n",
              "    </tr>\n",
              "    <tr>\n",
              "      <th>1257</th>\n",
              "      <td>12/30/2016</td>\n",
              "      <td>782.75</td>\n",
              "      <td>782.78</td>\n",
              "      <td>770.41</td>\n",
              "      <td>771.82</td>\n",
              "      <td>1,770,000</td>\n",
              "    </tr>\n",
              "  </tbody>\n",
              "</table>\n",
              "<p>1258 rows × 6 columns</p>\n",
              "</div>"
            ],
            "text/plain": [
              "            Date    Open    High     Low   Close      Volume\n",
              "0       1/3/2012  325.25  332.83  324.97  663.59   7,380,500\n",
              "1       1/4/2012  331.27  333.87  329.08  666.45   5,749,400\n",
              "2       1/5/2012  329.83  330.75  326.89  657.21   6,590,300\n",
              "3       1/6/2012  328.34  328.77  323.68  648.24   5,405,900\n",
              "4       1/9/2012  322.04  322.29  309.46  620.76  11,688,800\n",
              "...          ...     ...     ...     ...     ...         ...\n",
              "1253  12/23/2016  790.90  792.74  787.28  789.91     623,400\n",
              "1254  12/27/2016  790.68  797.86  787.66  791.55     789,100\n",
              "1255  12/28/2016  793.70  794.23  783.20  785.05   1,153,800\n",
              "1256  12/29/2016  783.33  785.93  778.92  782.79     744,300\n",
              "1257  12/30/2016  782.75  782.78  770.41  771.82   1,770,000\n",
              "\n",
              "[1258 rows x 6 columns]"
            ]
          },
          "metadata": {},
          "execution_count": 77
        }
      ]
    },
    {
      "cell_type": "code",
      "metadata": {
        "id": "IqGaXeED94tM"
      },
      "source": [
        "from datetime import date\n",
        "\n",
        "class Quadl_Data_setup:\n",
        "\n",
        "  def __init__(self, dir, start_date, end_date):\n",
        "    self.__dir = dir\n",
        "    self.start_date = start_date\n",
        "    self.end_date = end_date\n",
        "    self.features = ['Open', 'High', 'Low', 'Close', 'Total Trade Quantity']\n",
        "\n",
        "  def setup_dataset(self, scrip):\n",
        "\n",
        "    save_dir = os.path.join(self.__dir, f'{scrip}_{self.start_date}_{self.end_date}')\n",
        "    if os.path.exists(save_dir):\n",
        "      print(f'\\n{scrip} already done\\n')\n",
        "      train_dataset = pd.read_csv(os.path.join(save_dir, 'dataset_train.csv'))\n",
        "      test_dataset = pd.read_csv(os.path.join(save_dir, 'dataset_test.csv'))\n",
        "      print(f'Train_dataset\\n{train_dataset}')\n",
        "      print(f'Test_dataset\\n{test_dataset}')\n",
        "      return \n",
        "\n",
        "    os.makedirs(save_dir)\n",
        "\n",
        "    stock_data = quandl.get(f'NSE/{scrip}', start_date=self.start_date, end_date=self.end_date)\n",
        "    dataset = pd.DataFrame()\n",
        "    dataset['Date'] = stock_data.index\n",
        "    stock_data.reset_index(drop=True, inplace=True)\n",
        "    dataset = dataset.join(stock_data[features]);\n",
        "    dataset.rename(columns={'Total Trade Quantity': 'Volume'}, inplace=True)\n",
        "\n",
        "    save_file_test = os.path.join(save_dir, 'dataset_test.csv')\n",
        "    save_file_train = os.path.join(save_dir, 'dataset_train.csv')\n",
        "\n",
        "    print(f'\\n{scrip} done\\n')\n",
        "\n",
        "    train_dataset = dataset.sample(frac=SPLIT,random_state=SEED)\n",
        "    test_dataset = dataset.drop(train_dataset.index)\n",
        "\n",
        "    train_dataset.to_csv(save_file_train, encoding='utf-8', index=False)\n",
        "    test_dataset.to_csv(save_file_test, encoding='utf-8', index=False)\n",
        "    \n",
        "    print(f'Train_dataset\\n{train_dataset}')\n",
        "    print(f'Test_dataset\\n{test_dataset}')\n"
      ],
      "execution_count": 142,
      "outputs": []
    },
    {
      "cell_type": "markdown",
      "metadata": {
        "id": "f-al4hUujqFu"
      },
      "source": [
        "## WORKING WITH NSE DATA"
      ]
    },
    {
      "cell_type": "code",
      "metadata": {
        "id": "4f3b71IZTqrF",
        "colab": {
          "base_uri": "https://localhost:8080/",
          "height": 1000,
          "referenced_widgets": [
            "2f3fde4e3ea2449480d8eb1d0537d254",
            "387b168d209f445bbd87e13152c67449",
            "3dc542a607c14b84a1182efaeb8cf951",
            "16bcddd0500a43dc968bf155cea3cf36",
            "41ecb088c02b4cee9b187412565da8f6",
            "89fcc2caf31344cda5c552452244fe9b",
            "6b00767ab8eb4233bf08166d036a2da6",
            "77db3ad734304a2a9c1daa60c597b3db",
            "c408450492f14fc099eadffea004d039",
            "6d4878380c6e4723a34a3fa14069d501",
            "b612e5f6ac7b411f9ca1ce4969a7dbf4",
            "fef4375e89ad424192885d6ac3f72221",
            "7cca40a5fa9445238cd5fff854382125",
            "53fe7b0ef6d7457ebc62824ae7d319ac",
            "dd251438c4f44a4fa43f4190c3ed5a80",
            "bb1565b1d98e4fbeb08c64ed903f619f",
            "4241e2dbd2c045f68f6db482d282ae1a",
            "5834df7badc545d9867faea422555a51",
            "cdeaeb8ba942417b8866e09ebb77d615",
            "2bba037811c44655a16bf416ceb0db3c",
            "79919ad2414045fe812e19501115eb0e",
            "58d936ac83184af89cc7b78f41ab0dc6"
          ]
        },
        "outputId": "ec4b232b-1065-4794-c7f3-3044eddcbd95"
      },
      "source": [
        "import tqdm.notebook as tq\n",
        "\n",
        "scrips = ['TCS', 'TATASTEEL']\n",
        "START_DATES = [date(2018, 12, 1)]\n",
        "END_DATES = [date(2018, 12, 31)]\n",
        "\n",
        "\n",
        "for index, start_date in tq.tqdm(enumerate(START_DATES)):\n",
        "\n",
        "  quadl_data_setup = Quadl_Data_setup(ML_DATASET, start_date, END_DATES[index])\n",
        "\n",
        "  for scrip in tq.tqdm(scrips):\n",
        "    quadl_data_setup.setup_dataset(scrip)"
      ],
      "execution_count": 146,
      "outputs": [
        {
          "output_type": "display_data",
          "data": {
            "application/vnd.jupyter.widget-view+json": {
              "model_id": "2f3fde4e3ea2449480d8eb1d0537d254",
              "version_minor": 0,
              "version_major": 2
            },
            "text/plain": [
              "0it [00:00, ?it/s]"
            ]
          },
          "metadata": {}
        },
        {
          "output_type": "display_data",
          "data": {
            "application/vnd.jupyter.widget-view+json": {
              "model_id": "fef4375e89ad424192885d6ac3f72221",
              "version_minor": 0,
              "version_major": 2
            },
            "text/plain": [
              "  0%|          | 0/2 [00:00<?, ?it/s]"
            ]
          },
          "metadata": {}
        },
        {
          "output_type": "stream",
          "name": "stdout",
          "text": [
            "\n",
            "TCS already done\n",
            "\n",
            "Train_dataset\n",
            "          Date    Open    High      Low    Close     Volume\n",
            "0   2018-12-17  1999.0  2004.9  1985.00  1994.30  1227921.0\n",
            "1   2018-12-21  1948.0  1950.0  1886.55  1895.80  3729956.0\n",
            "2   2018-12-18  1991.9  2002.0  1976.40  1987.85  1768742.0\n",
            "3   2018-12-05  2006.0  2018.0  1985.00  2006.75  2501539.0\n",
            "4   2018-12-20  1953.8  1974.9  1946.00  1954.05  1940277.0\n",
            "5   2018-12-04  1983.0  2019.4  1971.00  2010.85  3270615.0\n",
            "6   2018-12-03  1984.0  1990.0  1968.30  1982.40  1610576.0\n",
            "7   2018-12-24  1905.8  1938.9  1905.00  1918.50  1864116.0\n",
            "8   2018-12-06  1998.0  2017.0  1979.60  1992.70  2321216.0\n",
            "9   2018-12-26  1921.8  1921.8  1870.25  1889.20  2446614.0\n",
            "10  2018-12-27  1909.0  1941.7  1872.10  1908.95  4968201.0\n",
            "11  2018-12-11  1970.0  2010.0  1961.00  2000.00  2942014.0\n",
            "12  2018-12-12  2001.1  2022.0  1984.95  2016.80  2219993.0\n",
            "13  2018-12-10  1975.0  2011.0  1960.00  1975.80  2010786.0\n",
            "14  2018-12-28  1915.0  1920.0  1893.00  1896.05  2239130.0\n",
            "15  2018-12-13  2024.0  2029.7  1974.50  1982.60  3748429.0\n",
            "Test_dataset\n",
            "         Date     Open     High      Low    Close     Volume\n",
            "0  2018-12-07  1985.05  2003.90  1973.00  1995.20  1680420.0\n",
            "1  2018-12-14  1983.00  1998.95  1975.25  1989.75  2473761.0\n",
            "2  2018-12-19  1984.80  1984.80  1960.05  1968.45  2498833.0\n",
            "3  2018-12-31  1908.00  1909.00  1886.15  1893.05  1879740.0\n",
            "\n",
            "TATASTEEL already done\n",
            "\n",
            "Train_dataset\n",
            "          Date    Open    High     Low   Close      Volume\n",
            "0   2018-12-17  518.00  525.25  516.40  524.00   4804854.0\n",
            "1   2018-12-21  524.15  532.00  518.30  520.20   5969670.0\n",
            "2   2018-12-18  523.00  528.40  519.60  527.00   5673527.0\n",
            "3   2018-12-05  533.00  533.00  515.00  517.70   7078082.0\n",
            "4   2018-12-20  520.00  527.00  520.00  523.35   3517335.0\n",
            "5   2018-12-04  532.70  540.50  532.15  538.20   6153810.0\n",
            "6   2018-12-03  541.20  552.70  535.75  538.10  12092365.0\n",
            "7   2018-12-24  518.00  520.70  512.00  513.70   4329440.0\n",
            "8   2018-12-06  513.25  521.70  501.00  510.20  12966714.0\n",
            "9   2018-12-26  509.00  517.30  504.40  513.45   4953741.0\n",
            "10  2018-12-27  518.00  519.80  504.95  506.50   5016931.0\n",
            "11  2018-12-11  495.60  503.70  486.15  500.75  11242572.0\n",
            "12  2018-12-12  506.00  522.50  505.50  520.25   8141983.0\n",
            "13  2018-12-10  499.40  509.50  497.00  502.85   5414705.0\n",
            "14  2018-12-28  508.20  516.45  508.05  512.85   6307408.0\n",
            "15  2018-12-13  528.05  528.05  508.00  512.25   6810095.0\n",
            "Test_dataset\n",
            "         Date   Open    High    Low   Close     Volume\n",
            "0  2018-12-07  510.7  514.90  503.2  509.30  8252927.0\n",
            "1  2018-12-14  511.0  517.80  506.5  513.55  5155980.0\n",
            "2  2018-12-19  527.9  532.45  524.6  527.40  4928043.0\n",
            "3  2018-12-31  520.0  525.00  516.2  521.05  7965812.0\n"
          ]
        }
      ]
    }
  ]
}