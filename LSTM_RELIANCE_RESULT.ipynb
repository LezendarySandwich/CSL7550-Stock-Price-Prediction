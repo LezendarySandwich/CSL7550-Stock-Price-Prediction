{
  "nbformat": 4,
  "nbformat_minor": 0,
  "metadata": {
    "colab": {
      "name": "LSTM_RELIANCE_RESULT.ipynb",
      "provenance": [],
      "collapsed_sections": [],
      "include_colab_link": true
    },
    "kernelspec": {
      "name": "python3",
      "display_name": "Python 3"
    },
    "language_info": {
      "name": "python"
    }
  },
  "cells": [
    {
      "cell_type": "markdown",
      "metadata": {
        "id": "view-in-github",
        "colab_type": "text"
      },
      "source": [
        "<a href=\"https://colab.research.google.com/github/LezendarySandwich/CSL7550-Stock-Price-Prediction/blob/master/LSTM_RELIANCE_RESULT.ipynb\" target=\"_parent\"><img src=\"https://colab.research.google.com/assets/colab-badge.svg\" alt=\"Open In Colab\"/></a>"
      ]
    },
    {
      "cell_type": "code",
      "metadata": {
        "id": "MlTjomyYrOFm"
      },
      "source": [
        "import os\n",
        "import shutil\n",
        "from google.colab import drive\n",
        "import pandas as pd\n",
        "import matplotlib.pyplot as plt \n",
        "\n",
        "if not os.path.exists('/content/drive'):\n",
        "  drive.mount('/content/drive')"
      ],
      "execution_count": null,
      "outputs": []
    },
    {
      "cell_type": "code",
      "metadata": {
        "id": "MD7J88G4rfCm"
      },
      "source": [
        "from datetime import date\n",
        "\n",
        "STORAGE = '/content/drive/MyDrive' #@param {type : \"string\"}\n",
        "KAGGLE_DIR = 'Kaggle' #@param {type : \"string\"}\n",
        "KAGGLE_JSON_PATH = os.path.join(STORAGE, KAGGLE_DIR)\n",
        "QUANDL_PATH = os.path.join(KAGGLE_JSON_PATH, '.quandl')\n",
        "__PROJECT = os.path.join(STORAGE, 'Neo')\n",
        "ML_DATASET = os.path.join(__PROJECT, 'dataset')\n",
        "START_DATE = date(2014, 1, 1)\n",
        "END_DATE = date(2019,1,1)\n",
        "STOCK = 'RELIANCE'#@param {type : \"string\"}\n",
        "SAVE_DIR = os.path.join(ML_DATASET, f'{STOCK}_{START_DATE}_{END_DATE}')\n",
        "TEST_DS = os.path.join(SAVE_DIR,'dataset_test.csv')\n",
        "TRAIN_DS = os.path.join(SAVE_DIR,'dataset_train.csv')"
      ],
      "execution_count": null,
      "outputs": []
    },
    {
      "cell_type": "code",
      "metadata": {
        "colab": {
          "base_uri": "https://localhost:8080/",
          "height": 422
        },
        "id": "85DVYITErq-r",
        "outputId": "92008f12-f7f7-4d11-d9d4-b49fd16d2b64"
      },
      "source": [
        "train_df= pd.read_csv(TRAIN_DS)\n",
        "test_df= pd.read_csv(TEST_DS)\n",
        "train_df"
      ],
      "execution_count": null,
      "outputs": [
        {
          "output_type": "execute_result",
          "data": {
            "text/html": [
              "<div>\n",
              "<style scoped>\n",
              "    .dataframe tbody tr th:only-of-type {\n",
              "        vertical-align: middle;\n",
              "    }\n",
              "\n",
              "    .dataframe tbody tr th {\n",
              "        vertical-align: top;\n",
              "    }\n",
              "\n",
              "    .dataframe thead th {\n",
              "        text-align: right;\n",
              "    }\n",
              "</style>\n",
              "<table border=\"1\" class=\"dataframe\">\n",
              "  <thead>\n",
              "    <tr style=\"text-align: right;\">\n",
              "      <th></th>\n",
              "      <th>Date</th>\n",
              "      <th>Open</th>\n",
              "      <th>High</th>\n",
              "      <th>Low</th>\n",
              "      <th>Close</th>\n",
              "      <th>Volume</th>\n",
              "    </tr>\n",
              "  </thead>\n",
              "  <tbody>\n",
              "    <tr>\n",
              "      <th>0</th>\n",
              "      <td>2014-01-01</td>\n",
              "      <td>897.45</td>\n",
              "      <td>898.25</td>\n",
              "      <td>887.60</td>\n",
              "      <td>888.80</td>\n",
              "      <td>1337074.0</td>\n",
              "    </tr>\n",
              "    <tr>\n",
              "      <th>1</th>\n",
              "      <td>2014-01-02</td>\n",
              "      <td>887.70</td>\n",
              "      <td>896.00</td>\n",
              "      <td>870.10</td>\n",
              "      <td>875.00</td>\n",
              "      <td>1376901.0</td>\n",
              "    </tr>\n",
              "    <tr>\n",
              "      <th>2</th>\n",
              "      <td>2014-01-03</td>\n",
              "      <td>871.60</td>\n",
              "      <td>873.35</td>\n",
              "      <td>855.00</td>\n",
              "      <td>864.25</td>\n",
              "      <td>2933613.0</td>\n",
              "    </tr>\n",
              "    <tr>\n",
              "      <th>3</th>\n",
              "      <td>2014-01-06</td>\n",
              "      <td>862.10</td>\n",
              "      <td>863.25</td>\n",
              "      <td>850.00</td>\n",
              "      <td>854.95</td>\n",
              "      <td>3043781.0</td>\n",
              "    </tr>\n",
              "    <tr>\n",
              "      <th>4</th>\n",
              "      <td>2014-01-07</td>\n",
              "      <td>854.60</td>\n",
              "      <td>859.95</td>\n",
              "      <td>840.05</td>\n",
              "      <td>842.10</td>\n",
              "      <td>3957111.0</td>\n",
              "    </tr>\n",
              "    <tr>\n",
              "      <th>...</th>\n",
              "      <td>...</td>\n",
              "      <td>...</td>\n",
              "      <td>...</td>\n",
              "      <td>...</td>\n",
              "      <td>...</td>\n",
              "      <td>...</td>\n",
              "    </tr>\n",
              "    <tr>\n",
              "      <th>982</th>\n",
              "      <td>2017-12-22</td>\n",
              "      <td>914.65</td>\n",
              "      <td>922.40</td>\n",
              "      <td>909.30</td>\n",
              "      <td>920.40</td>\n",
              "      <td>4872675.0</td>\n",
              "    </tr>\n",
              "    <tr>\n",
              "      <th>983</th>\n",
              "      <td>2017-12-26</td>\n",
              "      <td>924.85</td>\n",
              "      <td>938.90</td>\n",
              "      <td>918.15</td>\n",
              "      <td>929.80</td>\n",
              "      <td>5301456.0</td>\n",
              "    </tr>\n",
              "    <tr>\n",
              "      <th>984</th>\n",
              "      <td>2017-12-27</td>\n",
              "      <td>933.00</td>\n",
              "      <td>937.50</td>\n",
              "      <td>919.00</td>\n",
              "      <td>923.75</td>\n",
              "      <td>4352384.0</td>\n",
              "    </tr>\n",
              "    <tr>\n",
              "      <th>985</th>\n",
              "      <td>2017-12-28</td>\n",
              "      <td>925.25</td>\n",
              "      <td>934.40</td>\n",
              "      <td>919.10</td>\n",
              "      <td>924.20</td>\n",
              "      <td>7091515.0</td>\n",
              "    </tr>\n",
              "    <tr>\n",
              "      <th>986</th>\n",
              "      <td>2017-12-29</td>\n",
              "      <td>926.50</td>\n",
              "      <td>932.30</td>\n",
              "      <td>918.50</td>\n",
              "      <td>921.05</td>\n",
              "      <td>5069838.0</td>\n",
              "    </tr>\n",
              "  </tbody>\n",
              "</table>\n",
              "<p>987 rows × 6 columns</p>\n",
              "</div>"
            ],
            "text/plain": [
              "           Date    Open    High     Low   Close     Volume\n",
              "0    2014-01-01  897.45  898.25  887.60  888.80  1337074.0\n",
              "1    2014-01-02  887.70  896.00  870.10  875.00  1376901.0\n",
              "2    2014-01-03  871.60  873.35  855.00  864.25  2933613.0\n",
              "3    2014-01-06  862.10  863.25  850.00  854.95  3043781.0\n",
              "4    2014-01-07  854.60  859.95  840.05  842.10  3957111.0\n",
              "..          ...     ...     ...     ...     ...        ...\n",
              "982  2017-12-22  914.65  922.40  909.30  920.40  4872675.0\n",
              "983  2017-12-26  924.85  938.90  918.15  929.80  5301456.0\n",
              "984  2017-12-27  933.00  937.50  919.00  923.75  4352384.0\n",
              "985  2017-12-28  925.25  934.40  919.10  924.20  7091515.0\n",
              "986  2017-12-29  926.50  932.30  918.50  921.05  5069838.0\n",
              "\n",
              "[987 rows x 6 columns]"
            ]
          },
          "metadata": {},
          "execution_count": 139
        }
      ]
    },
    {
      "cell_type": "code",
      "metadata": {
        "id": "rmQrYLs_zQUM"
      },
      "source": [
        "train_dates_df= train_df['Date']\n",
        "train_df= train_df.drop(columns=[\"Date\"])\n",
        "test_dates_df= test_df['Date']\n",
        "test_df= test_df.drop(columns=['Date']) "
      ],
      "execution_count": null,
      "outputs": []
    },
    {
      "cell_type": "code",
      "metadata": {
        "colab": {
          "base_uri": "https://localhost:8080/"
        },
        "id": "H2XDN5_pytLw",
        "outputId": "29a435d5-f438-4999-f3cd-e65bc7c6fc1d"
      },
      "source": [
        "#Feature Scaling\n",
        "from sklearn.preprocessing import MinMaxScaler\n",
        "import numpy as np\n",
        "\n",
        "sc = MinMaxScaler(feature_range=(0,1), copy = True)\n",
        "training_set_scaled = sc.fit_transform(train_df)\n",
        "x_train = []\n",
        "y_train = []\n",
        "\n",
        "for i in range(60,len(train_df)):\n",
        "    x_train.append(training_set_scaled[i-60:i,0])\n",
        "    y_train.append(training_set_scaled[i,0])\n",
        "\n",
        "x_train, y_train = np.array(x_train), np.array(y_train)\n",
        "x_train"
      ],
      "execution_count": null,
      "outputs": [
        {
          "output_type": "execute_result",
          "data": {
            "text/plain": [
              "array([[0.12131994, 0.11012912, 0.09164993, ..., 0.11420373, 0.10014347,\n",
              "        0.10272597],\n",
              "       [0.11012912, 0.09164993, 0.08074605, ..., 0.10014347, 0.10272597,\n",
              "        0.11833572],\n",
              "       [0.09164993, 0.08074605, 0.07213773, ..., 0.10272597, 0.11833572,\n",
              "        0.12424677],\n",
              "       ...,\n",
              "       [0.        , 0.00373027, 0.00855093, ..., 0.14542324, 0.14106169,\n",
              "        0.15276901],\n",
              "       [0.00373027, 0.00855093, 0.03816356, ..., 0.14106169, 0.15276901,\n",
              "        0.16212339],\n",
              "       [0.00855093, 0.03816356, 0.03701578, ..., 0.15276901, 0.16212339,\n",
              "        0.15322812]])"
            ]
          },
          "metadata": {},
          "execution_count": 141
        }
      ]
    },
    {
      "cell_type": "code",
      "metadata": {
        "id": "CEqQGEGJ0hgh"
      },
      "source": [
        "x_train = np.reshape(x_train, (x_train.shape[0],x_train.shape[1],1))"
      ],
      "execution_count": null,
      "outputs": []
    },
    {
      "cell_type": "code",
      "metadata": {
        "id": "0PVU4KNv0na0"
      },
      "source": [
        "from tensorflow.keras.models import Sequential\n",
        "from tensorflow.keras.layers import Dense\n",
        "from tensorflow.keras.layers import LSTM\n",
        "from tensorflow.keras.layers import Dropout\n",
        "#Adding the first LSTM layer and some dropout regularization to avoid overfitting\n",
        "regressor = Sequential()\n",
        "#Add first LSTM layer\n",
        "regressor.add(LSTM(units= 50, return_sequences=True, input_shape = (x_train.shape[1],1) )) #No of LSTM cells = units, return_sequences = True because we are building a stacked LSTM which will have several LSTM layers, when you are done adding LSTM layers set it to False whch is the default, input_shape (timesteps,predictors)\n",
        "#Add dropout regularization\n",
        "regressor.add(Dropout(rate = 0.2)) #rate of neurons you want to drop during regularization (during each iteration of the forward and back propagation)\n",
        "\n",
        "#Add Second LSTM Layer and dropout regularization \n",
        "regressor.add(LSTM(units= 50, return_sequences=True )) #No of LSTM cells = units, return_sequences = True because we are building a stacked LSTM which will have several LSTM layers, when you are done adding LSTM layers set it to False whch is the default \n",
        "#Add dropout regularization\n",
        "regressor.add(Dropout(rate = 0.2)) #rate of neurons you want to drop during regularization (during each iteration of the forward and back propagation)\n",
        "\n",
        "#Add Third LSTM Layer and dropout regularization \n",
        "regressor.add(LSTM(units= 50, return_sequences=True )) #No of LSTM cells = units, return_sequences = True because we are building a stacked LSTM which will have several LSTM layers, when you are done adding LSTM layers set it to False whch is the default \n",
        "#Add dropout regularization\n",
        "regressor.add(Dropout(rate = 0.2)) #rate of neurons you want to drop during regularization (during each iteration of the forward and back propagation)\n",
        "\n",
        "#Add Fourth LSTM Layer and dropout regularization \n",
        "#return_sequences=False because this is our last LSTM layer\n",
        "regressor.add(LSTM(units= 50, return_sequences=False )) #No of LSTM cells = units, return_sequences = True because we are done adding LSTM layers \n",
        "#Add dropout regularization\n",
        "regressor.add(Dropout(rate = 0.2)) #rate of neurons you want to drop during regularization (during each iteration of the forward and back propagation)\n",
        "\n",
        "#Add the output layer for full connection\n",
        "\n",
        "regressor.add(Dense(units=1 ))\n",
        "\n",
        "#Compiling the RNN\n",
        "\n",
        "regressor.compile(optimizer=\"adam\", loss = \"mean_squared_error\") #optimizer=\"rmsprop\" recommended for RNN but adam is always a safe and good choice\n",
        "#loss = \"mean_squared_error\" for regression \n",
        "\n"
      ],
      "execution_count": null,
      "outputs": []
    },
    {
      "cell_type": "code",
      "metadata": {
        "colab": {
          "base_uri": "https://localhost:8080/"
        },
        "id": "w5CfBlHq04e6",
        "outputId": "8ab01aba-6b30-483d-ff14-5d1081402b17"
      },
      "source": [
        "regressor.fit(x_train,y_train, epochs= 100, batch_size=32)"
      ],
      "execution_count": null,
      "outputs": [
        {
          "output_type": "stream",
          "name": "stdout",
          "text": [
            "Epoch 1/100\n",
            "29/29 [==============================] - 10s 128ms/step - loss: 0.0326\n",
            "Epoch 2/100\n",
            "29/29 [==============================] - 4s 130ms/step - loss: 0.0157\n",
            "Epoch 3/100\n",
            "29/29 [==============================] - 4s 124ms/step - loss: 0.0118\n",
            "Epoch 4/100\n",
            "29/29 [==============================] - 4s 126ms/step - loss: 0.0134\n",
            "Epoch 5/100\n",
            "29/29 [==============================] - 4s 128ms/step - loss: 0.0094\n",
            "Epoch 6/100\n",
            "29/29 [==============================] - 4s 124ms/step - loss: 0.0078\n",
            "Epoch 7/100\n",
            "29/29 [==============================] - 4s 126ms/step - loss: 0.0086\n",
            "Epoch 8/100\n",
            "29/29 [==============================] - 4s 128ms/step - loss: 0.0082\n",
            "Epoch 9/100\n",
            "29/29 [==============================] - 4s 124ms/step - loss: 0.0071\n",
            "Epoch 10/100\n",
            "29/29 [==============================] - 4s 129ms/step - loss: 0.0068\n",
            "Epoch 11/100\n",
            "29/29 [==============================] - 4s 129ms/step - loss: 0.0061\n",
            "Epoch 12/100\n",
            "29/29 [==============================] - 4s 130ms/step - loss: 0.0070\n",
            "Epoch 13/100\n",
            "29/29 [==============================] - 4s 127ms/step - loss: 0.0069\n",
            "Epoch 14/100\n",
            "29/29 [==============================] - 4s 129ms/step - loss: 0.0068\n",
            "Epoch 15/100\n",
            "29/29 [==============================] - 4s 127ms/step - loss: 0.0069\n",
            "Epoch 16/100\n",
            "29/29 [==============================] - 4s 126ms/step - loss: 0.0060\n",
            "Epoch 17/100\n",
            "29/29 [==============================] - 4s 130ms/step - loss: 0.0054\n",
            "Epoch 18/100\n",
            "29/29 [==============================] - 4s 130ms/step - loss: 0.0057\n",
            "Epoch 19/100\n",
            "29/29 [==============================] - 4s 130ms/step - loss: 0.0068\n",
            "Epoch 20/100\n",
            "29/29 [==============================] - 4s 129ms/step - loss: 0.0060\n",
            "Epoch 21/100\n",
            "29/29 [==============================] - 4s 130ms/step - loss: 0.0083\n",
            "Epoch 22/100\n",
            "29/29 [==============================] - 4s 128ms/step - loss: 0.0058\n",
            "Epoch 23/100\n",
            "29/29 [==============================] - 4s 131ms/step - loss: 0.0057\n",
            "Epoch 24/100\n",
            "29/29 [==============================] - 4s 127ms/step - loss: 0.0045\n",
            "Epoch 25/100\n",
            "29/29 [==============================] - 4s 130ms/step - loss: 0.0049\n",
            "Epoch 26/100\n",
            "29/29 [==============================] - 4s 126ms/step - loss: 0.0042\n",
            "Epoch 27/100\n",
            "29/29 [==============================] - 4s 130ms/step - loss: 0.0047\n",
            "Epoch 28/100\n",
            "29/29 [==============================] - 4s 130ms/step - loss: 0.0053\n",
            "Epoch 29/100\n",
            "29/29 [==============================] - 4s 134ms/step - loss: 0.0042\n",
            "Epoch 30/100\n",
            "29/29 [==============================] - 4s 131ms/step - loss: 0.0045\n",
            "Epoch 31/100\n",
            "29/29 [==============================] - 4s 130ms/step - loss: 0.0045\n",
            "Epoch 32/100\n",
            "29/29 [==============================] - 4s 127ms/step - loss: 0.0042\n",
            "Epoch 33/100\n",
            "29/29 [==============================] - 4s 130ms/step - loss: 0.0040\n",
            "Epoch 34/100\n",
            "29/29 [==============================] - 4s 132ms/step - loss: 0.0036\n",
            "Epoch 35/100\n",
            "29/29 [==============================] - 4s 133ms/step - loss: 0.0039\n",
            "Epoch 36/100\n",
            "29/29 [==============================] - 4s 129ms/step - loss: 0.0037\n",
            "Epoch 37/100\n",
            "29/29 [==============================] - 4s 130ms/step - loss: 0.0044\n",
            "Epoch 38/100\n",
            "29/29 [==============================] - 4s 130ms/step - loss: 0.0039\n",
            "Epoch 39/100\n",
            "29/29 [==============================] - 4s 122ms/step - loss: 0.0041\n",
            "Epoch 40/100\n",
            "29/29 [==============================] - 4s 128ms/step - loss: 0.0037\n",
            "Epoch 41/100\n",
            "29/29 [==============================] - 4s 130ms/step - loss: 0.0038\n",
            "Epoch 42/100\n",
            "29/29 [==============================] - 4s 131ms/step - loss: 0.0035\n",
            "Epoch 43/100\n",
            "29/29 [==============================] - 4s 135ms/step - loss: 0.0037\n",
            "Epoch 44/100\n",
            "29/29 [==============================] - 4s 132ms/step - loss: 0.0035\n",
            "Epoch 45/100\n",
            "29/29 [==============================] - 4s 132ms/step - loss: 0.0034\n",
            "Epoch 46/100\n",
            "29/29 [==============================] - 4s 134ms/step - loss: 0.0036\n",
            "Epoch 47/100\n",
            "29/29 [==============================] - 4s 132ms/step - loss: 0.0032\n",
            "Epoch 48/100\n",
            "29/29 [==============================] - 4s 127ms/step - loss: 0.0046\n",
            "Epoch 49/100\n",
            "29/29 [==============================] - 4s 128ms/step - loss: 0.0029\n",
            "Epoch 50/100\n",
            "29/29 [==============================] - 4s 132ms/step - loss: 0.0035\n",
            "Epoch 51/100\n",
            "29/29 [==============================] - 4s 129ms/step - loss: 0.0028\n",
            "Epoch 52/100\n",
            "29/29 [==============================] - 4s 133ms/step - loss: 0.0028\n",
            "Epoch 53/100\n",
            "29/29 [==============================] - 4s 129ms/step - loss: 0.0025\n",
            "Epoch 54/100\n",
            "29/29 [==============================] - 4s 127ms/step - loss: 0.0029\n",
            "Epoch 55/100\n",
            "29/29 [==============================] - 4s 131ms/step - loss: 0.0032\n",
            "Epoch 56/100\n",
            "29/29 [==============================] - 4s 128ms/step - loss: 0.0031\n",
            "Epoch 57/100\n",
            "29/29 [==============================] - 4s 127ms/step - loss: 0.0030\n",
            "Epoch 58/100\n",
            "29/29 [==============================] - 3s 120ms/step - loss: 0.0024\n",
            "Epoch 59/100\n",
            "29/29 [==============================] - 4s 130ms/step - loss: 0.0030\n",
            "Epoch 60/100\n",
            "29/29 [==============================] - 4s 131ms/step - loss: 0.0024\n",
            "Epoch 61/100\n",
            "29/29 [==============================] - 4s 131ms/step - loss: 0.0028\n",
            "Epoch 62/100\n",
            "29/29 [==============================] - 4s 128ms/step - loss: 0.0029\n",
            "Epoch 63/100\n",
            "29/29 [==============================] - 4s 129ms/step - loss: 0.0025\n",
            "Epoch 64/100\n",
            "29/29 [==============================] - 4s 129ms/step - loss: 0.0031\n",
            "Epoch 65/100\n",
            "29/29 [==============================] - 4s 131ms/step - loss: 0.0026\n",
            "Epoch 66/100\n",
            "29/29 [==============================] - 4s 131ms/step - loss: 0.0023\n",
            "Epoch 67/100\n",
            "29/29 [==============================] - 4s 133ms/step - loss: 0.0028\n",
            "Epoch 68/100\n",
            "29/29 [==============================] - 4s 128ms/step - loss: 0.0028\n",
            "Epoch 69/100\n",
            "29/29 [==============================] - 4s 131ms/step - loss: 0.0025\n",
            "Epoch 70/100\n",
            "29/29 [==============================] - 4s 127ms/step - loss: 0.0029\n",
            "Epoch 71/100\n",
            "29/29 [==============================] - 4s 131ms/step - loss: 0.0030\n",
            "Epoch 72/100\n",
            "29/29 [==============================] - 4s 128ms/step - loss: 0.0030\n",
            "Epoch 73/100\n",
            "29/29 [==============================] - 4s 127ms/step - loss: 0.0027\n",
            "Epoch 74/100\n",
            "29/29 [==============================] - 4s 127ms/step - loss: 0.0025\n",
            "Epoch 75/100\n",
            "29/29 [==============================] - 4s 127ms/step - loss: 0.0023\n",
            "Epoch 76/100\n",
            "29/29 [==============================] - 4s 131ms/step - loss: 0.0021\n",
            "Epoch 77/100\n",
            "29/29 [==============================] - 4s 130ms/step - loss: 0.0022\n",
            "Epoch 78/100\n",
            "29/29 [==============================] - 4s 128ms/step - loss: 0.0024\n",
            "Epoch 79/100\n",
            "29/29 [==============================] - 4s 128ms/step - loss: 0.0027\n",
            "Epoch 80/100\n",
            "29/29 [==============================] - 4s 126ms/step - loss: 0.0026\n",
            "Epoch 81/100\n",
            "29/29 [==============================] - 4s 128ms/step - loss: 0.0026\n",
            "Epoch 82/100\n",
            "29/29 [==============================] - 4s 131ms/step - loss: 0.0023\n",
            "Epoch 83/100\n",
            "29/29 [==============================] - 4s 131ms/step - loss: 0.0023\n",
            "Epoch 84/100\n",
            "29/29 [==============================] - 4s 128ms/step - loss: 0.0024\n",
            "Epoch 85/100\n",
            "29/29 [==============================] - 4s 127ms/step - loss: 0.0024\n",
            "Epoch 86/100\n",
            "29/29 [==============================] - 4s 129ms/step - loss: 0.0024\n",
            "Epoch 87/100\n",
            "29/29 [==============================] - 4s 131ms/step - loss: 0.0023\n",
            "Epoch 88/100\n",
            "29/29 [==============================] - 4s 129ms/step - loss: 0.0025\n",
            "Epoch 89/100\n",
            "29/29 [==============================] - 4s 130ms/step - loss: 0.0022\n",
            "Epoch 90/100\n",
            "29/29 [==============================] - 4s 128ms/step - loss: 0.0024\n",
            "Epoch 91/100\n",
            "29/29 [==============================] - 4s 128ms/step - loss: 0.0025\n",
            "Epoch 92/100\n",
            "29/29 [==============================] - 4s 129ms/step - loss: 0.0023\n",
            "Epoch 93/100\n",
            "29/29 [==============================] - 4s 129ms/step - loss: 0.0025\n",
            "Epoch 94/100\n",
            "29/29 [==============================] - 4s 128ms/step - loss: 0.0021\n",
            "Epoch 95/100\n",
            "29/29 [==============================] - 4s 128ms/step - loss: 0.0023\n",
            "Epoch 96/100\n",
            "29/29 [==============================] - 4s 131ms/step - loss: 0.0022\n",
            "Epoch 97/100\n",
            "29/29 [==============================] - 4s 129ms/step - loss: 0.0025\n",
            "Epoch 98/100\n",
            "29/29 [==============================] - 4s 130ms/step - loss: 0.0022\n",
            "Epoch 99/100\n",
            "29/29 [==============================] - 4s 130ms/step - loss: 0.0023\n",
            "Epoch 100/100\n",
            "29/29 [==============================] - 4s 132ms/step - loss: 0.0022\n"
          ]
        },
        {
          "output_type": "execute_result",
          "data": {
            "text/plain": [
              "<keras.callbacks.History at 0x7fe490cb1890>"
            ]
          },
          "metadata": {},
          "execution_count": 144
        }
      ]
    },
    {
      "cell_type": "code",
      "metadata": {
        "colab": {
          "base_uri": "https://localhost:8080/"
        },
        "id": "rPRLs2a92je3",
        "outputId": "9aabd3f5-c219-4008-837b-e2a48a6731f7"
      },
      "source": [
        "FUTURE_PREDICTION_RANGE = 60 #@param {type : \"number\"}\n",
        "WINDOW = 60 #@param {type : \"number\"}\n",
        "\n",
        "#Concatenating the training dataset and test dataset by row to form a total dataset\n",
        "dataset_total = pd.concat((train_df[\"Open\"], test_df[\"Open\"]), axis = 0)\n",
        "\n",
        "#Extract last 60 data from the training dataset + all the data from the test dataset (60 because we trained the model with 60 timesteps)\n",
        "inputs = dataset_total[len(dataset_total) - len(test_df) - WINDOW:].values\n",
        "inputs = inputs.reshape(-1,1)\n",
        "#print(inputs)\n",
        "#Feature Scaling\n",
        "tmp=train_df[\"Open\"].values\n",
        "tmp=tmp.reshape(-1,1)\n",
        "sc.fit(tmp)\n",
        "inputs = sc.transform(inputs)\n",
        "inputs"
      ],
      "execution_count": null,
      "outputs": [
        {
          "output_type": "execute_result",
          "data": {
            "text/plain": [
              "array([[0.03816356],\n",
              "       [0.03701578],\n",
              "       [0.05423242],\n",
              "       [0.04505022],\n",
              "       [0.06146341],\n",
              "       [0.05779053],\n",
              "       [0.1004878 ],\n",
              "       [0.10014347],\n",
              "       [0.0989957 ],\n",
              "       [0.09830703],\n",
              "       [0.14238164],\n",
              "       [0.13905308],\n",
              "       [0.1789957 ],\n",
              "       [0.1702726 ],\n",
              "       [0.17015782],\n",
              "       [0.18163558],\n",
              "       [0.16327116],\n",
              "       [0.17583931],\n",
              "       [0.17905308],\n",
              "       [0.18484935],\n",
              "       [0.18846485],\n",
              "       [0.17302726],\n",
              "       [0.16252511],\n",
              "       [0.12711621],\n",
              "       [0.11822095],\n",
              "       [0.12533716],\n",
              "       [0.10703013],\n",
              "       [0.09555237],\n",
              "       [0.10645624],\n",
              "       [0.10760402],\n",
              "       [0.14599713],\n",
              "       [0.13136298],\n",
              "       [0.15500717],\n",
              "       [0.16723099],\n",
              "       [0.15982783],\n",
              "       [0.18163558],\n",
              "       [0.1784792 ],\n",
              "       [0.18146341],\n",
              "       [0.17228121],\n",
              "       [0.17182209],\n",
              "       [0.1523099 ],\n",
              "       [0.13974175],\n",
              "       [0.12545194],\n",
              "       [0.13572453],\n",
              "       [0.15873745],\n",
              "       [0.163099  ],\n",
              "       [0.15001435],\n",
              "       [0.1425538 ],\n",
              "       [0.14364419],\n",
              "       [0.14605452],\n",
              "       [0.15982783],\n",
              "       [0.1379627 ],\n",
              "       [0.15133429],\n",
              "       [0.15397418],\n",
              "       [0.14542324],\n",
              "       [0.14106169],\n",
              "       [0.15276901],\n",
              "       [0.16212339],\n",
              "       [0.15322812],\n",
              "       [0.15466284],\n",
              "       [0.15030129],\n",
              "       [0.13916786],\n",
              "       [0.15294118],\n",
              "       [0.14507891],\n",
              "       [0.14926829],\n",
              "       [0.15420373],\n",
              "       [0.15655667],\n",
              "       [0.17360115],\n",
              "       [0.17222382],\n",
              "       [0.17360115],\n",
              "       [0.18163558],\n",
              "       [0.1789957 ],\n",
              "       [0.15408895],\n",
              "       [0.15753228],\n",
              "       [0.15064562],\n",
              "       [0.17934003],\n",
              "       [0.21032999],\n",
              "       [0.21807747],\n",
              "       [0.20218077],\n",
              "       [0.20022956],\n",
              "       [0.19977044],\n",
              "       [0.18163558],\n",
              "       [0.19684362],\n",
              "       [0.16441894],\n",
              "       [0.11736011],\n",
              "       [0.09784792],\n",
              "       [0.1271736 ],\n",
              "       [0.12183644],\n",
              "       [0.11162123],\n",
              "       [0.1276901 ],\n",
              "       [0.15064562],\n",
              "       [0.16746055],\n",
              "       [0.16969871],\n",
              "       [0.14835007],\n",
              "       [0.15753228],\n",
              "       [0.15868006],\n",
              "       [0.14949785],\n",
              "       [0.15340029],\n",
              "       [0.16901004],\n",
              "       [0.16901004],\n",
              "       [0.17698709],\n",
              "       [0.18134864],\n",
              "       [0.17360115],\n",
              "       [0.15753228],\n",
              "       [0.1348637 ],\n",
              "       [0.1215495 ],\n",
              "       [0.14134864],\n",
              "       [0.1472023 ],\n",
              "       [0.16086083],\n",
              "       [0.15730273],\n",
              "       [0.15294118],\n",
              "       [0.13457676],\n",
              "       [0.12539455],\n",
              "       [0.11655667],\n",
              "       [0.11833572],\n",
              "       [0.11965567],\n",
              "       [0.11345768],\n",
              "       [0.11730273],\n",
              "       [0.13251076],\n",
              "       [0.11942611],\n",
              "       [0.11621234],\n",
              "       [0.11391679],\n",
              "       [0.12964132],\n",
              "       [0.13010043],\n",
              "       [0.13342898],\n",
              "       [0.13865136],\n",
              "       [0.14536585],\n",
              "       [0.14926829],\n",
              "       [0.15850789],\n",
              "       [0.16177905],\n",
              "       [0.16378766],\n",
              "       [0.17015782],\n",
              "       [0.17618364],\n",
              "       [0.16912482],\n",
              "       [0.16786227],\n",
              "       [0.15868006],\n",
              "       [0.16533716],\n",
              "       [0.20878049],\n",
              "       [0.20803443],\n",
              "       [0.22731707],\n",
              "       [0.21836442],\n",
              "       [0.20114778],\n",
              "       [0.21365854],\n",
              "       [0.19638451],\n",
              "       [0.1917934 ],\n",
              "       [0.21319943],\n",
              "       [0.19988522],\n",
              "       [0.21606887],\n",
              "       [0.21750359],\n",
              "       [0.22978479],\n",
              "       [0.21956958],\n",
              "       [0.20918221],\n",
              "       [0.19236729],\n",
              "       [0.17658537],\n",
              "       [0.15954089],\n",
              "       [0.16229555],\n",
              "       [0.15408895],\n",
              "       [0.14031564],\n",
              "       [0.14261119],\n",
              "       [0.1528264 ],\n",
              "       [0.14892396],\n",
              "       [0.14129125],\n",
              "       [0.14835007],\n",
              "       [0.1472023 ],\n",
              "       [0.1625825 ],\n",
              "       [0.17337159],\n",
              "       [0.17819225],\n",
              "       [0.18725968],\n",
              "       [0.20040172],\n",
              "       [0.22421808],\n",
              "       [0.21997131],\n",
              "       [0.23902439],\n",
              "       [0.23609756],\n",
              "       [0.24591105],\n",
              "       [0.24912482],\n",
              "       [0.25497848],\n",
              "       [0.23443329],\n",
              "       [0.26593974],\n",
              "       [0.27162123],\n",
              "       [0.25210904],\n",
              "       [0.24591105],\n",
              "       [0.2143472 ],\n",
              "       [0.1954089 ],\n",
              "       [0.18060258],\n",
              "       [0.20728838],\n",
              "       [0.19885222],\n",
              "       [0.2066571 ],\n",
              "       [0.23558106],\n",
              "       [0.19856528],\n",
              "       [0.22421808],\n",
              "       [0.24218077],\n",
              "       [0.26771879],\n",
              "       [0.28992826],\n",
              "       [0.33142037],\n",
              "       [0.35357245],\n",
              "       [0.32889527],\n",
              "       [0.35196557],\n",
              "       [0.34611191],\n",
              "       [0.36918221],\n",
              "       [0.38800574],\n",
              "       [0.37905308],\n",
              "       [0.36527977],\n",
              "       [0.36539455],\n",
              "       [0.37618364],\n",
              "       [0.38823529],\n",
              "       [0.41233859],\n",
              "       [0.45756098],\n",
              "       [0.45882353],\n",
              "       [0.43988522],\n",
              "       [0.44183644],\n",
              "       [0.46272597],\n",
              "       [0.45136298],\n",
              "       [0.49325681],\n",
              "       [0.48120516],\n",
              "       [0.46576758],\n",
              "       [0.45710187],\n",
              "       [0.4723099 ],\n",
              "       [0.47890961],\n",
              "       [0.47764706],\n",
              "       [0.51133429],\n",
              "       [0.52172166],\n",
              "       [0.54347202],\n",
              "       [0.55971306],\n",
              "       [0.57876614],\n",
              "       [0.602066  ],\n",
              "       [0.57601148],\n",
              "       [0.54892396],\n",
              "       [0.52022956],\n",
              "       [0.50892396],\n",
              "       [0.51736011],\n",
              "       [0.50318508],\n",
              "       [0.5430703 ],\n",
              "       [0.55466284],\n",
              "       [0.53629842],\n",
              "       [0.52803443],\n",
              "       [0.53675753],\n",
              "       [0.52682927],\n",
              "       [0.49842181],\n",
              "       [0.49612626],\n",
              "       [0.49038737],\n",
              "       [0.48516499],\n",
              "       [0.50932568],\n",
              "       [0.5133429 ],\n",
              "       [0.53170732],\n",
              "       [0.53733142],\n",
              "       [0.53480631],\n",
              "       [0.50243902],\n",
              "       [0.45652798],\n",
              "       [0.35322812],\n",
              "       [0.2964132 ],\n",
              "       [0.37865136],\n",
              "       [0.34680057],\n",
              "       [0.31248207],\n",
              "       [0.3594835 ],\n",
              "       [0.38812052],\n",
              "       [0.40659971],\n",
              "       [0.44447633],\n",
              "       [0.35380201],\n",
              "       [0.36527977],\n",
              "       [0.29956958],\n",
              "       [0.32499283],\n",
              "       [0.28034433],\n",
              "       [0.27678623],\n",
              "       [0.29182209],\n",
              "       [0.33715925],\n",
              "       [0.30674319],\n",
              "       [0.31695839],\n",
              "       [0.31592539],\n",
              "       [0.32332855],\n",
              "       [0.34691535],\n",
              "       [0.37101865],\n",
              "       [0.36097561],\n",
              "       [0.35116212],\n",
              "       [0.32395983],\n",
              "       [0.35959828],\n",
              "       [0.35030129],\n",
              "       [0.35144907],\n",
              "       [0.39156385],\n",
              "       [0.40545194],\n",
              "       [0.39684362],\n",
              "       [0.37044476],\n",
              "       [0.36413199],\n",
              "       [0.36286944],\n",
              "       [0.39104735],\n",
              "       [0.42381636],\n",
              "       [0.43678623],\n",
              "       [0.43977044],\n",
              "       [0.42037303],\n",
              "       [0.40401722],\n",
              "       [0.41004304],\n",
              "       [0.38760402],\n",
              "       [0.36527977],\n",
              "       [0.31477762],\n",
              "       [0.35265423],\n",
              "       [0.38593974],\n",
              "       [0.35736011],\n",
              "       [0.37210904],\n",
              "       [0.38054519],\n",
              "       [0.40143472],\n",
              "       [0.37790531],\n",
              "       [0.38249641],\n",
              "       [0.35483501],\n",
              "       [0.33750359],\n",
              "       [0.362066  ],\n",
              "       [0.3830703 ],\n",
              "       [0.38932568],\n",
              "       [0.38278336]])"
            ]
          },
          "metadata": {},
          "execution_count": 145
        }
      ]
    },
    {
      "cell_type": "code",
      "metadata": {
        "colab": {
          "base_uri": "https://localhost:8080/"
        },
        "id": "r1KWzQw45pzl",
        "outputId": "c7960446-8405-410c-d173-f1f42202a48f"
      },
      "source": [
        "x_test = []\n",
        "for i in range(WINDOW,WINDOW+FUTURE_PREDICTION_RANGE): #test data contains 80 rows of data\n",
        "    x_test.append(inputs[i-WINDOW:i,0])\n",
        "\n",
        "x_test  = np.array(x_test) \n",
        "\n",
        "x_test = np.reshape(x_test, (x_test.shape[0],x_test.shape[1],1)) #Converts to the 3d format that can go into the RNN as input\n",
        "x_test"
      ],
      "execution_count": null,
      "outputs": [
        {
          "output_type": "execute_result",
          "data": {
            "text/plain": [
              "array([[[0.03816356],\n",
              "        [0.03701578],\n",
              "        [0.05423242],\n",
              "        ...,\n",
              "        [0.16212339],\n",
              "        [0.15322812],\n",
              "        [0.15466284]],\n",
              "\n",
              "       [[0.03701578],\n",
              "        [0.05423242],\n",
              "        [0.04505022],\n",
              "        ...,\n",
              "        [0.15322812],\n",
              "        [0.15466284],\n",
              "        [0.15030129]],\n",
              "\n",
              "       [[0.05423242],\n",
              "        [0.04505022],\n",
              "        [0.06146341],\n",
              "        ...,\n",
              "        [0.15466284],\n",
              "        [0.15030129],\n",
              "        [0.13916786]],\n",
              "\n",
              "       ...,\n",
              "\n",
              "       [[0.16212339],\n",
              "        [0.15322812],\n",
              "        [0.15466284],\n",
              "        ...,\n",
              "        [0.11833572],\n",
              "        [0.11965567],\n",
              "        [0.11345768]],\n",
              "\n",
              "       [[0.15322812],\n",
              "        [0.15466284],\n",
              "        [0.15030129],\n",
              "        ...,\n",
              "        [0.11965567],\n",
              "        [0.11345768],\n",
              "        [0.11730273]],\n",
              "\n",
              "       [[0.15466284],\n",
              "        [0.15030129],\n",
              "        [0.13916786],\n",
              "        ...,\n",
              "        [0.11345768],\n",
              "        [0.11730273],\n",
              "        [0.13251076]]])"
            ]
          },
          "metadata": {},
          "execution_count": 146
        }
      ]
    },
    {
      "cell_type": "code",
      "metadata": {
        "id": "JV9jFwsj5xD9"
      },
      "source": [
        "predicted_stock_price = regressor.predict(x_test)\n",
        "predicted_stock_price  = sc.inverse_transform(predicted_stock_price )"
      ],
      "execution_count": null,
      "outputs": []
    },
    {
      "cell_type": "code",
      "metadata": {
        "colab": {
          "base_uri": "https://localhost:8080/"
        },
        "id": "rn4exxo757yt",
        "outputId": "4bd65f84-f6cf-44a8-e1d2-5c85f55e3d2f"
      },
      "source": [
        "predicted_stock_price.shape"
      ],
      "execution_count": null,
      "outputs": [
        {
          "output_type": "execute_result",
          "data": {
            "text/plain": [
              "(60, 1)"
            ]
          },
          "metadata": {},
          "execution_count": 148
        }
      ]
    },
    {
      "cell_type": "code",
      "metadata": {
        "colab": {
          "base_uri": "https://localhost:8080/"
        },
        "id": "nORqTYAF6AL-",
        "outputId": "50f3e512-0b7e-4a72-8b20-0546337c6cbb"
      },
      "source": [
        "real_stock_price= test_df['Open'].values[:FUTURE_PREDICTION_RANGE]\n",
        "real_stock_price=real_stock_price.reshape(-1,1)\n",
        "real_stock_price.shape"
      ],
      "execution_count": null,
      "outputs": [
        {
          "output_type": "execute_result",
          "data": {
            "text/plain": [
              "(60, 1)"
            ]
          },
          "metadata": {},
          "execution_count": 149
        }
      ]
    },
    {
      "cell_type": "code",
      "metadata": {
        "id": "WbuWJn7iIKIM"
      },
      "source": [
        ""
      ],
      "execution_count": null,
      "outputs": []
    },
    {
      "cell_type": "code",
      "metadata": {
        "colab": {
          "base_uri": "https://localhost:8080/",
          "height": 295
        },
        "id": "hY7TTlk852-R",
        "outputId": "9b694806-e2cd-4b93-94d2-7e294ba1a947"
      },
      "source": [
        "plt.plot(predicted_stock_price, color=\"red\", label= \"Predicted\")\n",
        "plt.plot(real_stock_price, color=\"green\", label= \"Real\")\n",
        "plt.xlabel(\"Period\")\n",
        "plt.ylabel(\"Stock Price\")\n",
        "plt.title(f'Stock Price Forecast for {STOCK}')\n",
        "plt.legend()\n",
        "plt.show()"
      ],
      "execution_count": null,
      "outputs": [
        {
          "output_type": "display_data",
          "data": {
            "image/png": "[encoded data removed]",
            "text/plain": [
              "<Figure size 432x288 with 1 Axes>"
            ]
          },
          "metadata": {
            "needs_background": "light"
          }
        }
      ]
    },
    {
      "cell_type": "code",
      "metadata": {
        "colab": {
          "base_uri": "https://localhost:8080/"
        },
        "id": "HwPtvDfO7ysA",
        "outputId": "18314af4-8afd-4dbe-c8f3-095a23a6eac2"
      },
      "source": [
        "#Model Evaluation\n",
        "from sklearn.metrics import mean_absolute_error\n",
        "from sklearn.metrics import mean_squared_error\n",
        "from sklearn.metrics import r2_score\n",
        "\n",
        "import math \n",
        "\n",
        "\n",
        "\n",
        "MAE_RNN = mean_absolute_error(real_stock_price,predicted_stock_price) #8.477951782226564\n",
        "\n",
        "MSE_RNN = mean_squared_error(real_stock_price,predicted_stock_price) #131.51032080751082\n",
        "\n",
        "RMSE_RNN = math.sqrt(MSE_RNN) #11.467794940942692\n",
        "\n",
        "R2_RNN = r2_score(real_stock_price,predicted_stock_price) #0.39490875968951855\n",
        "\n",
        "real_stock_price_mean = real_stock_price.mean()  #807.5260000000001\n",
        "\n",
        "\n",
        "print(\"Mean Absolute Error:\", MAE_RNN)\n",
        "print(\"Mean Squared Error:\", MSE_RNN)\n",
        "print(\"Root Mean Squared Error:\", RMSE_RNN)\n",
        "print(\"R Squared:\", R2_RNN)\n",
        "print(\"Real Stock Price Mean:\", real_stock_price_mean)\n",
        "print(\"RMSE_RNN/REAL_STOCK_PRICE_MEAN:\", RMSE_RNN/real_stock_price_mean) #0.014201146391500325\n",
        "\n",
        "print(\"mean_absolute_percentage_error :\", MAE_RNN/real_stock_price_mean *100 , \" %\")"
      ],
      "execution_count": null,
      "outputs": [
        {
          "output_type": "stream",
          "name": "stdout",
          "text": [
            "Mean Absolute Error: 13.554478759765624\n",
            "Mean Squared Error: 331.6976766203841\n",
            "Root Mean Squared Error: 18.21256919329022\n",
            "R Squared: 0.38751686814817077\n",
            "Real Stock Price Mean: 925.9549999999999\n",
            "RMSE_RNN/REAL_STOCK_PRICE_MEAN: 0.019668957123499763\n",
            "mean_absolute_percentage_error : 1.4638377415496029  %\n"
          ]
        }
      ]
    },
    {
      "cell_type": "code",
      "metadata": {
        "id": "bRSZbMdAB-9v"
      },
      "source": [
        "FUTURE_PREDICTION_RANGE =  15 #@param {type : \"number\"}"
      ],
      "execution_count": null,
      "outputs": []
    },
    {
      "cell_type": "code",
      "metadata": {
        "colab": {
          "base_uri": "https://localhost:8080/"
        },
        "id": "HWqA4fitCuww",
        "outputId": "7422b375-54e9-4167-845b-30637a5f79a7"
      },
      "source": [
        "predicted_stock_price=[]\n",
        "hist= dataset_total[len(train_df)-WINDOW:].values\n",
        "hist= hist[:WINDOW]\n",
        "hist= hist.reshape(-1,1)\n",
        "sc.fit(tmp)\n",
        "#print(hist)\n",
        "hist= sc.transform(hist)\n",
        "hist= hist.reshape(1,-1)[0]\n",
        "hist=list(hist)\n",
        "hist\n",
        "\n",
        "for i in range(0,FUTURE_PREDICTION_RANGE):\n",
        "  cur_win= hist[i:]\n",
        "  #print(len(cur_win))\n",
        "  cur_win= np.array(cur_win)\n",
        "  cur_win.reshape(-1,1)\n",
        "  cur_inp=list()\n",
        "  cur_inp.append(cur_win)\n",
        "  cur_inp= np.array(cur_inp)\n",
        "  cur_inp= cur_inp.reshape(cur_inp.shape[0],cur_inp.shape[1],1)\n",
        "  cur_p = regressor.predict(cur_inp)\n",
        "  hist.append(cur_p[0][0])\n",
        "  predicted_stock_price.append(cur_p[0][0])\n",
        "\n",
        "predicted_stock_price= np.array(predicted_stock_price)\n",
        "predicted_stock_price= predicted_stock_price.reshape(-1,1)\n",
        "predicted_stock_price  = sc.inverse_transform(predicted_stock_price )\n",
        "predicted_stock_price.shape"
      ],
      "execution_count": null,
      "outputs": [
        {
          "output_type": "execute_result",
          "data": {
            "text/plain": [
              "(15, 1)"
            ]
          },
          "metadata": {},
          "execution_count": 153
        }
      ]
    },
    {
      "cell_type": "code",
      "metadata": {
        "colab": {
          "base_uri": "https://localhost:8080/"
        },
        "id": "EhvMNaLHIVRC",
        "outputId": "3f685cc9-9918-4d2c-b8ea-91a29f52bc20"
      },
      "source": [
        "real_stock_price= test_df['Open'].values[:FUTURE_PREDICTION_RANGE]\n",
        "real_stock_price=real_stock_price.reshape(-1,1)\n",
        "real_stock_price.shape"
      ],
      "execution_count": null,
      "outputs": [
        {
          "output_type": "execute_result",
          "data": {
            "text/plain": [
              "(15, 1)"
            ]
          },
          "metadata": {},
          "execution_count": 154
        }
      ]
    },
    {
      "cell_type": "code",
      "metadata": {
        "colab": {
          "base_uri": "https://localhost:8080/",
          "height": 295
        },
        "id": "yZxGKAYIIocX",
        "outputId": "64628477-0a0b-40ea-b19e-6b057908f64b"
      },
      "source": [
        "plt.plot(predicted_stock_price, color=\"red\", label= \"Predicted\")\n",
        "plt.plot(real_stock_price, color=\"green\", label= \"Real\")\n",
        "plt.xlabel(\"Period\")\n",
        "plt.ylabel(\"Stock Price\")\n",
        "plt.title(f'Stock Price Forecast for {STOCK}')\n",
        "plt.legend()\n",
        "plt.show()"
      ],
      "execution_count": null,
      "outputs": [
        {
          "output_type": "display_data",
          "data": {
            "image/png": "[encoded data removed]",
            "text/plain": [
              "<Figure size 432x288 with 1 Axes>"
            ]
          },
          "metadata": {
            "needs_background": "light"
          }
        }
      ]
    },
    {
      "cell_type": "code",
      "metadata": {
        "colab": {
          "base_uri": "https://localhost:8080/"
        },
        "id": "54Tu6PArItTB",
        "outputId": "e63ec1b9-22db-42d7-db6f-e9aabcf873bc"
      },
      "source": [
        "#Model Evaluation\n",
        "from sklearn.metrics import mean_absolute_error\n",
        "from sklearn.metrics import mean_squared_error\n",
        "from sklearn.metrics import r2_score\n",
        "\n",
        "import math \n",
        "\n",
        "\n",
        "\n",
        "MAE_RNN = mean_absolute_error(real_stock_price,predicted_stock_price) #8.477951782226564\n",
        "\n",
        "MSE_RNN = mean_squared_error(real_stock_price,predicted_stock_price) #131.51032080751082\n",
        "\n",
        "RMSE_RNN = math.sqrt(MSE_RNN) #11.467794940942692\n",
        "\n",
        "R2_RNN = r2_score(real_stock_price,predicted_stock_price) #0.39490875968951855\n",
        "\n",
        "real_stock_price_mean = real_stock_price.mean()  #807.5260000000001\n",
        "\n",
        "\n",
        "print(\"Mean Absolute Error:\", MAE_RNN)\n",
        "print(\"Mean Squared Error:\", MSE_RNN)\n",
        "print(\"Root Mean Squared Error:\", RMSE_RNN)\n",
        "print(\"R Squared:\", R2_RNN)\n",
        "print(\"Real Stock Price Mean:\", real_stock_price_mean)\n",
        "print(\"RMSE_RNN/REAL_STOCK_PRICE_MEAN:\", RMSE_RNN/real_stock_price_mean) #0.014201146391500325\n",
        "\n",
        "print(\"mean_absolute_percentage_error :\", MAE_RNN/real_stock_price_mean *100 , \" %\")"
      ],
      "execution_count": null,
      "outputs": [
        {
          "output_type": "stream",
          "name": "stdout",
          "text": [
            "Mean Absolute Error: 9.636716308593751\n",
            "Mean Squared Error: 106.60903034856922\n",
            "Root Mean Squared Error: 10.325164906604117\n",
            "R Squared: 0.13345295154925518\n",
            "Real Stock Price Mean: 930.5600000000001\n",
            "RMSE_RNN/REAL_STOCK_PRICE_MEAN: 0.011095646606993763\n",
            "mean_absolute_percentage_error : 1.0355824781415224  %\n"
          ]
        }
      ]
    }
  ]
}