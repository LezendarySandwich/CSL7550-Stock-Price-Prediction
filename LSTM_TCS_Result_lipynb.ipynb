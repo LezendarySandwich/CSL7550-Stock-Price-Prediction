{
  "nbformat": 4,
  "nbformat_minor": 0,
  "metadata": {
    "colab": {
      "name": "LSTM_TCS_Result.lipynb",
      "provenance": [],
      "collapsed_sections": [],
      "include_colab_link": true
    },
    "kernelspec": {
      "name": "python3",
      "display_name": "Python 3"
    },
    "language_info": {
      "name": "python"
    }
  },
  "cells": [
    {
      "cell_type": "markdown",
      "metadata": {
        "id": "view-in-github",
        "colab_type": "text"
      },
      "source": [
        "<a href=\"https://colab.research.google.com/github/LezendarySandwich/CSL7550-Stock-Price-Prediction/blob/master/LSTM_TCS_Result_lipynb.ipynb\" target=\"_parent\"><img src=\"https://colab.research.google.com/assets/colab-badge.svg\" alt=\"Open In Colab\"/></a>"
      ]
    },
    {
      "cell_type": "code",
      "metadata": {
        "id": "MlTjomyYrOFm"
      },
      "source": [
        "import os\n",
        "import shutil\n",
        "from google.colab import drive\n",
        "import pandas as pd\n",
        "import matplotlib.pyplot as plt \n",
        "\n",
        "if not os.path.exists('/content/drive'):\n",
        "  drive.mount('/content/drive')"
      ],
      "execution_count": null,
      "outputs": []
    },
    {
      "cell_type": "code",
      "metadata": {
        "id": "MD7J88G4rfCm"
      },
      "source": [
        "from datetime import date\n",
        "\n",
        "STORAGE = '/content/drive/MyDrive' #@param {type : \"string\"}\n",
        "KAGGLE_DIR = 'Kaggle' #@param {type : \"string\"}\n",
        "KAGGLE_JSON_PATH = os.path.join(STORAGE, KAGGLE_DIR)\n",
        "QUANDL_PATH = os.path.join(KAGGLE_JSON_PATH, '.quandl')\n",
        "__PROJECT = os.path.join(STORAGE, 'Neo')\n",
        "ML_DATASET = os.path.join(__PROJECT, 'dataset')\n",
        "START_DATE = date(2014, 1, 1)\n",
        "END_DATE = date(2019,1,1)\n",
        "STOCK = 'TCS'#@param {type : \"string\"}\n",
        "SAVE_DIR = os.path.join(ML_DATASET, f'{STOCK}_{START_DATE}_{END_DATE}')\n",
        "TEST_DS = os.path.join(SAVE_DIR,'dataset_test.csv')\n",
        "TRAIN_DS = os.path.join(SAVE_DIR,'dataset_train.csv')"
      ],
      "execution_count": null,
      "outputs": []
    },
    {
      "cell_type": "code",
      "metadata": {
        "colab": {
          "base_uri": "https://localhost:8080/",
          "height": 422
        },
        "id": "85DVYITErq-r",
        "outputId": "3b1462d4-5631-447e-905e-814456387273"
      },
      "source": [
        "train_df= pd.read_csv(TRAIN_DS)\n",
        "test_df= pd.read_csv(TEST_DS)\n",
        "train_df"
      ],
      "execution_count": null,
      "outputs": [
        {
          "output_type": "execute_result",
          "data": {
            "text/html": [
              "<div>\n",
              "<style scoped>\n",
              "    .dataframe tbody tr th:only-of-type {\n",
              "        vertical-align: middle;\n",
              "    }\n",
              "\n",
              "    .dataframe tbody tr th {\n",
              "        vertical-align: top;\n",
              "    }\n",
              "\n",
              "    .dataframe thead th {\n",
              "        text-align: right;\n",
              "    }\n",
              "</style>\n",
              "<table border=\"1\" class=\"dataframe\">\n",
              "  <thead>\n",
              "    <tr style=\"text-align: right;\">\n",
              "      <th></th>\n",
              "      <th>Date</th>\n",
              "      <th>Open</th>\n",
              "      <th>High</th>\n",
              "      <th>Low</th>\n",
              "      <th>Close</th>\n",
              "      <th>Volume</th>\n",
              "    </tr>\n",
              "  </thead>\n",
              "  <tbody>\n",
              "    <tr>\n",
              "      <th>0</th>\n",
              "      <td>2014-01-01</td>\n",
              "      <td>2180.10</td>\n",
              "      <td>2184.50</td>\n",
              "      <td>2151.10</td>\n",
              "      <td>2153.30</td>\n",
              "      <td>264976.0</td>\n",
              "    </tr>\n",
              "    <tr>\n",
              "      <th>1</th>\n",
              "      <td>2014-01-02</td>\n",
              "      <td>2166.00</td>\n",
              "      <td>2189.00</td>\n",
              "      <td>2156.15</td>\n",
              "      <td>2167.00</td>\n",
              "      <td>863474.0</td>\n",
              "    </tr>\n",
              "    <tr>\n",
              "      <th>2</th>\n",
              "      <td>2014-01-03</td>\n",
              "      <td>2164.70</td>\n",
              "      <td>2229.10</td>\n",
              "      <td>2147.25</td>\n",
              "      <td>2222.20</td>\n",
              "      <td>1309087.0</td>\n",
              "    </tr>\n",
              "    <tr>\n",
              "      <th>3</th>\n",
              "      <td>2014-01-06</td>\n",
              "      <td>2229.00</td>\n",
              "      <td>2244.00</td>\n",
              "      <td>2197.00</td>\n",
              "      <td>2239.60</td>\n",
              "      <td>1155905.0</td>\n",
              "    </tr>\n",
              "    <tr>\n",
              "      <th>4</th>\n",
              "      <td>2014-01-07</td>\n",
              "      <td>2240.00</td>\n",
              "      <td>2256.45</td>\n",
              "      <td>2199.00</td>\n",
              "      <td>2206.15</td>\n",
              "      <td>1448743.0</td>\n",
              "    </tr>\n",
              "    <tr>\n",
              "      <th>...</th>\n",
              "      <td>...</td>\n",
              "      <td>...</td>\n",
              "      <td>...</td>\n",
              "      <td>...</td>\n",
              "      <td>...</td>\n",
              "      <td>...</td>\n",
              "    </tr>\n",
              "    <tr>\n",
              "      <th>982</th>\n",
              "      <td>2017-12-22</td>\n",
              "      <td>2604.00</td>\n",
              "      <td>2663.90</td>\n",
              "      <td>2590.20</td>\n",
              "      <td>2646.75</td>\n",
              "      <td>1832832.0</td>\n",
              "    </tr>\n",
              "    <tr>\n",
              "      <th>983</th>\n",
              "      <td>2017-12-26</td>\n",
              "      <td>2686.00</td>\n",
              "      <td>2689.75</td>\n",
              "      <td>2631.60</td>\n",
              "      <td>2649.45</td>\n",
              "      <td>1087893.0</td>\n",
              "    </tr>\n",
              "    <tr>\n",
              "      <th>984</th>\n",
              "      <td>2017-12-27</td>\n",
              "      <td>2649.45</td>\n",
              "      <td>2658.50</td>\n",
              "      <td>2610.50</td>\n",
              "      <td>2619.90</td>\n",
              "      <td>369642.0</td>\n",
              "    </tr>\n",
              "    <tr>\n",
              "      <th>985</th>\n",
              "      <td>2017-12-28</td>\n",
              "      <td>2608.80</td>\n",
              "      <td>2653.50</td>\n",
              "      <td>2605.65</td>\n",
              "      <td>2626.95</td>\n",
              "      <td>1302544.0</td>\n",
              "    </tr>\n",
              "    <tr>\n",
              "      <th>986</th>\n",
              "      <td>2017-12-29</td>\n",
              "      <td>2623.10</td>\n",
              "      <td>2708.90</td>\n",
              "      <td>2618.55</td>\n",
              "      <td>2701.20</td>\n",
              "      <td>1304771.0</td>\n",
              "    </tr>\n",
              "  </tbody>\n",
              "</table>\n",
              "<p>987 rows × 6 columns</p>\n",
              "</div>"
            ],
            "text/plain": [
              "           Date     Open     High      Low    Close     Volume\n",
              "0    2014-01-01  2180.10  2184.50  2151.10  2153.30   264976.0\n",
              "1    2014-01-02  2166.00  2189.00  2156.15  2167.00   863474.0\n",
              "2    2014-01-03  2164.70  2229.10  2147.25  2222.20  1309087.0\n",
              "3    2014-01-06  2229.00  2244.00  2197.00  2239.60  1155905.0\n",
              "4    2014-01-07  2240.00  2256.45  2199.00  2206.15  1448743.0\n",
              "..          ...      ...      ...      ...      ...        ...\n",
              "982  2017-12-22  2604.00  2663.90  2590.20  2646.75  1832832.0\n",
              "983  2017-12-26  2686.00  2689.75  2631.60  2649.45  1087893.0\n",
              "984  2017-12-27  2649.45  2658.50  2610.50  2619.90   369642.0\n",
              "985  2017-12-28  2608.80  2653.50  2605.65  2626.95  1302544.0\n",
              "986  2017-12-29  2623.10  2708.90  2618.55  2701.20  1304771.0\n",
              "\n",
              "[987 rows x 6 columns]"
            ]
          },
          "metadata": {},
          "execution_count": 119
        }
      ]
    },
    {
      "cell_type": "code",
      "metadata": {
        "id": "rmQrYLs_zQUM"
      },
      "source": [
        "train_dates_df= train_df['Date']\n",
        "train_df= train_df.drop(columns=[\"Date\"])\n",
        "test_dates_df= test_df['Date']\n",
        "test_df= test_df.drop(columns=['Date']) "
      ],
      "execution_count": null,
      "outputs": []
    },
    {
      "cell_type": "code",
      "metadata": {
        "colab": {
          "base_uri": "https://localhost:8080/"
        },
        "id": "H2XDN5_pytLw",
        "outputId": "a75dd5d5-50fd-49b9-c553-5904faee75dd"
      },
      "source": [
        "#Feature Scaling\n",
        "from sklearn.preprocessing import MinMaxScaler\n",
        "import numpy as np\n",
        "\n",
        "sc = MinMaxScaler(feature_range=(0,1), copy = True)\n",
        "training_set_scaled = sc.fit_transform(train_df)\n",
        "x_train = []\n",
        "y_train = []\n",
        "\n",
        "for i in range(60,len(train_df)):\n",
        "    x_train.append(training_set_scaled[i-60:i,0])\n",
        "    y_train.append(training_set_scaled[i,0])\n",
        "\n",
        "x_train, y_train = np.array(x_train), np.array(y_train)\n",
        "x_train"
      ],
      "execution_count": null,
      "outputs": [
        {
          "output_type": "execute_result",
          "data": {
            "text/plain": [
              "array([[0.20013158, 0.18157895, 0.17986842, ..., 0.14335526, 0.15263158,\n",
              "        0.15796053],\n",
              "       [0.18157895, 0.17986842, 0.26447368, ..., 0.15263158, 0.15796053,\n",
              "        0.09598684],\n",
              "       [0.17986842, 0.26447368, 0.27894737, ..., 0.15796053, 0.09598684,\n",
              "        0.09078947],\n",
              "       ...,\n",
              "       [0.59342105, 0.54210526, 0.55473684, ..., 0.73552632, 0.75789474,\n",
              "        0.86578947],\n",
              "       [0.54210526, 0.55473684, 0.54342105, ..., 0.75789474, 0.86578947,\n",
              "        0.81769737],\n",
              "       [0.55473684, 0.54342105, 0.52894737, ..., 0.86578947, 0.81769737,\n",
              "        0.76421053]])"
            ]
          },
          "metadata": {},
          "execution_count": 121
        }
      ]
    },
    {
      "cell_type": "code",
      "metadata": {
        "id": "CEqQGEGJ0hgh"
      },
      "source": [
        "x_train = np.reshape(x_train, (x_train.shape[0],x_train.shape[1],1))"
      ],
      "execution_count": null,
      "outputs": []
    },
    {
      "cell_type": "code",
      "metadata": {
        "id": "0PVU4KNv0na0"
      },
      "source": [
        "from tensorflow.keras.models import Sequential\n",
        "from tensorflow.keras.layers import Dense\n",
        "from tensorflow.keras.layers import LSTM\n",
        "from tensorflow.keras.layers import Dropout\n",
        "#Adding the first LSTM layer and some dropout regularization to avoid overfitting\n",
        "regressor = Sequential()\n",
        "#Add first LSTM layer\n",
        "regressor.add(LSTM(units= 50, return_sequences=True, input_shape = (x_train.shape[1],1) )) #No of LSTM cells = units, return_sequences = True because we are building a stacked LSTM which will have several LSTM layers, when you are done adding LSTM layers set it to False whch is the default, input_shape (timesteps,predictors)\n",
        "#Add dropout regularization\n",
        "regressor.add(Dropout(rate = 0.2)) #rate of neurons you want to drop during regularization (during each iteration of the forward and back propagation)\n",
        "\n",
        "#Add Second LSTM Layer and dropout regularization \n",
        "regressor.add(LSTM(units= 50, return_sequences=True )) #No of LSTM cells = units, return_sequences = True because we are building a stacked LSTM which will have several LSTM layers, when you are done adding LSTM layers set it to False whch is the default \n",
        "#Add dropout regularization\n",
        "regressor.add(Dropout(rate = 0.2)) #rate of neurons you want to drop during regularization (during each iteration of the forward and back propagation)\n",
        "\n",
        "#Add Third LSTM Layer and dropout regularization \n",
        "regressor.add(LSTM(units= 50, return_sequences=True )) #No of LSTM cells = units, return_sequences = True because we are building a stacked LSTM which will have several LSTM layers, when you are done adding LSTM layers set it to False whch is the default \n",
        "#Add dropout regularization\n",
        "regressor.add(Dropout(rate = 0.2)) #rate of neurons you want to drop during regularization (during each iteration of the forward and back propagation)\n",
        "\n",
        "#Add Fourth LSTM Layer and dropout regularization \n",
        "#return_sequences=False because this is our last LSTM layer\n",
        "regressor.add(LSTM(units= 50, return_sequences=False )) #No of LSTM cells = units, return_sequences = True because we are done adding LSTM layers \n",
        "#Add dropout regularization\n",
        "regressor.add(Dropout(rate = 0.2)) #rate of neurons you want to drop during regularization (during each iteration of the forward and back propagation)\n",
        "\n",
        "#Add the output layer for full connection\n",
        "\n",
        "regressor.add(Dense(units=1 ))\n",
        "\n",
        "#Compiling the RNN\n",
        "\n",
        "regressor.compile(optimizer=\"adam\", loss = \"mean_squared_error\") #optimizer=\"rmsprop\" recommended for RNN but adam is always a safe and good choice\n",
        "#loss = \"mean_squared_error\" for regression \n",
        "\n"
      ],
      "execution_count": null,
      "outputs": []
    },
    {
      "cell_type": "code",
      "metadata": {
        "colab": {
          "base_uri": "https://localhost:8080/"
        },
        "id": "w5CfBlHq04e6",
        "outputId": "d1c22b1b-9df3-4013-dcd2-b64354007fd7"
      },
      "source": [
        "regressor.fit(x_train,y_train, epochs= 100, batch_size=32)"
      ],
      "execution_count": null,
      "outputs": [
        {
          "output_type": "stream",
          "name": "stdout",
          "text": [
            "Epoch 1/100\n",
            "29/29 [==============================] - 11s 129ms/step - loss: 0.0570\n",
            "Epoch 2/100\n",
            "29/29 [==============================] - 4s 131ms/step - loss: 0.0201\n",
            "Epoch 3/100\n",
            "29/29 [==============================] - 4s 130ms/step - loss: 0.0185\n",
            "Epoch 4/100\n",
            "29/29 [==============================] - 4s 133ms/step - loss: 0.0167\n",
            "Epoch 5/100\n",
            "29/29 [==============================] - 4s 134ms/step - loss: 0.0167\n",
            "Epoch 6/100\n",
            "29/29 [==============================] - 4s 132ms/step - loss: 0.0149\n",
            "Epoch 7/100\n",
            "29/29 [==============================] - 4s 130ms/step - loss: 0.0145\n",
            "Epoch 8/100\n",
            "29/29 [==============================] - 4s 131ms/step - loss: 0.0135\n",
            "Epoch 9/100\n",
            "29/29 [==============================] - 4s 132ms/step - loss: 0.0127\n",
            "Epoch 10/100\n",
            "29/29 [==============================] - 4s 132ms/step - loss: 0.0126\n",
            "Epoch 11/100\n",
            "29/29 [==============================] - 4s 130ms/step - loss: 0.0129\n",
            "Epoch 12/100\n",
            "29/29 [==============================] - 4s 131ms/step - loss: 0.0121\n",
            "Epoch 13/100\n",
            "29/29 [==============================] - 4s 129ms/step - loss: 0.0125\n",
            "Epoch 14/100\n",
            "29/29 [==============================] - 4s 129ms/step - loss: 0.0121\n",
            "Epoch 15/100\n",
            "29/29 [==============================] - 4s 131ms/step - loss: 0.0114\n",
            "Epoch 16/100\n",
            "29/29 [==============================] - 4s 131ms/step - loss: 0.0099\n",
            "Epoch 17/100\n",
            "29/29 [==============================] - 4s 130ms/step - loss: 0.0093\n",
            "Epoch 18/100\n",
            "29/29 [==============================] - 4s 124ms/step - loss: 0.0095\n",
            "Epoch 19/100\n",
            "29/29 [==============================] - 4s 127ms/step - loss: 0.0095\n",
            "Epoch 20/100\n",
            "29/29 [==============================] - 4s 127ms/step - loss: 0.0097\n",
            "Epoch 21/100\n",
            "29/29 [==============================] - 4s 127ms/step - loss: 0.0093\n",
            "Epoch 22/100\n",
            "29/29 [==============================] - 4s 131ms/step - loss: 0.0093\n",
            "Epoch 23/100\n",
            "29/29 [==============================] - 4s 127ms/step - loss: 0.0088\n",
            "Epoch 24/100\n",
            "29/29 [==============================] - 4s 126ms/step - loss: 0.0087\n",
            "Epoch 25/100\n",
            "29/29 [==============================] - 4s 132ms/step - loss: 0.0087\n",
            "Epoch 26/100\n",
            "29/29 [==============================] - 4s 131ms/step - loss: 0.0082\n",
            "Epoch 27/100\n",
            "29/29 [==============================] - 4s 131ms/step - loss: 0.0081\n",
            "Epoch 28/100\n",
            "29/29 [==============================] - 4s 128ms/step - loss: 0.0082\n",
            "Epoch 29/100\n",
            "29/29 [==============================] - 4s 128ms/step - loss: 0.0086\n",
            "Epoch 30/100\n",
            "29/29 [==============================] - 4s 128ms/step - loss: 0.0084\n",
            "Epoch 31/100\n",
            "29/29 [==============================] - 4s 126ms/step - loss: 0.0080\n",
            "Epoch 32/100\n",
            "29/29 [==============================] - 4s 128ms/step - loss: 0.0070\n",
            "Epoch 33/100\n",
            "29/29 [==============================] - 4s 127ms/step - loss: 0.0075\n",
            "Epoch 34/100\n",
            "29/29 [==============================] - 4s 125ms/step - loss: 0.0065\n",
            "Epoch 35/100\n",
            "29/29 [==============================] - 4s 130ms/step - loss: 0.0069\n",
            "Epoch 36/100\n",
            "29/29 [==============================] - 4s 131ms/step - loss: 0.0071\n",
            "Epoch 37/100\n",
            "29/29 [==============================] - 4s 128ms/step - loss: 0.0068\n",
            "Epoch 38/100\n",
            "29/29 [==============================] - 4s 128ms/step - loss: 0.0068\n",
            "Epoch 39/100\n",
            "29/29 [==============================] - 4s 131ms/step - loss: 0.0065\n",
            "Epoch 40/100\n",
            "29/29 [==============================] - 4s 125ms/step - loss: 0.0066\n",
            "Epoch 41/100\n",
            "29/29 [==============================] - 4s 127ms/step - loss: 0.0065\n",
            "Epoch 42/100\n",
            "29/29 [==============================] - 4s 127ms/step - loss: 0.0064\n",
            "Epoch 43/100\n",
            "29/29 [==============================] - 4s 126ms/step - loss: 0.0065\n",
            "Epoch 44/100\n",
            "29/29 [==============================] - 4s 130ms/step - loss: 0.0059\n",
            "Epoch 45/100\n",
            "29/29 [==============================] - 4s 126ms/step - loss: 0.0055\n",
            "Epoch 46/100\n",
            "29/29 [==============================] - 4s 127ms/step - loss: 0.0061\n",
            "Epoch 47/100\n",
            "29/29 [==============================] - 4s 126ms/step - loss: 0.0062\n",
            "Epoch 48/100\n",
            "29/29 [==============================] - 4s 129ms/step - loss: 0.0063\n",
            "Epoch 49/100\n",
            "29/29 [==============================] - 4s 125ms/step - loss: 0.0059\n",
            "Epoch 50/100\n",
            "29/29 [==============================] - 4s 127ms/step - loss: 0.0062\n",
            "Epoch 51/100\n",
            "29/29 [==============================] - 4s 129ms/step - loss: 0.0058\n",
            "Epoch 52/100\n",
            "29/29 [==============================] - 4s 122ms/step - loss: 0.0052\n",
            "Epoch 53/100\n",
            "29/29 [==============================] - 4s 126ms/step - loss: 0.0059\n",
            "Epoch 54/100\n",
            "29/29 [==============================] - 4s 128ms/step - loss: 0.0052\n",
            "Epoch 55/100\n",
            "29/29 [==============================] - 4s 130ms/step - loss: 0.0051\n",
            "Epoch 56/100\n",
            "29/29 [==============================] - 4s 127ms/step - loss: 0.0051\n",
            "Epoch 57/100\n",
            "29/29 [==============================] - 4s 128ms/step - loss: 0.0050\n",
            "Epoch 58/100\n",
            "29/29 [==============================] - 4s 127ms/step - loss: 0.0054\n",
            "Epoch 59/100\n",
            "29/29 [==============================] - 4s 129ms/step - loss: 0.0053\n",
            "Epoch 60/100\n",
            "29/29 [==============================] - 4s 130ms/step - loss: 0.0053\n",
            "Epoch 61/100\n",
            "29/29 [==============================] - 4s 127ms/step - loss: 0.0051\n",
            "Epoch 62/100\n",
            "29/29 [==============================] - 4s 129ms/step - loss: 0.0046\n",
            "Epoch 63/100\n",
            "29/29 [==============================] - 4s 130ms/step - loss: 0.0046\n",
            "Epoch 64/100\n",
            "29/29 [==============================] - 4s 130ms/step - loss: 0.0047\n",
            "Epoch 65/100\n",
            "29/29 [==============================] - 4s 129ms/step - loss: 0.0047\n",
            "Epoch 66/100\n",
            "29/29 [==============================] - 4s 127ms/step - loss: 0.0044\n",
            "Epoch 67/100\n",
            "29/29 [==============================] - 4s 128ms/step - loss: 0.0046\n",
            "Epoch 68/100\n",
            "29/29 [==============================] - 4s 134ms/step - loss: 0.0047\n",
            "Epoch 69/100\n",
            "29/29 [==============================] - 4s 131ms/step - loss: 0.0044\n",
            "Epoch 70/100\n",
            "29/29 [==============================] - 4s 133ms/step - loss: 0.0045\n",
            "Epoch 71/100\n",
            "29/29 [==============================] - 4s 134ms/step - loss: 0.0044\n",
            "Epoch 72/100\n",
            "29/29 [==============================] - 4s 131ms/step - loss: 0.0045\n",
            "Epoch 73/100\n",
            "29/29 [==============================] - 4s 128ms/step - loss: 0.0044\n",
            "Epoch 74/100\n",
            "29/29 [==============================] - 4s 125ms/step - loss: 0.0043\n",
            "Epoch 75/100\n",
            "29/29 [==============================] - 4s 128ms/step - loss: 0.0043\n",
            "Epoch 76/100\n",
            "29/29 [==============================] - 4s 130ms/step - loss: 0.0041\n",
            "Epoch 77/100\n",
            "29/29 [==============================] - 4s 131ms/step - loss: 0.0045\n",
            "Epoch 78/100\n",
            "29/29 [==============================] - 4s 131ms/step - loss: 0.0046\n",
            "Epoch 79/100\n",
            "29/29 [==============================] - 4s 129ms/step - loss: 0.0041\n",
            "Epoch 80/100\n",
            "29/29 [==============================] - 4s 129ms/step - loss: 0.0042\n",
            "Epoch 81/100\n",
            "29/29 [==============================] - 4s 131ms/step - loss: 0.0043\n",
            "Epoch 82/100\n",
            "29/29 [==============================] - 4s 128ms/step - loss: 0.0038\n",
            "Epoch 83/100\n",
            "29/29 [==============================] - 4s 133ms/step - loss: 0.0043\n",
            "Epoch 84/100\n",
            "29/29 [==============================] - 4s 126ms/step - loss: 0.0043\n",
            "Epoch 85/100\n",
            "29/29 [==============================] - 4s 130ms/step - loss: 0.0041\n",
            "Epoch 86/100\n",
            "29/29 [==============================] - 4s 132ms/step - loss: 0.0039\n",
            "Epoch 87/100\n",
            "29/29 [==============================] - 4s 130ms/step - loss: 0.0041\n",
            "Epoch 88/100\n",
            "29/29 [==============================] - 4s 132ms/step - loss: 0.0040\n",
            "Epoch 89/100\n",
            "29/29 [==============================] - 4s 127ms/step - loss: 0.0041\n",
            "Epoch 90/100\n",
            "29/29 [==============================] - 4s 131ms/step - loss: 0.0037\n",
            "Epoch 91/100\n",
            "29/29 [==============================] - 4s 126ms/step - loss: 0.0039\n",
            "Epoch 92/100\n",
            "29/29 [==============================] - 4s 130ms/step - loss: 0.0039\n",
            "Epoch 93/100\n",
            "29/29 [==============================] - 4s 131ms/step - loss: 0.0041\n",
            "Epoch 94/100\n",
            "29/29 [==============================] - 4s 129ms/step - loss: 0.0044\n",
            "Epoch 95/100\n",
            "29/29 [==============================] - 4s 130ms/step - loss: 0.0037\n",
            "Epoch 96/100\n",
            "29/29 [==============================] - 4s 131ms/step - loss: 0.0040\n",
            "Epoch 97/100\n",
            "29/29 [==============================] - 4s 130ms/step - loss: 0.0036\n",
            "Epoch 98/100\n",
            "29/29 [==============================] - 4s 130ms/step - loss: 0.0036\n",
            "Epoch 99/100\n",
            "29/29 [==============================] - 4s 127ms/step - loss: 0.0036\n",
            "Epoch 100/100\n",
            "29/29 [==============================] - 4s 130ms/step - loss: 0.0036\n"
          ]
        },
        {
          "output_type": "execute_result",
          "data": {
            "text/plain": [
              "<keras.callbacks.History at 0x7fe496ae86d0>"
            ]
          },
          "metadata": {},
          "execution_count": 124
        }
      ]
    },
    {
      "cell_type": "code",
      "metadata": {
        "colab": {
          "base_uri": "https://localhost:8080/"
        },
        "id": "rPRLs2a92je3",
        "outputId": "4b408bf7-bea6-4827-c269-c5f9fe38f681"
      },
      "source": [
        "FUTURE_PREDICTION_RANGE = 60 #@param {type : \"number\"}\n",
        "WINDOW = 60 #@param {type : \"number\"}\n",
        "\n",
        "#Concatenating the training dataset and test dataset by row to form a total dataset\n",
        "dataset_total = pd.concat((train_df[\"Open\"], test_df[\"Open\"]), axis = 0)\n",
        "\n",
        "#Extract last 60 data from the training dataset + all the data from the test dataset (60 because we trained the model with 60 timesteps)\n",
        "inputs = dataset_total[len(dataset_total) - len(test_df) - WINDOW:].values\n",
        "inputs = inputs.reshape(-1,1)\n",
        "#print(inputs)\n",
        "#Feature Scaling\n",
        "tmp=train_df[\"Open\"].values\n",
        "tmp=tmp.reshape(-1,1)\n",
        "sc.fit(tmp)\n",
        "inputs = sc.transform(inputs)\n",
        "inputs"
      ],
      "execution_count": null,
      "outputs": [
        {
          "output_type": "execute_result",
          "data": {
            "text/plain": [
              "array([[ 0.54342105],\n",
              "       [ 0.52894737],\n",
              "       [ 0.54348684],\n",
              "       [ 0.56184211],\n",
              "       [ 0.56842105],\n",
              "       [ 0.63815789],\n",
              "       [ 0.68447368],\n",
              "       [ 0.69348684],\n",
              "       [ 0.73289474],\n",
              "       [ 0.74605263],\n",
              "       [ 0.74210526],\n",
              "       [ 0.73157895],\n",
              "       [ 0.77894737],\n",
              "       [ 0.72434211],\n",
              "       [ 0.66723684],\n",
              "       [ 0.67105263],\n",
              "       [ 0.73421053],\n",
              "       [ 0.75434211],\n",
              "       [ 0.78421053],\n",
              "       [ 0.76381579],\n",
              "       [ 0.79526316],\n",
              "       [ 0.77894737],\n",
              "       [ 0.84473684],\n",
              "       [ 0.91447368],\n",
              "       [ 0.95      ],\n",
              "       [ 0.91342105],\n",
              "       [ 0.88690789],\n",
              "       [ 0.95861842],\n",
              "       [ 0.89210526],\n",
              "       [ 0.89736842],\n",
              "       [ 0.9475    ],\n",
              "       [ 0.90394737],\n",
              "       [ 0.88552632],\n",
              "       [ 0.84868421],\n",
              "       [ 0.85921053],\n",
              "       [ 0.86052632],\n",
              "       [ 0.86842105],\n",
              "       [ 0.86578947],\n",
              "       [ 0.85460526],\n",
              "       [ 0.82322368],\n",
              "       [ 0.79868421],\n",
              "       [ 0.78157895],\n",
              "       [ 0.79342105],\n",
              "       [ 0.8       ],\n",
              "       [ 0.79513158],\n",
              "       [ 0.77631579],\n",
              "       [ 0.76361842],\n",
              "       [ 0.83289474],\n",
              "       [ 0.76763158],\n",
              "       [ 0.79473684],\n",
              "       [ 0.70493421],\n",
              "       [ 0.66973684],\n",
              "       [ 0.72105263],\n",
              "       [ 0.72894737],\n",
              "       [ 0.73552632],\n",
              "       [ 0.75789474],\n",
              "       [ 0.86578947],\n",
              "       [ 0.81769737],\n",
              "       [ 0.76421053],\n",
              "       [ 0.78302632],\n",
              "       [ 0.86092105],\n",
              "       [ 0.83157895],\n",
              "       [ 0.79473684],\n",
              "       [ 0.81842105],\n",
              "       [ 0.81842105],\n",
              "       [ 0.88421053],\n",
              "       [ 0.90394737],\n",
              "       [ 0.89868421],\n",
              "       [ 1.02894737],\n",
              "       [ 1.02236842],\n",
              "       [ 0.98572368],\n",
              "       [ 0.95789474],\n",
              "       [ 1.10789474],\n",
              "       [ 1.14342105],\n",
              "       [ 1.18756579],\n",
              "       [ 1.22763158],\n",
              "       [ 1.43019737],\n",
              "       [ 1.39736842],\n",
              "       [ 1.50921053],\n",
              "       [ 1.45184211],\n",
              "       [ 1.51578947],\n",
              "       [ 1.45921053],\n",
              "       [ 1.44210526],\n",
              "       [ 1.43684211],\n",
              "       [ 1.42368421],\n",
              "       [ 1.29210526],\n",
              "       [ 1.31447368],\n",
              "       [ 1.25230263],\n",
              "       [ 1.21315789],\n",
              "       [ 1.25039474],\n",
              "       [ 1.23947368],\n",
              "       [ 1.18940789],\n",
              "       [ 1.17763158],\n",
              "       [ 1.20657895],\n",
              "       [ 1.18421053],\n",
              "       [ 1.24473684],\n",
              "       [ 1.34736842],\n",
              "       [ 1.34473684],\n",
              "       [ 1.37763158],\n",
              "       [ 1.33289474],\n",
              "       [ 1.325     ],\n",
              "       [ 1.34342105],\n",
              "       [ 1.34342105],\n",
              "       [ 1.43947368],\n",
              "       [ 1.37105263],\n",
              "       [ 1.35118421],\n",
              "       [ 1.28552632],\n",
              "       [ 1.33552632],\n",
              "       [ 1.18013158],\n",
              "       [ 1.13809211],\n",
              "       [ 1.14078947],\n",
              "       [ 1.10631579],\n",
              "       [ 1.05394737],\n",
              "       [ 1.04210526],\n",
              "       [ 1.11118421],\n",
              "       [ 1.09467105],\n",
              "       [ 1.01842105],\n",
              "       [ 1.04078947],\n",
              "       [ 1.04868421],\n",
              "       [ 1.06302632],\n",
              "       [ 1.06842105],\n",
              "       [ 1.13697368],\n",
              "       [ 1.18611842],\n",
              "       [ 1.18230263],\n",
              "       [ 1.21842105],\n",
              "       [ 1.19960526],\n",
              "       [ 1.18118421],\n",
              "       [ 1.21394737],\n",
              "       [ 1.29210526],\n",
              "       [ 1.47631579],\n",
              "       [ 1.43157895],\n",
              "       [ 1.52585526],\n",
              "       [ 1.49736842],\n",
              "       [ 1.51565789],\n",
              "       [ 1.60789474],\n",
              "       [ 1.83684211],\n",
              "       [ 1.81842105],\n",
              "       [ 1.78552632],\n",
              "       [ 1.89342105],\n",
              "       [ 1.96973684],\n",
              "       [ 1.87361842],\n",
              "       [ 1.97697368],\n",
              "       [ 1.94973684],\n",
              "       [ 1.92631579],\n",
              "       [ 1.92368421],\n",
              "       [ 1.85092105],\n",
              "       [ 1.85815789],\n",
              "       [ 1.94072368],\n",
              "       [ 1.87657895],\n",
              "       [ 1.88026316],\n",
              "       [ 1.87105263],\n",
              "       [ 1.91046053],\n",
              "       [ 1.95388158],\n",
              "       [ 1.91157895],\n",
              "       [ 1.97460526],\n",
              "       [ 2.01315789],\n",
              "       [ 1.96973684],\n",
              "       [ 1.95      ],\n",
              "       [ 2.10131579],\n",
              "       [ 2.09013158],\n",
              "       [ 1.97618421],\n",
              "       [ 1.94875   ],\n",
              "       [-0.38684211],\n",
              "       [-0.36052632],\n",
              "       [-0.37236842],\n",
              "       [-0.37368421],\n",
              "       [-0.40131579],\n",
              "       [-0.39868421],\n",
              "       [-0.38552632],\n",
              "       [-0.36960526],\n",
              "       [-0.35657895],\n",
              "       [-0.27894737],\n",
              "       [-0.26052632],\n",
              "       [-0.3       ],\n",
              "       [-0.21059211],\n",
              "       [-0.27085526],\n",
              "       [-0.25789474],\n",
              "       [-0.25789474],\n",
              "       [-0.26447368],\n",
              "       [-0.28434211],\n",
              "       [-0.26973684],\n",
              "       [-0.22105263],\n",
              "       [-0.21447368],\n",
              "       [-0.24092105],\n",
              "       [-0.23157895],\n",
              "       [-0.22111842],\n",
              "       [-0.19486842],\n",
              "       [-0.20394737],\n",
              "       [-0.19098684],\n",
              "       [-0.13684211],\n",
              "       [-0.17105263],\n",
              "       [-0.16842105],\n",
              "       [-0.05789474],\n",
              "       [-0.06973684],\n",
              "       [-0.05      ],\n",
              "       [-0.05131579],\n",
              "       [-0.03026316],\n",
              "       [-0.03407895],\n",
              "       [-0.05671053],\n",
              "       [-0.03552632],\n",
              "       [-0.01710526],\n",
              "       [-0.03434211],\n",
              "       [-0.06980263],\n",
              "       [-0.08835526],\n",
              "       [-0.11184211],\n",
              "       [-0.11315789],\n",
              "       [-0.10269737],\n",
              "       [-0.06315789],\n",
              "       [-0.09407895],\n",
              "       [-0.04078947],\n",
              "       [-0.06552632],\n",
              "       [-0.07368421],\n",
              "       [-0.06315789],\n",
              "       [-0.06190789],\n",
              "       [-0.03973684],\n",
              "       [-0.04736842],\n",
              "       [-0.03644737],\n",
              "       [-0.01861842],\n",
              "       [-0.00526316],\n",
              "       [-0.02348684],\n",
              "       [-0.00684211],\n",
              "       [ 0.00934211],\n",
              "       [ 0.01973684],\n",
              "       [ 0.03552632],\n",
              "       [ 0.05855263],\n",
              "       [ 0.05263158],\n",
              "       [ 0.07144737],\n",
              "       [ 0.07473684],\n",
              "       [ 0.04184211],\n",
              "       [ 0.09473684],\n",
              "       [ 0.06184211],\n",
              "       [ 0.0675    ],\n",
              "       [ 0.07421053],\n",
              "       [ 0.08026316],\n",
              "       [ 0.03203947],\n",
              "       [ 0.02105263],\n",
              "       [ 0.05526316],\n",
              "       [ 0.05921053],\n",
              "       [ 0.05776316],\n",
              "       [ 0.06447368],\n",
              "       [ 0.11447368],\n",
              "       [ 0.23276316],\n",
              "       [ 0.20921053],\n",
              "       [ 0.14986842],\n",
              "       [ 0.19736842],\n",
              "       [ 0.21434211],\n",
              "       [ 0.2925    ],\n",
              "       [ 0.16921053],\n",
              "       [ 0.02894737],\n",
              "       [ 0.09822368],\n",
              "       [ 0.06888158],\n",
              "       [ 0.09473684],\n",
              "       [-0.05657895],\n",
              "       [-0.06578947],\n",
              "       [-0.11578947],\n",
              "       [-0.09210526],\n",
              "       [-0.07631579],\n",
              "       [-0.13026316],\n",
              "       [-0.15      ],\n",
              "       [-0.18421053],\n",
              "       [-0.23151316],\n",
              "       [-0.24210526],\n",
              "       [-0.22907895],\n",
              "       [-0.28855263],\n",
              "       [-0.21184211],\n",
              "       [-0.16842105],\n",
              "       [-0.11098684],\n",
              "       [-0.12342105],\n",
              "       [-0.15526316],\n",
              "       [-0.17631579],\n",
              "       [-0.11578947],\n",
              "       [-0.08815789],\n",
              "       [-0.15723684],\n",
              "       [-0.14868421],\n",
              "       [-0.13552632],\n",
              "       [-0.21578947],\n",
              "       [-0.18289474],\n",
              "       [-0.16973684],\n",
              "       [-0.16578947],\n",
              "       [-0.20657895],\n",
              "       [-0.27368421],\n",
              "       [-0.275     ],\n",
              "       [-0.22894737],\n",
              "       [-0.18289474],\n",
              "       [-0.04078947],\n",
              "       [-0.08157895],\n",
              "       [-0.05789474],\n",
              "       [-0.05921053],\n",
              "       [-0.02894737],\n",
              "       [-0.03947368],\n",
              "       [-0.05651316],\n",
              "       [-0.06973684],\n",
              "       [-0.07631579],\n",
              "       [-0.03539474],\n",
              "       [-0.00526316],\n",
              "       [-0.05921053],\n",
              "       [-0.03815789],\n",
              "       [-0.0475    ],\n",
              "       [-0.05684211],\n",
              "       [-0.09763158],\n",
              "       [-0.10526316],\n",
              "       [-0.16078947],\n",
              "       [-0.13973684],\n",
              "       [-0.15657895],\n",
              "       [-0.14868421],\n",
              "       [-0.15789474],\n",
              "       [-0.17368421]])"
            ]
          },
          "metadata": {},
          "execution_count": 125
        }
      ]
    },
    {
      "cell_type": "code",
      "metadata": {
        "colab": {
          "base_uri": "https://localhost:8080/"
        },
        "id": "r1KWzQw45pzl",
        "outputId": "e574b998-dd4b-40c9-f818-ca2e1a9dc44e"
      },
      "source": [
        "x_test = []\n",
        "for i in range(WINDOW,WINDOW+FUTURE_PREDICTION_RANGE): #test data contains 80 rows of data\n",
        "    x_test.append(inputs[i-WINDOW:i,0])\n",
        "\n",
        "x_test  = np.array(x_test) \n",
        "\n",
        "x_test = np.reshape(x_test, (x_test.shape[0],x_test.shape[1],1)) #Converts to the 3d format that can go into the RNN as input\n",
        "x_test"
      ],
      "execution_count": null,
      "outputs": [
        {
          "output_type": "execute_result",
          "data": {
            "text/plain": [
              "array([[[0.54342105],\n",
              "        [0.52894737],\n",
              "        [0.54348684],\n",
              "        ...,\n",
              "        [0.81769737],\n",
              "        [0.76421053],\n",
              "        [0.78302632]],\n",
              "\n",
              "       [[0.52894737],\n",
              "        [0.54348684],\n",
              "        [0.56184211],\n",
              "        ...,\n",
              "        [0.76421053],\n",
              "        [0.78302632],\n",
              "        [0.86092105]],\n",
              "\n",
              "       [[0.54348684],\n",
              "        [0.56184211],\n",
              "        [0.56842105],\n",
              "        ...,\n",
              "        [0.78302632],\n",
              "        [0.86092105],\n",
              "        [0.83157895]],\n",
              "\n",
              "       ...,\n",
              "\n",
              "       [[0.81769737],\n",
              "        [0.76421053],\n",
              "        [0.78302632],\n",
              "        ...,\n",
              "        [1.11118421],\n",
              "        [1.09467105],\n",
              "        [1.01842105]],\n",
              "\n",
              "       [[0.76421053],\n",
              "        [0.78302632],\n",
              "        [0.86092105],\n",
              "        ...,\n",
              "        [1.09467105],\n",
              "        [1.01842105],\n",
              "        [1.04078947]],\n",
              "\n",
              "       [[0.78302632],\n",
              "        [0.86092105],\n",
              "        [0.83157895],\n",
              "        ...,\n",
              "        [1.01842105],\n",
              "        [1.04078947],\n",
              "        [1.04868421]]])"
            ]
          },
          "metadata": {},
          "execution_count": 126
        }
      ]
    },
    {
      "cell_type": "code",
      "metadata": {
        "id": "JV9jFwsj5xD9"
      },
      "source": [
        "predicted_stock_price = regressor.predict(x_test)\n",
        "predicted_stock_price  = sc.inverse_transform(predicted_stock_price )"
      ],
      "execution_count": null,
      "outputs": []
    },
    {
      "cell_type": "code",
      "metadata": {
        "colab": {
          "base_uri": "https://localhost:8080/"
        },
        "id": "rn4exxo757yt",
        "outputId": "fb39af28-6ed8-4296-9bd6-5b60800fef89"
      },
      "source": [
        "predicted_stock_price.shape"
      ],
      "execution_count": null,
      "outputs": [
        {
          "output_type": "execute_result",
          "data": {
            "text/plain": [
              "(60, 1)"
            ]
          },
          "metadata": {},
          "execution_count": 128
        }
      ]
    },
    {
      "cell_type": "code",
      "metadata": {
        "colab": {
          "base_uri": "https://localhost:8080/"
        },
        "id": "nORqTYAF6AL-",
        "outputId": "740fee92-8159-4ecc-85d9-350aace2c85f"
      },
      "source": [
        "real_stock_price= test_df['Open'].values[:FUTURE_PREDICTION_RANGE]\n",
        "real_stock_price=real_stock_price.reshape(-1,1)\n",
        "real_stock_price.shape"
      ],
      "execution_count": null,
      "outputs": [
        {
          "output_type": "execute_result",
          "data": {
            "text/plain": [
              "(60, 1)"
            ]
          },
          "metadata": {},
          "execution_count": 129
        }
      ]
    },
    {
      "cell_type": "code",
      "metadata": {
        "id": "WbuWJn7iIKIM"
      },
      "source": [
        ""
      ],
      "execution_count": null,
      "outputs": []
    },
    {
      "cell_type": "code",
      "metadata": {
        "colab": {
          "base_uri": "https://localhost:8080/",
          "height": 295
        },
        "id": "hY7TTlk852-R",
        "outputId": "fbb97500-b201-432a-a7d4-ed05224db3a1"
      },
      "source": [
        "plt.plot(predicted_stock_price, color=\"red\", label= \"Predicted\")\n",
        "plt.plot(real_stock_price, color=\"green\", label= \"Real\")\n",
        "plt.xlabel(\"Period\")\n",
        "plt.ylabel(\"Stock Price\")\n",
        "plt.title(f'Stock Price Forecast for {STOCK}')\n",
        "plt.legend()\n",
        "plt.show()"
      ],
      "execution_count": null,
      "outputs": [
        {
          "output_type": "display_data",
          "data": {
            "image/png": "[encoded data removed]",
            "text/plain": [
              "<Figure size 432x288 with 1 Axes>"
            ]
          },
          "metadata": {
            "needs_background": "light"
          }
        }
      ]
    },
    {
      "cell_type": "code",
      "metadata": {
        "colab": {
          "base_uri": "https://localhost:8080/"
        },
        "id": "HwPtvDfO7ysA",
        "outputId": "8bc06b1a-b3f1-47a7-cda2-0766e0485f23"
      },
      "source": [
        "#Model Evaluation\n",
        "from sklearn.metrics import mean_absolute_error\n",
        "from sklearn.metrics import mean_squared_error\n",
        "from sklearn.metrics import r2_score\n",
        "\n",
        "import math \n",
        "\n",
        "\n",
        "\n",
        "MAE_RNN = mean_absolute_error(real_stock_price,predicted_stock_price) #8.477951782226564\n",
        "\n",
        "MSE_RNN = mean_squared_error(real_stock_price,predicted_stock_price) #131.51032080751082\n",
        "\n",
        "RMSE_RNN = math.sqrt(MSE_RNN) #11.467794940942692\n",
        "\n",
        "R2_RNN = r2_score(real_stock_price,predicted_stock_price) #0.39490875968951855\n",
        "\n",
        "real_stock_price_mean = real_stock_price.mean()  #807.5260000000001\n",
        "\n",
        "\n",
        "print(\"Mean Absolute Error:\", MAE_RNN)\n",
        "print(\"Mean Squared Error:\", MSE_RNN)\n",
        "print(\"Root Mean Squared Error:\", RMSE_RNN)\n",
        "print(\"R Squared:\", R2_RNN)\n",
        "print(\"Real Stock Price Mean:\", real_stock_price_mean)\n",
        "print(\"RMSE_RNN/REAL_STOCK_PRICE_MEAN:\", RMSE_RNN/real_stock_price_mean) #0.014201146391500325\n",
        "\n",
        "print(\"mean_absolute_percentage_error :\", MAE_RNN/real_stock_price_mean *100 , \" %\")"
      ],
      "execution_count": null,
      "outputs": [
        {
          "output_type": "stream",
          "name": "stdout",
          "text": [
            "Mean Absolute Error: 81.92623372395835\n",
            "Mean Squared Error: 10213.508514631909\n",
            "Root Mean Squared Error: 101.06190436871803\n",
            "R Squared: 0.5252175467059239\n",
            "Real Stock Price Mean: 2931.6208333333334\n",
            "RMSE_RNN/REAL_STOCK_PRICE_MEAN: 0.034473047544080884\n",
            "mean_absolute_percentage_error : 2.794571275808747  %\n"
          ]
        }
      ]
    },
    {
      "cell_type": "code",
      "metadata": {
        "id": "bRSZbMdAB-9v"
      },
      "source": [
        "FUTURE_PREDICTION_RANGE =  15 #@param {type : \"number\"}"
      ],
      "execution_count": null,
      "outputs": []
    },
    {
      "cell_type": "code",
      "metadata": {
        "colab": {
          "base_uri": "https://localhost:8080/"
        },
        "id": "HWqA4fitCuww",
        "outputId": "dedb779d-58a5-4436-cbf7-1b355f54c5d7"
      },
      "source": [
        "predicted_stock_price=[]\n",
        "hist= dataset_total[len(train_df)-WINDOW:].values\n",
        "hist= hist[:WINDOW]\n",
        "hist= hist.reshape(-1,1)\n",
        "sc.fit(tmp)\n",
        "#print(hist)\n",
        "hist= sc.transform(hist)\n",
        "hist= hist.reshape(1,-1)[0]\n",
        "hist=list(hist)\n",
        "hist\n",
        "\n",
        "for i in range(0,FUTURE_PREDICTION_RANGE):\n",
        "  cur_win= hist[i:]\n",
        "  #print(len(cur_win))\n",
        "  cur_win= np.array(cur_win)\n",
        "  cur_win.reshape(-1,1)\n",
        "  cur_inp=list()\n",
        "  cur_inp.append(cur_win)\n",
        "  cur_inp= np.array(cur_inp)\n",
        "  cur_inp= cur_inp.reshape(cur_inp.shape[0],cur_inp.shape[1],1)\n",
        "  cur_p = regressor.predict(cur_inp)\n",
        "  hist.append(cur_p[0][0])\n",
        "  predicted_stock_price.append(cur_p[0][0])\n",
        "\n",
        "predicted_stock_price= np.array(predicted_stock_price)\n",
        "predicted_stock_price= predicted_stock_price.reshape(-1,1)\n",
        "predicted_stock_price  = sc.inverse_transform(predicted_stock_price )\n",
        "predicted_stock_price.shape"
      ],
      "execution_count": null,
      "outputs": [
        {
          "output_type": "execute_result",
          "data": {
            "text/plain": [
              "(15, 1)"
            ]
          },
          "metadata": {},
          "execution_count": 133
        }
      ]
    },
    {
      "cell_type": "code",
      "metadata": {
        "colab": {
          "base_uri": "https://localhost:8080/"
        },
        "id": "EhvMNaLHIVRC",
        "outputId": "cc5ecb76-22f8-43c9-bb22-618bfc2ba788"
      },
      "source": [
        "real_stock_price= test_df['Open'].values[:FUTURE_PREDICTION_RANGE]\n",
        "real_stock_price=real_stock_price.reshape(-1,1)\n",
        "real_stock_price.shape"
      ],
      "execution_count": null,
      "outputs": [
        {
          "output_type": "execute_result",
          "data": {
            "text/plain": [
              "(15, 1)"
            ]
          },
          "metadata": {},
          "execution_count": 134
        }
      ]
    },
    {
      "cell_type": "code",
      "metadata": {
        "colab": {
          "base_uri": "https://localhost:8080/",
          "height": 295
        },
        "id": "yZxGKAYIIocX",
        "outputId": "1654588f-59dc-4bf4-8586-1954077af6f3"
      },
      "source": [
        "plt.plot(predicted_stock_price, color=\"red\", label= \"Predicted\")\n",
        "plt.plot(real_stock_price, color=\"green\", label= \"Real\")\n",
        "plt.xlabel(\"Period\")\n",
        "plt.ylabel(\"Stock Price\")\n",
        "plt.title(f'Stock Price Forecast for {STOCK}')\n",
        "plt.legend()\n",
        "plt.show()"
      ],
      "execution_count": null,
      "outputs": [
        {
          "output_type": "display_data",
          "data": {
            "image/png": "[encoded data removed]",
            "text/plain": [
              "<Figure size 432x288 with 1 Axes>"
            ]
          },
          "metadata": {
            "needs_background": "light"
          }
        }
      ]
    },
    {
      "cell_type": "code",
      "metadata": {
        "colab": {
          "base_uri": "https://localhost:8080/"
        },
        "id": "54Tu6PArItTB",
        "outputId": "014585ef-3df4-40b6-9384-4ecab610c201"
      },
      "source": [
        "#Model Evaluation\n",
        "from sklearn.metrics import mean_absolute_error\n",
        "from sklearn.metrics import mean_squared_error\n",
        "from sklearn.metrics import r2_score\n",
        "\n",
        "import math \n",
        "\n",
        "\n",
        "\n",
        "MAE_RNN = mean_absolute_error(real_stock_price,predicted_stock_price) #8.477951782226564\n",
        "\n",
        "MSE_RNN = mean_squared_error(real_stock_price,predicted_stock_price) #131.51032080751082\n",
        "\n",
        "RMSE_RNN = math.sqrt(MSE_RNN) #11.467794940942692\n",
        "\n",
        "R2_RNN = r2_score(real_stock_price,predicted_stock_price) #0.39490875968951855\n",
        "\n",
        "real_stock_price_mean = real_stock_price.mean()  #807.5260000000001\n",
        "\n",
        "\n",
        "print(\"Mean Absolute Error:\", MAE_RNN)\n",
        "print(\"Mean Squared Error:\", MSE_RNN)\n",
        "print(\"Root Mean Squared Error:\", RMSE_RNN)\n",
        "print(\"R Squared:\", R2_RNN)\n",
        "print(\"Real Stock Price Mean:\", real_stock_price_mean)\n",
        "print(\"RMSE_RNN/REAL_STOCK_PRICE_MEAN:\", RMSE_RNN/real_stock_price_mean) #0.014201146391500325\n",
        "\n",
        "print(\"mean_absolute_percentage_error :\", MAE_RNN/real_stock_price_mean *100 , \" %\")"
      ],
      "execution_count": null,
      "outputs": [
        {
          "output_type": "stream",
          "name": "stdout",
          "text": [
            "Mean Absolute Error: 204.62524414062503\n",
            "Mean Squared Error: 57300.846989194724\n",
            "Root Mean Squared Error: 239.3759532392398\n",
            "R Squared: -5.722419159447656\n",
            "Real Stock Price Mean: 2749.733333333333\n",
            "RMSE_RNN/REAL_STOCK_PRICE_MEAN: 0.08705424280144977\n",
            "mean_absolute_percentage_error : 7.441639582285253  %\n"
          ]
        }
      ]
    }
  ]
}