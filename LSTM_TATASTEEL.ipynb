{
  "nbformat": 4,
  "nbformat_minor": 0,
  "metadata": {
    "colab": {
      "name": "LSTM_TATASTEEL.ipynb",
      "provenance": [],
      "include_colab_link": true
    },
    "kernelspec": {
      "name": "python3",
      "display_name": "Python 3"
    },
    "language_info": {
      "name": "python"
    }
  },
  "cells": [
    {
      "cell_type": "markdown",
      "metadata": {
        "id": "view-in-github",
        "colab_type": "text"
      },
      "source": [
        "<a href=\"https://colab.research.google.com/github/LezendarySandwich/CSL7550-Stock-Price-Prediction/blob/master/LSTM_TATASTEEL.ipynb\" target=\"_parent\"><img src=\"https://colab.research.google.com/assets/colab-badge.svg\" alt=\"Open In Colab\"/></a>"
      ]
    },
    {
      "cell_type": "code",
      "metadata": {
        "id": "MlTjomyYrOFm"
      },
      "source": [
        "import os\n",
        "import shutil\n",
        "from google.colab import drive\n",
        "import pandas as pd\n",
        "import matplotlib.pyplot as plt \n",
        "\n",
        "if not os.path.exists('/content/drive'):\n",
        "  drive.mount('/content/drive')"
      ],
      "execution_count": null,
      "outputs": []
    },
    {
      "cell_type": "code",
      "metadata": {
        "id": "MD7J88G4rfCm"
      },
      "source": [
        "from datetime import date\n",
        "\n",
        "STORAGE = '/content/drive/MyDrive' #@param {type : \"string\"}\n",
        "KAGGLE_DIR = 'Kaggle' #@param {type : \"string\"}\n",
        "KAGGLE_JSON_PATH = os.path.join(STORAGE, KAGGLE_DIR)\n",
        "QUANDL_PATH = os.path.join(KAGGLE_JSON_PATH, '.quandl')\n",
        "__PROJECT = os.path.join(STORAGE, 'Neo')\n",
        "ML_DATASET = os.path.join(__PROJECT, 'dataset')\n",
        "START_DATE = date(2014, 1, 1)\n",
        "END_DATE = date(2019,1,1)\n",
        "STOCK = 'TATASTEEL'#@param {type : \"string\"}\n",
        "SAVE_DIR = os.path.join(ML_DATASET, f'{STOCK}_{START_DATE}_{END_DATE}')\n",
        "TEST_DS = os.path.join(SAVE_DIR,'dataset_test.csv')\n",
        "TRAIN_DS = os.path.join(SAVE_DIR,'dataset_train.csv')"
      ],
      "execution_count": null,
      "outputs": []
    },
    {
      "cell_type": "code",
      "metadata": {
        "colab": {
          "base_uri": "https://localhost:8080/",
          "height": 422
        },
        "id": "85DVYITErq-r",
        "outputId": "32a1142d-ce26-4c71-be93-527ac2012cc7"
      },
      "source": [
        "train_df= pd.read_csv(TRAIN_DS)\n",
        "test_df= pd.read_csv(TEST_DS)\n",
        "train_df"
      ],
      "execution_count": null,
      "outputs": [
        {
          "output_type": "execute_result",
          "data": {
            "text/html": [
              "<div>\n",
              "<style scoped>\n",
              "    .dataframe tbody tr th:only-of-type {\n",
              "        vertical-align: middle;\n",
              "    }\n",
              "\n",
              "    .dataframe tbody tr th {\n",
              "        vertical-align: top;\n",
              "    }\n",
              "\n",
              "    .dataframe thead th {\n",
              "        text-align: right;\n",
              "    }\n",
              "</style>\n",
              "<table border=\"1\" class=\"dataframe\">\n",
              "  <thead>\n",
              "    <tr style=\"text-align: right;\">\n",
              "      <th></th>\n",
              "      <th>Date</th>\n",
              "      <th>Open</th>\n",
              "      <th>High</th>\n",
              "      <th>Low</th>\n",
              "      <th>Close</th>\n",
              "      <th>Volume</th>\n",
              "    </tr>\n",
              "  </thead>\n",
              "  <tbody>\n",
              "    <tr>\n",
              "      <th>0</th>\n",
              "      <td>2014-01-01</td>\n",
              "      <td>425.00</td>\n",
              "      <td>426.80</td>\n",
              "      <td>423.65</td>\n",
              "      <td>425.90</td>\n",
              "      <td>1193408.0</td>\n",
              "    </tr>\n",
              "    <tr>\n",
              "      <th>1</th>\n",
              "      <td>2014-01-02</td>\n",
              "      <td>426.00</td>\n",
              "      <td>435.50</td>\n",
              "      <td>417.00</td>\n",
              "      <td>419.20</td>\n",
              "      <td>4000266.0</td>\n",
              "    </tr>\n",
              "    <tr>\n",
              "      <th>2</th>\n",
              "      <td>2014-01-03</td>\n",
              "      <td>416.50</td>\n",
              "      <td>419.40</td>\n",
              "      <td>409.00</td>\n",
              "      <td>412.50</td>\n",
              "      <td>3183770.0</td>\n",
              "    </tr>\n",
              "    <tr>\n",
              "      <th>3</th>\n",
              "      <td>2014-01-06</td>\n",
              "      <td>410.95</td>\n",
              "      <td>415.70</td>\n",
              "      <td>404.60</td>\n",
              "      <td>408.30</td>\n",
              "      <td>2704614.0</td>\n",
              "    </tr>\n",
              "    <tr>\n",
              "      <th>4</th>\n",
              "      <td>2014-01-07</td>\n",
              "      <td>409.90</td>\n",
              "      <td>411.90</td>\n",
              "      <td>392.55</td>\n",
              "      <td>394.70</td>\n",
              "      <td>3900410.0</td>\n",
              "    </tr>\n",
              "    <tr>\n",
              "      <th>...</th>\n",
              "      <td>...</td>\n",
              "      <td>...</td>\n",
              "      <td>...</td>\n",
              "      <td>...</td>\n",
              "      <td>...</td>\n",
              "      <td>...</td>\n",
              "    </tr>\n",
              "    <tr>\n",
              "      <th>982</th>\n",
              "      <td>2017-12-22</td>\n",
              "      <td>716.80</td>\n",
              "      <td>716.80</td>\n",
              "      <td>707.10</td>\n",
              "      <td>711.20</td>\n",
              "      <td>3322839.0</td>\n",
              "    </tr>\n",
              "    <tr>\n",
              "      <th>983</th>\n",
              "      <td>2017-12-26</td>\n",
              "      <td>714.00</td>\n",
              "      <td>725.00</td>\n",
              "      <td>712.00</td>\n",
              "      <td>721.65</td>\n",
              "      <td>6011430.0</td>\n",
              "    </tr>\n",
              "    <tr>\n",
              "      <th>984</th>\n",
              "      <td>2017-12-27</td>\n",
              "      <td>721.75</td>\n",
              "      <td>729.60</td>\n",
              "      <td>717.90</td>\n",
              "      <td>723.45</td>\n",
              "      <td>3611513.0</td>\n",
              "    </tr>\n",
              "    <tr>\n",
              "      <th>985</th>\n",
              "      <td>2017-12-28</td>\n",
              "      <td>725.05</td>\n",
              "      <td>739.50</td>\n",
              "      <td>724.60</td>\n",
              "      <td>736.25</td>\n",
              "      <td>11572648.0</td>\n",
              "    </tr>\n",
              "    <tr>\n",
              "      <th>986</th>\n",
              "      <td>2017-12-29</td>\n",
              "      <td>738.00</td>\n",
              "      <td>744.85</td>\n",
              "      <td>730.00</td>\n",
              "      <td>732.40</td>\n",
              "      <td>2816505.0</td>\n",
              "    </tr>\n",
              "  </tbody>\n",
              "</table>\n",
              "<p>987 rows × 6 columns</p>\n",
              "</div>"
            ],
            "text/plain": [
              "           Date    Open    High     Low   Close      Volume\n",
              "0    2014-01-01  425.00  426.80  423.65  425.90   1193408.0\n",
              "1    2014-01-02  426.00  435.50  417.00  419.20   4000266.0\n",
              "2    2014-01-03  416.50  419.40  409.00  412.50   3183770.0\n",
              "3    2014-01-06  410.95  415.70  404.60  408.30   2704614.0\n",
              "4    2014-01-07  409.90  411.90  392.55  394.70   3900410.0\n",
              "..          ...     ...     ...     ...     ...         ...\n",
              "982  2017-12-22  716.80  716.80  707.10  711.20   3322839.0\n",
              "983  2017-12-26  714.00  725.00  712.00  721.65   6011430.0\n",
              "984  2017-12-27  721.75  729.60  717.90  723.45   3611513.0\n",
              "985  2017-12-28  725.05  739.50  724.60  736.25  11572648.0\n",
              "986  2017-12-29  738.00  744.85  730.00  732.40   2816505.0\n",
              "\n",
              "[987 rows x 6 columns]"
            ]
          },
          "metadata": {},
          "execution_count": 17
        }
      ]
    },
    {
      "cell_type": "code",
      "metadata": {
        "id": "rmQrYLs_zQUM"
      },
      "source": [
        "train_dates_df= train_df['Date']\n",
        "train_df= train_df.drop(columns=[\"Date\"])\n",
        "test_dates_df= test_df['Date']\n",
        "test_df= test_df.drop(columns=['Date']) "
      ],
      "execution_count": null,
      "outputs": []
    },
    {
      "cell_type": "code",
      "metadata": {
        "colab": {
          "base_uri": "https://localhost:8080/"
        },
        "id": "H2XDN5_pytLw",
        "outputId": "3eff0956-5266-4db1-86df-7b9e71cbbfdd"
      },
      "source": [
        "#Feature Scaling\n",
        "from sklearn.preprocessing import MinMaxScaler\n",
        "import numpy as np\n",
        "\n",
        "sc = MinMaxScaler(feature_range=(0,1), copy = True)\n",
        "training_set_scaled = sc.fit_transform(train_df)\n",
        "x_train = []\n",
        "y_train = []\n",
        "\n",
        "for i in range(60,len(train_df)):\n",
        "    x_train.append(training_set_scaled[i-60:i,0])\n",
        "    y_train.append(training_set_scaled[i,0])\n",
        "\n",
        "x_train, y_train = np.array(x_train), np.array(y_train)\n",
        "x_train"
      ],
      "execution_count": null,
      "outputs": [
        {
          "output_type": "execute_result",
          "data": {
            "text/plain": [
              "array([[0.41275797, 0.41463415, 0.39681051, ..., 0.29981238, 0.29493433,\n",
              "        0.31219512],\n",
              "       [0.41463415, 0.39681051, 0.38639775, ..., 0.29493433, 0.31219512,\n",
              "        0.31894934],\n",
              "       [0.39681051, 0.38639775, 0.38442777, ..., 0.31219512, 0.31894934,\n",
              "        0.3260788 ],\n",
              "       ...,\n",
              "       [0.84390244, 0.84709193, 0.85440901, ..., 0.93395872, 0.96022514,\n",
              "        0.95497186],\n",
              "       [0.84709193, 0.85440901, 0.84990619, ..., 0.96022514, 0.95497186,\n",
              "        0.9695122 ],\n",
              "       [0.85440901, 0.84990619, 0.86350844, ..., 0.95497186, 0.9695122 ,\n",
              "        0.97570356]])"
            ]
          },
          "metadata": {},
          "execution_count": 21
        }
      ]
    },
    {
      "cell_type": "code",
      "metadata": {
        "id": "CEqQGEGJ0hgh"
      },
      "source": [
        "x_train = np.reshape(x_train, (x_train.shape[0],x_train.shape[1],1))"
      ],
      "execution_count": null,
      "outputs": []
    },
    {
      "cell_type": "code",
      "metadata": {
        "id": "0PVU4KNv0na0"
      },
      "source": [
        "from tensorflow.keras.models import Sequential\n",
        "from tensorflow.keras.layers import Dense\n",
        "from tensorflow.keras.layers import LSTM\n",
        "from tensorflow.keras.layers import Dropout\n",
        "#Adding the first LSTM layer and some dropout regularization to avoid overfitting\n",
        "regressor = Sequential()\n",
        "#Add first LSTM layer\n",
        "regressor.add(LSTM(units= 50, return_sequences=True, input_shape = (x_train.shape[1],1) )) #No of LSTM cells = units, return_sequences = True because we are building a stacked LSTM which will have several LSTM layers, when you are done adding LSTM layers set it to False whch is the default, input_shape (timesteps,predictors)\n",
        "#Add dropout regularization\n",
        "regressor.add(Dropout(rate = 0.2)) #rate of neurons you want to drop during regularization (during each iteration of the forward and back propagation)\n",
        "\n",
        "#Add Second LSTM Layer and dropout regularization \n",
        "regressor.add(LSTM(units= 50, return_sequences=True )) #No of LSTM cells = units, return_sequences = True because we are building a stacked LSTM which will have several LSTM layers, when you are done adding LSTM layers set it to False whch is the default \n",
        "#Add dropout regularization\n",
        "regressor.add(Dropout(rate = 0.2)) #rate of neurons you want to drop during regularization (during each iteration of the forward and back propagation)\n",
        "\n",
        "#Add Third LSTM Layer and dropout regularization \n",
        "regressor.add(LSTM(units= 50, return_sequences=True )) #No of LSTM cells = units, return_sequences = True because we are building a stacked LSTM which will have several LSTM layers, when you are done adding LSTM layers set it to False whch is the default \n",
        "#Add dropout regularization\n",
        "regressor.add(Dropout(rate = 0.2)) #rate of neurons you want to drop during regularization (during each iteration of the forward and back propagation)\n",
        "\n",
        "#Add Fourth LSTM Layer and dropout regularization \n",
        "#return_sequences=False because this is our last LSTM layer\n",
        "regressor.add(LSTM(units= 50, return_sequences=False )) #No of LSTM cells = units, return_sequences = True because we are done adding LSTM layers \n",
        "#Add dropout regularization\n",
        "regressor.add(Dropout(rate = 0.2)) #rate of neurons you want to drop during regularization (during each iteration of the forward and back propagation)\n",
        "\n",
        "#Add the output layer for full connection\n",
        "\n",
        "regressor.add(Dense(units=1 ))\n",
        "\n",
        "#Compiling the RNN\n",
        "\n",
        "regressor.compile(optimizer=\"adam\", loss = \"mean_squared_error\") #optimizer=\"rmsprop\" recommended for RNN but adam is always a safe and good choice\n",
        "#loss = \"mean_squared_error\" for regression \n",
        "\n"
      ],
      "execution_count": null,
      "outputs": []
    },
    {
      "cell_type": "code",
      "metadata": {
        "colab": {
          "base_uri": "https://localhost:8080/"
        },
        "id": "w5CfBlHq04e6",
        "outputId": "d1ffbc2e-e55f-4753-c6cf-6768fae8def5"
      },
      "source": [
        "regressor.fit(x_train,y_train, epochs= 100, batch_size=32)"
      ],
      "execution_count": null,
      "outputs": [
        {
          "output_type": "stream",
          "name": "stdout",
          "text": [
            "Epoch 1/100\n",
            "29/29 [==============================] - 11s 129ms/step - loss: 0.0360\n",
            "Epoch 2/100\n",
            "29/29 [==============================] - 4s 126ms/step - loss: 0.0079\n",
            "Epoch 3/100\n",
            "29/29 [==============================] - 4s 129ms/step - loss: 0.0060\n",
            "Epoch 4/100\n",
            "29/29 [==============================] - 4s 132ms/step - loss: 0.0056\n",
            "Epoch 5/100\n",
            "29/29 [==============================] - 4s 132ms/step - loss: 0.0044\n",
            "Epoch 6/100\n",
            "29/29 [==============================] - 4s 128ms/step - loss: 0.0044\n",
            "Epoch 7/100\n",
            "29/29 [==============================] - 4s 128ms/step - loss: 0.0051\n",
            "Epoch 8/100\n",
            "29/29 [==============================] - 4s 128ms/step - loss: 0.0048\n",
            "Epoch 9/100\n",
            "29/29 [==============================] - 4s 124ms/step - loss: 0.0045\n",
            "Epoch 10/100\n",
            "29/29 [==============================] - 4s 124ms/step - loss: 0.0039\n",
            "Epoch 11/100\n",
            "29/29 [==============================] - 4s 125ms/step - loss: 0.0048\n",
            "Epoch 12/100\n",
            "29/29 [==============================] - 4s 125ms/step - loss: 0.0039\n",
            "Epoch 13/100\n",
            "29/29 [==============================] - 4s 128ms/step - loss: 0.0039\n",
            "Epoch 14/100\n",
            "29/29 [==============================] - 4s 125ms/step - loss: 0.0041\n",
            "Epoch 15/100\n",
            "29/29 [==============================] - 4s 127ms/step - loss: 0.0036\n",
            "Epoch 16/100\n",
            "29/29 [==============================] - 4s 127ms/step - loss: 0.0034\n",
            "Epoch 17/100\n",
            "29/29 [==============================] - 4s 129ms/step - loss: 0.0038\n",
            "Epoch 18/100\n",
            "29/29 [==============================] - 4s 126ms/step - loss: 0.0037\n",
            "Epoch 19/100\n",
            "29/29 [==============================] - 4s 128ms/step - loss: 0.0035\n",
            "Epoch 20/100\n",
            "29/29 [==============================] - 4s 126ms/step - loss: 0.0033\n",
            "Epoch 21/100\n",
            "29/29 [==============================] - 4s 127ms/step - loss: 0.0032\n",
            "Epoch 22/100\n",
            "29/29 [==============================] - 4s 126ms/step - loss: 0.0041\n",
            "Epoch 23/100\n",
            "29/29 [==============================] - 4s 126ms/step - loss: 0.0035\n",
            "Epoch 24/100\n",
            "29/29 [==============================] - 4s 125ms/step - loss: 0.0031\n",
            "Epoch 25/100\n",
            "29/29 [==============================] - 4s 128ms/step - loss: 0.0030\n",
            "Epoch 26/100\n",
            "29/29 [==============================] - 4s 127ms/step - loss: 0.0030\n",
            "Epoch 27/100\n",
            "29/29 [==============================] - 4s 128ms/step - loss: 0.0032\n",
            "Epoch 28/100\n",
            "29/29 [==============================] - 4s 127ms/step - loss: 0.0029\n",
            "Epoch 29/100\n",
            "29/29 [==============================] - 4s 128ms/step - loss: 0.0029\n",
            "Epoch 30/100\n",
            "29/29 [==============================] - 4s 125ms/step - loss: 0.0025\n",
            "Epoch 31/100\n",
            "29/29 [==============================] - 4s 123ms/step - loss: 0.0025\n",
            "Epoch 32/100\n",
            "29/29 [==============================] - 4s 133ms/step - loss: 0.0028\n",
            "Epoch 33/100\n",
            "29/29 [==============================] - 4s 128ms/step - loss: 0.0031\n",
            "Epoch 34/100\n",
            "29/29 [==============================] - 4s 133ms/step - loss: 0.0030\n",
            "Epoch 35/100\n",
            "29/29 [==============================] - 4s 127ms/step - loss: 0.0029\n",
            "Epoch 36/100\n",
            "29/29 [==============================] - 4s 130ms/step - loss: 0.0024\n",
            "Epoch 37/100\n",
            "29/29 [==============================] - 4s 130ms/step - loss: 0.0027\n",
            "Epoch 38/100\n",
            "29/29 [==============================] - 4s 129ms/step - loss: 0.0025\n",
            "Epoch 39/100\n",
            "29/29 [==============================] - 4s 128ms/step - loss: 0.0026\n",
            "Epoch 40/100\n",
            "29/29 [==============================] - 4s 130ms/step - loss: 0.0024\n",
            "Epoch 41/100\n",
            "29/29 [==============================] - 4s 133ms/step - loss: 0.0025\n",
            "Epoch 42/100\n",
            "29/29 [==============================] - 4s 129ms/step - loss: 0.0025\n",
            "Epoch 43/100\n",
            "29/29 [==============================] - 4s 125ms/step - loss: 0.0023\n",
            "Epoch 44/100\n",
            "29/29 [==============================] - 4s 126ms/step - loss: 0.0023\n",
            "Epoch 45/100\n",
            "29/29 [==============================] - 4s 131ms/step - loss: 0.0020\n",
            "Epoch 46/100\n",
            "29/29 [==============================] - 4s 126ms/step - loss: 0.0021\n",
            "Epoch 47/100\n",
            "29/29 [==============================] - 4s 127ms/step - loss: 0.0024\n",
            "Epoch 48/100\n",
            "29/29 [==============================] - 4s 127ms/step - loss: 0.0022\n",
            "Epoch 49/100\n",
            "29/29 [==============================] - 4s 130ms/step - loss: 0.0022\n",
            "Epoch 50/100\n",
            "29/29 [==============================] - 4s 127ms/step - loss: 0.0020\n",
            "Epoch 51/100\n",
            "29/29 [==============================] - 4s 126ms/step - loss: 0.0020\n",
            "Epoch 52/100\n",
            "29/29 [==============================] - 4s 127ms/step - loss: 0.0020\n",
            "Epoch 53/100\n",
            "29/29 [==============================] - 4s 130ms/step - loss: 0.0019\n",
            "Epoch 54/100\n",
            "29/29 [==============================] - 4s 130ms/step - loss: 0.0020\n",
            "Epoch 55/100\n",
            "29/29 [==============================] - 4s 129ms/step - loss: 0.0023\n",
            "Epoch 56/100\n",
            "29/29 [==============================] - 4s 128ms/step - loss: 0.0020\n",
            "Epoch 57/100\n",
            "29/29 [==============================] - 4s 130ms/step - loss: 0.0019\n",
            "Epoch 58/100\n",
            "29/29 [==============================] - 4s 132ms/step - loss: 0.0023\n",
            "Epoch 59/100\n",
            "29/29 [==============================] - 4s 125ms/step - loss: 0.0020\n",
            "Epoch 60/100\n",
            "29/29 [==============================] - 4s 130ms/step - loss: 0.0021\n",
            "Epoch 61/100\n",
            "29/29 [==============================] - 4s 128ms/step - loss: 0.0019\n",
            "Epoch 62/100\n",
            "29/29 [==============================] - 4s 128ms/step - loss: 0.0020\n",
            "Epoch 63/100\n",
            "29/29 [==============================] - 4s 125ms/step - loss: 0.0019\n",
            "Epoch 64/100\n",
            "29/29 [==============================] - 4s 129ms/step - loss: 0.0019\n",
            "Epoch 65/100\n",
            "29/29 [==============================] - 4s 129ms/step - loss: 0.0020\n",
            "Epoch 66/100\n",
            "29/29 [==============================] - 4s 129ms/step - loss: 0.0022\n",
            "Epoch 67/100\n",
            "29/29 [==============================] - 4s 127ms/step - loss: 0.0016\n",
            "Epoch 68/100\n",
            "29/29 [==============================] - 4s 130ms/step - loss: 0.0017\n",
            "Epoch 69/100\n",
            "29/29 [==============================] - 4s 128ms/step - loss: 0.0018\n",
            "Epoch 70/100\n",
            "29/29 [==============================] - 4s 131ms/step - loss: 0.0018\n",
            "Epoch 71/100\n",
            "29/29 [==============================] - 4s 126ms/step - loss: 0.0019\n",
            "Epoch 72/100\n",
            "29/29 [==============================] - 4s 130ms/step - loss: 0.0019\n",
            "Epoch 73/100\n",
            "29/29 [==============================] - 4s 127ms/step - loss: 0.0016\n",
            "Epoch 74/100\n",
            "29/29 [==============================] - 4s 127ms/step - loss: 0.0016\n",
            "Epoch 75/100\n",
            "29/29 [==============================] - 4s 125ms/step - loss: 0.0018\n",
            "Epoch 76/100\n",
            "29/29 [==============================] - 4s 128ms/step - loss: 0.0018\n",
            "Epoch 77/100\n",
            "29/29 [==============================] - 4s 127ms/step - loss: 0.0018\n",
            "Epoch 78/100\n",
            "29/29 [==============================] - 4s 126ms/step - loss: 0.0017\n",
            "Epoch 79/100\n",
            "29/29 [==============================] - 4s 127ms/step - loss: 0.0017\n",
            "Epoch 80/100\n",
            "29/29 [==============================] - 4s 126ms/step - loss: 0.0019\n",
            "Epoch 81/100\n",
            "29/29 [==============================] - 4s 130ms/step - loss: 0.0016\n",
            "Epoch 82/100\n",
            "29/29 [==============================] - 4s 126ms/step - loss: 0.0017\n",
            "Epoch 83/100\n",
            "29/29 [==============================] - 4s 127ms/step - loss: 0.0017\n",
            "Epoch 84/100\n",
            "29/29 [==============================] - 4s 129ms/step - loss: 0.0016\n",
            "Epoch 85/100\n",
            "29/29 [==============================] - 4s 125ms/step - loss: 0.0015\n",
            "Epoch 86/100\n",
            "29/29 [==============================] - 4s 126ms/step - loss: 0.0015\n",
            "Epoch 87/100\n",
            "29/29 [==============================] - 4s 127ms/step - loss: 0.0015\n",
            "Epoch 88/100\n",
            "29/29 [==============================] - 4s 126ms/step - loss: 0.0015\n",
            "Epoch 89/100\n",
            "29/29 [==============================] - 4s 125ms/step - loss: 0.0015\n",
            "Epoch 90/100\n",
            "29/29 [==============================] - 4s 131ms/step - loss: 0.0015\n",
            "Epoch 91/100\n",
            "29/29 [==============================] - 4s 130ms/step - loss: 0.0015\n",
            "Epoch 92/100\n",
            "29/29 [==============================] - 4s 127ms/step - loss: 0.0016\n",
            "Epoch 93/100\n",
            "29/29 [==============================] - 4s 132ms/step - loss: 0.0015\n",
            "Epoch 94/100\n",
            "29/29 [==============================] - 4s 128ms/step - loss: 0.0014\n",
            "Epoch 95/100\n",
            "29/29 [==============================] - 4s 127ms/step - loss: 0.0015\n",
            "Epoch 96/100\n",
            "29/29 [==============================] - 4s 124ms/step - loss: 0.0017\n",
            "Epoch 97/100\n",
            "29/29 [==============================] - 4s 130ms/step - loss: 0.0014\n",
            "Epoch 98/100\n",
            "29/29 [==============================] - 4s 128ms/step - loss: 0.0014\n",
            "Epoch 99/100\n",
            "29/29 [==============================] - 4s 126ms/step - loss: 0.0013\n",
            "Epoch 100/100\n",
            "29/29 [==============================] - 4s 128ms/step - loss: 0.0014\n"
          ]
        },
        {
          "output_type": "execute_result",
          "data": {
            "text/plain": [
              "<keras.callbacks.History at 0x7fe497b7a250>"
            ]
          },
          "metadata": {},
          "execution_count": 26
        }
      ]
    },
    {
      "cell_type": "code",
      "metadata": {
        "id": "rPRLs2a92je3"
      },
      "source": [
        "FUTURE_PREDICTION_RANGE = 60 #@param {type : \"string\"}\n",
        "\n",
        "#Concatenating the training dataset and test dataset by row to form a total dataset\n",
        "dataset_total = pd.concat((train_df[\"Open\"], test_df[\"Open\"]), axis = 0)\n",
        "\n",
        "#Extract last 60 data from the training dataset + all the data from the test dataset (60 because we trained the model with 60 timesteps)\n",
        "inputs = dataset_total[len(dataset_total) - len(test_df) - 60:].values\n",
        "inputs = inputs.reshape(-1,1)\n",
        "#print(inputs)\n",
        "#Feature Scaling\n",
        "tmp=train_df[\"Open\"].values\n",
        "tmp=tmp.reshape(-1,1)\n",
        "sc.fit(tmp)\n",
        "inputs = sc.transform(inputs)"
      ],
      "execution_count": null,
      "outputs": []
    },
    {
      "cell_type": "code",
      "metadata": {
        "id": "r1KWzQw45pzl"
      },
      "source": [
        "x_test = []\n",
        "for i in range(60,60+FUTURE_PREDICTION_RANGE): #test data contains 80 rows of data\n",
        "    x_test.append(inputs[i-60:i,0])\n",
        "\n",
        "x_test  = np.array(x_test) \n",
        "\n",
        "x_test = np.reshape(x_test, (x_test.shape[0],x_test.shape[1],1)) #Converts to the 3d format that can go into the RNN as input"
      ],
      "execution_count": null,
      "outputs": []
    },
    {
      "cell_type": "code",
      "metadata": {
        "id": "JV9jFwsj5xD9"
      },
      "source": [
        "predicted_stock_price = regressor.predict(x_test)\n",
        "predicted_stock_price  = sc.inverse_transform(predicted_stock_price )"
      ],
      "execution_count": null,
      "outputs": []
    },
    {
      "cell_type": "code",
      "metadata": {
        "colab": {
          "base_uri": "https://localhost:8080/"
        },
        "id": "rn4exxo757yt",
        "outputId": "497dc155-417c-446c-a7f5-dadb0ee8194e"
      },
      "source": [
        "predicted_stock_price.shape"
      ],
      "execution_count": null,
      "outputs": [
        {
          "output_type": "execute_result",
          "data": {
            "text/plain": [
              "(60, 1)"
            ]
          },
          "metadata": {},
          "execution_count": 60
        }
      ]
    },
    {
      "cell_type": "code",
      "metadata": {
        "colab": {
          "base_uri": "https://localhost:8080/"
        },
        "id": "nORqTYAF6AL-",
        "outputId": "3286e6b9-02eb-428f-c175-316ae5cf517d"
      },
      "source": [
        "real_stock_price= test_df['Open'].values[:FUTURE_PREDICTION_RANGE]\n",
        "real_stock_price=real_stock_price.reshape(-1,1)\n",
        "real_stock_price.shape"
      ],
      "execution_count": null,
      "outputs": [
        {
          "output_type": "execute_result",
          "data": {
            "text/plain": [
              "(60, 1)"
            ]
          },
          "metadata": {},
          "execution_count": 61
        }
      ]
    },
    {
      "cell_type": "code",
      "metadata": {
        "colab": {
          "base_uri": "https://localhost:8080/",
          "height": 295
        },
        "id": "hY7TTlk852-R",
        "outputId": "33cef005-e1cb-4a31-9fe6-85446da8a471"
      },
      "source": [
        "plt.plot(predicted_stock_price, color=\"red\", label= \"Predicted\")\n",
        "plt.plot(real_stock_price, color=\"green\", label= \"Real\")\n",
        "plt.xlabel(\"Period\")\n",
        "plt.ylabel(\"Stock Price\")\n",
        "plt.title(f'Stock Price Forecast for {STOCK}')\n",
        "plt.legend()\n",
        "plt.show()"
      ],
      "execution_count": null,
      "outputs": [
        {
          "output_type": "display_data",
          "data": {
            "image/png": "[encoded data removed]",
            "text/plain": [
              "<Figure size 432x288 with 1 Axes>"
            ]
          },
          "metadata": {
            "needs_background": "light"
          }
        }
      ]
    },
    {
      "cell_type": "code",
      "metadata": {
        "colab": {
          "base_uri": "https://localhost:8080/"
        },
        "id": "HwPtvDfO7ysA",
        "outputId": "d500b8f3-f75f-4c79-e888-cac8c3a22689"
      },
      "source": [
        "#Model Evaluation\n",
        "from sklearn.metrics import mean_absolute_error\n",
        "from sklearn.metrics import mean_squared_error\n",
        "from sklearn.metrics import r2_score\n",
        "\n",
        "import math \n",
        "\n",
        "\n",
        "\n",
        "MAE_RNN = mean_absolute_error(real_stock_price,predicted_stock_price) #8.477951782226564\n",
        "\n",
        "MSE_RNN = mean_squared_error(real_stock_price,predicted_stock_price) #131.51032080751082\n",
        "\n",
        "RMSE_RNN = math.sqrt(MSE_RNN) #11.467794940942692\n",
        "\n",
        "R2_RNN = r2_score(real_stock_price,predicted_stock_price) #0.39490875968951855\n",
        "\n",
        "real_stock_price_mean = real_stock_price.mean()  #807.5260000000001\n",
        "\n",
        "\n",
        "print(\"Mean Absolute Error:\", MAE_RNN)\n",
        "print(\"Mean Squared Error:\", MSE_RNN)\n",
        "print(\"Root Mean Squared Error:\", RMSE_RNN)\n",
        "print(\"R Squared:\", R2_RNN)\n",
        "print(\"Real Stock Price Mean:\", real_stock_price_mean)\n",
        "print(\"RMSE_RNN/REAL_STOCK_PRICE_MEAN:\", RMSE_RNN/real_stock_price_mean) #0.014201146391500325\n",
        "\n",
        "print(\"mean_absolute_percentage_error :\", MAE_RNN/real_stock_price_mean *100 , \" %\")"
      ],
      "execution_count": null,
      "outputs": [
        {
          "output_type": "stream",
          "name": "stdout",
          "text": [
            "Mean Absolute Error: 26.120338338216143\n",
            "Mean Squared Error: 1071.6529622989867\n",
            "Root Mean Squared Error: 32.736110983117506\n",
            "R Squared: 0.7531622048681273\n",
            "Real Stock Price Mean: 688.3758333333334\n",
            "RMSE_RNN/REAL_STOCK_PRICE_MEAN: 0.047555578505129835\n",
            "mean_absolute_percentage_error : 3.794487992370855  %\n"
          ]
        }
      ]
    }
  ]
}